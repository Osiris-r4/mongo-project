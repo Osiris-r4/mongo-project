{
 "cells": [
  {
   "cell_type": "markdown",
   "metadata": {},
   "source": [
    "## MONGO AND NEAR BY QUERIES"
   ]
  },
  {
   "cell_type": "code",
   "execution_count": 186,
   "metadata": {},
   "outputs": [],
   "source": [
    "from pymongo import MongoClient\n",
    "import folium\n",
    "import pandas as pd\n",
    "import matplotlib\n",
    "import numpy as np\n",
    "import pandas as pd\n",
    "import os\n",
    "import requests\n",
    "import json\n",
    "from pandas.io.json import json_normalize\n",
    "import re\n",
    "from SRC.formulas_calculo import*"
   ]
  },
  {
   "cell_type": "code",
   "execution_count": 187,
   "metadata": {},
   "outputs": [],
   "source": [
    "dbName = \"companies\"\n",
    "mongodbURL = f\"mongodb://localhost/{dbName}\"\n",
    "client = MongoClient(mongodbURL, connectTimeoutMS=2000, serverSelectionTimeoutMS=2000)\n",
    "db = client.get_database()"
   ]
  },
  {
   "cell_type": "markdown",
   "metadata": {},
   "source": [
    "> The first thing Im gonna do, is import from Mongo all the data frames that ill be working with"
   ]
  },
  {
   "cell_type": "code",
   "execution_count": 188,
   "metadata": {},
   "outputs": [
    {
     "data": {
      "text/html": [
       "<div>\n",
       "<style scoped>\n",
       "    .dataframe tbody tr th:only-of-type {\n",
       "        vertical-align: middle;\n",
       "    }\n",
       "\n",
       "    .dataframe tbody tr th {\n",
       "        vertical-align: top;\n",
       "    }\n",
       "\n",
       "    .dataframe thead th {\n",
       "        text-align: right;\n",
       "    }\n",
       "</style>\n",
       "<table border=\"1\" class=\"dataframe\">\n",
       "  <thead>\n",
       "    <tr style=\"text-align: right;\">\n",
       "      <th></th>\n",
       "      <th>_id</th>\n",
       "      <th>name</th>\n",
       "      <th>latitude</th>\n",
       "      <th>longitude</th>\n",
       "      <th>geopoint</th>\n",
       "    </tr>\n",
       "  </thead>\n",
       "  <tbody>\n",
       "    <tr>\n",
       "      <th>0</th>\n",
       "      <td>5efa38294c4b4802bbdf6e7c</td>\n",
       "      <td>Kongregate</td>\n",
       "      <td>37.786942</td>\n",
       "      <td>-122.401245</td>\n",
       "      <td>{'type': 'Point', 'coordinates': [-122.401245,...</td>\n",
       "    </tr>\n",
       "    <tr>\n",
       "      <th>1</th>\n",
       "      <td>5efa38294c4b4802bbdf6e7d</td>\n",
       "      <td>Curse</td>\n",
       "      <td>37.787092</td>\n",
       "      <td>-122.399972</td>\n",
       "      <td>{'type': 'Point', 'coordinates': [-122.399972,...</td>\n",
       "    </tr>\n",
       "    <tr>\n",
       "      <th>2</th>\n",
       "      <td>5efa38294c4b4802bbdf6e7e</td>\n",
       "      <td>Kabam</td>\n",
       "      <td>37.394456</td>\n",
       "      <td>-122.078531</td>\n",
       "      <td>{'type': 'Point', 'coordinates': [-122.0785314...</td>\n",
       "    </tr>\n",
       "    <tr>\n",
       "      <th>3</th>\n",
       "      <td>5efa38294c4b4802bbdf6e7f</td>\n",
       "      <td>Zynga</td>\n",
       "      <td>37.765158</td>\n",
       "      <td>-122.404234</td>\n",
       "      <td>{'type': 'Point', 'coordinates': [-122.404234,...</td>\n",
       "    </tr>\n",
       "    <tr>\n",
       "      <th>4</th>\n",
       "      <td>5efa38294c4b4802bbdf6e80</td>\n",
       "      <td>KIXEYE</td>\n",
       "      <td>NaN</td>\n",
       "      <td>NaN</td>\n",
       "      <td>None</td>\n",
       "    </tr>\n",
       "  </tbody>\n",
       "</table>\n",
       "</div>"
      ],
      "text/plain": [
       "                        _id        name   latitude   longitude  \\\n",
       "0  5efa38294c4b4802bbdf6e7c  Kongregate  37.786942 -122.401245   \n",
       "1  5efa38294c4b4802bbdf6e7d       Curse  37.787092 -122.399972   \n",
       "2  5efa38294c4b4802bbdf6e7e       Kabam  37.394456 -122.078531   \n",
       "3  5efa38294c4b4802bbdf6e7f       Zynga  37.765158 -122.404234   \n",
       "4  5efa38294c4b4802bbdf6e80      KIXEYE        NaN         NaN   \n",
       "\n",
       "                                            geopoint  \n",
       "0  {'type': 'Point', 'coordinates': [-122.401245,...  \n",
       "1  {'type': 'Point', 'coordinates': [-122.399972,...  \n",
       "2  {'type': 'Point', 'coordinates': [-122.0785314...  \n",
       "3  {'type': 'Point', 'coordinates': [-122.404234,...  \n",
       "4                                               None  "
      ]
     },
     "execution_count": 188,
     "metadata": {},
     "output_type": "execute_result"
    }
   ],
   "source": [
    "cur =list(db.chosen_offices.find({},{\"name\":1,\"latitude\":1,\"longitude\":1, \"geopoint\":1}))\n",
    "office_location = pd.DataFrame(cur)\n",
    "office_location"
   ]
  },
  {
   "cell_type": "code",
   "execution_count": 189,
   "metadata": {},
   "outputs": [
    {
     "data": {
      "text/html": [
       "<div>\n",
       "<style scoped>\n",
       "    .dataframe tbody tr th:only-of-type {\n",
       "        vertical-align: middle;\n",
       "    }\n",
       "\n",
       "    .dataframe tbody tr th {\n",
       "        vertical-align: top;\n",
       "    }\n",
       "\n",
       "    .dataframe thead th {\n",
       "        text-align: right;\n",
       "    }\n",
       "</style>\n",
       "<table border=\"1\" class=\"dataframe\">\n",
       "  <thead>\n",
       "    <tr style=\"text-align: right;\">\n",
       "      <th></th>\n",
       "      <th>_id</th>\n",
       "      <th>name</th>\n",
       "      <th>latitude</th>\n",
       "      <th>longitude</th>\n",
       "      <th>geopoint</th>\n",
       "    </tr>\n",
       "  </thead>\n",
       "  <tbody>\n",
       "    <tr>\n",
       "      <th>0</th>\n",
       "      <td>5efa386a51051c08f12ccb4f</td>\n",
       "      <td>[The Grand]</td>\n",
       "      <td>37.779100</td>\n",
       "      <td>-122.397900</td>\n",
       "      <td>{'type': 'Point', 'coordinates': [-122.3979003...</td>\n",
       "    </tr>\n",
       "    <tr>\n",
       "      <th>1</th>\n",
       "      <td>5efa386a51051c08f12ccb50</td>\n",
       "      <td>[Smuggler's Cove]</td>\n",
       "      <td>37.779403</td>\n",
       "      <td>-122.423372</td>\n",
       "      <td>{'type': 'Point', 'coordinates': [-122.4233722...</td>\n",
       "    </tr>\n",
       "    <tr>\n",
       "      <th>2</th>\n",
       "      <td>5efa386a51051c08f12ccb51</td>\n",
       "      <td>[Edinburgh Castle Pub]</td>\n",
       "      <td>37.786127</td>\n",
       "      <td>-122.418957</td>\n",
       "      <td>{'type': 'Point', 'coordinates': [-122.4189571...</td>\n",
       "    </tr>\n",
       "    <tr>\n",
       "      <th>3</th>\n",
       "      <td>5efa386a51051c08f12ccb52</td>\n",
       "      <td>[Zero Zero]</td>\n",
       "      <td>37.781636</td>\n",
       "      <td>-122.402083</td>\n",
       "      <td>{'type': 'Point', 'coordinates': [-122.402083,...</td>\n",
       "    </tr>\n",
       "    <tr>\n",
       "      <th>4</th>\n",
       "      <td>5efa386a51051c08f12ccb53</td>\n",
       "      <td>[The Chapel]</td>\n",
       "      <td>37.760486</td>\n",
       "      <td>-122.421298</td>\n",
       "      <td>{'type': 'Point', 'coordinates': [-122.4212979...</td>\n",
       "    </tr>\n",
       "  </tbody>\n",
       "</table>\n",
       "</div>"
      ],
      "text/plain": [
       "                        _id                    name   latitude   longitude  \\\n",
       "0  5efa386a51051c08f12ccb4f             [The Grand]  37.779100 -122.397900   \n",
       "1  5efa386a51051c08f12ccb50       [Smuggler's Cove]  37.779403 -122.423372   \n",
       "2  5efa386a51051c08f12ccb51  [Edinburgh Castle Pub]  37.786127 -122.418957   \n",
       "3  5efa386a51051c08f12ccb52             [Zero Zero]  37.781636 -122.402083   \n",
       "4  5efa386a51051c08f12ccb53            [The Chapel]  37.760486 -122.421298   \n",
       "\n",
       "                                            geopoint  \n",
       "0  {'type': 'Point', 'coordinates': [-122.3979003...  \n",
       "1  {'type': 'Point', 'coordinates': [-122.4233722...  \n",
       "2  {'type': 'Point', 'coordinates': [-122.4189571...  \n",
       "3  {'type': 'Point', 'coordinates': [-122.402083,...  \n",
       "4  {'type': 'Point', 'coordinates': [-122.4212979...  "
      ]
     },
     "execution_count": 189,
     "metadata": {},
     "output_type": "execute_result"
    }
   ],
   "source": [
    "cur =list(db.nightclubs.find({},{\"name\":1,\"latitude\":1,\"longitude\":1, \"geopoint\":1}))\n",
    "nightclubs_location = pd.DataFrame(cur)\n",
    "nightclubs_location.head()\n"
   ]
  },
  {
   "cell_type": "code",
   "execution_count": 190,
   "metadata": {},
   "outputs": [
    {
     "data": {
      "text/html": [
       "<div>\n",
       "<style scoped>\n",
       "    .dataframe tbody tr th:only-of-type {\n",
       "        vertical-align: middle;\n",
       "    }\n",
       "\n",
       "    .dataframe tbody tr th {\n",
       "        vertical-align: top;\n",
       "    }\n",
       "\n",
       "    .dataframe thead th {\n",
       "        text-align: right;\n",
       "    }\n",
       "</style>\n",
       "<table border=\"1\" class=\"dataframe\">\n",
       "  <thead>\n",
       "    <tr style=\"text-align: right;\">\n",
       "      <th></th>\n",
       "      <th>_id</th>\n",
       "      <th>name</th>\n",
       "      <th>latitude</th>\n",
       "      <th>longitude</th>\n",
       "      <th>geopoint</th>\n",
       "    </tr>\n",
       "  </thead>\n",
       "  <tbody>\n",
       "    <tr>\n",
       "      <th>0</th>\n",
       "      <td>5efa38849db4a6342ef5b134</td>\n",
       "      <td>[Starbucks]</td>\n",
       "      <td>37.796647</td>\n",
       "      <td>-122.394850</td>\n",
       "      <td>{'type': 'Point', 'coordinates': [-122.39485, ...</td>\n",
       "    </tr>\n",
       "    <tr>\n",
       "      <th>1</th>\n",
       "      <td>5efa38849db4a6342ef5b135</td>\n",
       "      <td>[Starbucks]</td>\n",
       "      <td>37.784124</td>\n",
       "      <td>-122.407653</td>\n",
       "      <td>{'type': 'Point', 'coordinates': [-122.407653,...</td>\n",
       "    </tr>\n",
       "    <tr>\n",
       "      <th>2</th>\n",
       "      <td>5efa38849db4a6342ef5b136</td>\n",
       "      <td>[Starbucks]</td>\n",
       "      <td>37.789146</td>\n",
       "      <td>-122.408456</td>\n",
       "      <td>{'type': 'Point', 'coordinates': [-122.408456,...</td>\n",
       "    </tr>\n",
       "    <tr>\n",
       "      <th>3</th>\n",
       "      <td>5efa38849db4a6342ef5b137</td>\n",
       "      <td>[Starbucks]</td>\n",
       "      <td>37.786261</td>\n",
       "      <td>-122.453194</td>\n",
       "      <td>{'type': 'Point', 'coordinates': [-122.453194,...</td>\n",
       "    </tr>\n",
       "    <tr>\n",
       "      <th>4</th>\n",
       "      <td>5efa38849db4a6342ef5b138</td>\n",
       "      <td>[Starbucks]</td>\n",
       "      <td>37.784855</td>\n",
       "      <td>-122.399996</td>\n",
       "      <td>{'type': 'Point', 'coordinates': [-122.3999959...</td>\n",
       "    </tr>\n",
       "  </tbody>\n",
       "</table>\n",
       "</div>"
      ],
      "text/plain": [
       "                        _id         name   latitude   longitude  \\\n",
       "0  5efa38849db4a6342ef5b134  [Starbucks]  37.796647 -122.394850   \n",
       "1  5efa38849db4a6342ef5b135  [Starbucks]  37.784124 -122.407653   \n",
       "2  5efa38849db4a6342ef5b136  [Starbucks]  37.789146 -122.408456   \n",
       "3  5efa38849db4a6342ef5b137  [Starbucks]  37.786261 -122.453194   \n",
       "4  5efa38849db4a6342ef5b138  [Starbucks]  37.784855 -122.399996   \n",
       "\n",
       "                                            geopoint  \n",
       "0  {'type': 'Point', 'coordinates': [-122.39485, ...  \n",
       "1  {'type': 'Point', 'coordinates': [-122.407653,...  \n",
       "2  {'type': 'Point', 'coordinates': [-122.408456,...  \n",
       "3  {'type': 'Point', 'coordinates': [-122.453194,...  \n",
       "4  {'type': 'Point', 'coordinates': [-122.3999959...  "
      ]
     },
     "execution_count": 190,
     "metadata": {},
     "output_type": "execute_result"
    }
   ],
   "source": [
    "cur =list(db.starbucks_place.find({},{\"name\":1,\"latitude\":1,\"longitude\":1, \"geopoint\":1}))\n",
    "starbucks_location = pd.DataFrame(cur)\n",
    "starbucks_location.head()"
   ]
  },
  {
   "cell_type": "code",
   "execution_count": 191,
   "metadata": {},
   "outputs": [
    {
     "data": {
      "text/html": [
       "<div>\n",
       "<style scoped>\n",
       "    .dataframe tbody tr th:only-of-type {\n",
       "        vertical-align: middle;\n",
       "    }\n",
       "\n",
       "    .dataframe tbody tr th {\n",
       "        vertical-align: top;\n",
       "    }\n",
       "\n",
       "    .dataframe thead th {\n",
       "        text-align: right;\n",
       "    }\n",
       "</style>\n",
       "<table border=\"1\" class=\"dataframe\">\n",
       "  <thead>\n",
       "    <tr style=\"text-align: right;\">\n",
       "      <th></th>\n",
       "      <th>_id</th>\n",
       "      <th>name</th>\n",
       "      <th>latitude</th>\n",
       "      <th>longitude</th>\n",
       "      <th>geopoint</th>\n",
       "    </tr>\n",
       "  </thead>\n",
       "  <tbody>\n",
       "    <tr>\n",
       "      <th>0</th>\n",
       "      <td>5efa38afaf923e76c3898dce</td>\n",
       "      <td>[The Flying Falafel]</td>\n",
       "      <td>37.781266</td>\n",
       "      <td>-122.411230</td>\n",
       "      <td>{'type': 'Point', 'coordinates': [-122.4112304...</td>\n",
       "    </tr>\n",
       "    <tr>\n",
       "      <th>1</th>\n",
       "      <td>5efa38afaf923e76c3898dcf</td>\n",
       "      <td>[Golden Era]</td>\n",
       "      <td>37.781318</td>\n",
       "      <td>-122.416697</td>\n",
       "      <td>{'type': 'Point', 'coordinates': [-122.4166966...</td>\n",
       "    </tr>\n",
       "    <tr>\n",
       "      <th>2</th>\n",
       "      <td>5efa38afaf923e76c3898dd0</td>\n",
       "      <td>[Indochine Vegan]</td>\n",
       "      <td>37.764626</td>\n",
       "      <td>-122.422160</td>\n",
       "      <td>{'type': 'Point', 'coordinates': [-122.4221595...</td>\n",
       "    </tr>\n",
       "    <tr>\n",
       "      <th>3</th>\n",
       "      <td>5efa38afaf923e76c3898dd1</td>\n",
       "      <td>[Ananda Fuara]</td>\n",
       "      <td>37.777875</td>\n",
       "      <td>-122.416294</td>\n",
       "      <td>{'type': 'Point', 'coordinates': [-122.416294,...</td>\n",
       "    </tr>\n",
       "    <tr>\n",
       "      <th>4</th>\n",
       "      <td>5efa38afaf923e76c3898dd2</td>\n",
       "      <td>[Loving Hut]</td>\n",
       "      <td>37.784307</td>\n",
       "      <td>-122.406012</td>\n",
       "      <td>{'type': 'Point', 'coordinates': [-122.406012,...</td>\n",
       "    </tr>\n",
       "  </tbody>\n",
       "</table>\n",
       "</div>"
      ],
      "text/plain": [
       "                        _id                  name   latitude   longitude  \\\n",
       "0  5efa38afaf923e76c3898dce  [The Flying Falafel]  37.781266 -122.411230   \n",
       "1  5efa38afaf923e76c3898dcf          [Golden Era]  37.781318 -122.416697   \n",
       "2  5efa38afaf923e76c3898dd0     [Indochine Vegan]  37.764626 -122.422160   \n",
       "3  5efa38afaf923e76c3898dd1        [Ananda Fuara]  37.777875 -122.416294   \n",
       "4  5efa38afaf923e76c3898dd2          [Loving Hut]  37.784307 -122.406012   \n",
       "\n",
       "                                            geopoint  \n",
       "0  {'type': 'Point', 'coordinates': [-122.4112304...  \n",
       "1  {'type': 'Point', 'coordinates': [-122.4166966...  \n",
       "2  {'type': 'Point', 'coordinates': [-122.4221595...  \n",
       "3  {'type': 'Point', 'coordinates': [-122.416294,...  \n",
       "4  {'type': 'Point', 'coordinates': [-122.406012,...  "
      ]
     },
     "execution_count": 191,
     "metadata": {},
     "output_type": "execute_result"
    }
   ],
   "source": [
    "cur =list(db.vegan.find({},{\"name\":1,\"latitude\":1,\"longitude\":1, \"geopoint\":1}))\n",
    "vegan_location = pd.DataFrame(cur)\n",
    "vegan_location.head()"
   ]
  },
  {
   "cell_type": "code",
   "execution_count": 192,
   "metadata": {},
   "outputs": [
    {
     "data": {
      "text/html": [
       "<div>\n",
       "<style scoped>\n",
       "    .dataframe tbody tr th:only-of-type {\n",
       "        vertical-align: middle;\n",
       "    }\n",
       "\n",
       "    .dataframe tbody tr th {\n",
       "        vertical-align: top;\n",
       "    }\n",
       "\n",
       "    .dataframe thead th {\n",
       "        text-align: right;\n",
       "    }\n",
       "</style>\n",
       "<table border=\"1\" class=\"dataframe\">\n",
       "  <thead>\n",
       "    <tr style=\"text-align: right;\">\n",
       "      <th></th>\n",
       "      <th>_id</th>\n",
       "      <th>name</th>\n",
       "      <th>latitude</th>\n",
       "      <th>longitude</th>\n",
       "      <th>geopoint</th>\n",
       "    </tr>\n",
       "  </thead>\n",
       "  <tbody>\n",
       "    <tr>\n",
       "      <th>0</th>\n",
       "      <td>5efa389ffe122b1cba544978</td>\n",
       "      <td>[VCA San Francisco Veterinary Specialists]</td>\n",
       "      <td>37.761480</td>\n",
       "      <td>-122.412279</td>\n",
       "      <td>{'type': 'Point', 'coordinates': [-122.4122788...</td>\n",
       "    </tr>\n",
       "    <tr>\n",
       "      <th>1</th>\n",
       "      <td>5efa389ffe122b1cba544979</td>\n",
       "      <td>[San Francisco SPCA Veterinary Hospital Pacifi...</td>\n",
       "      <td>37.791284</td>\n",
       "      <td>-122.434625</td>\n",
       "      <td>{'type': 'Point', 'coordinates': [-122.434625,...</td>\n",
       "    </tr>\n",
       "    <tr>\n",
       "      <th>2</th>\n",
       "      <td>5efa389ffe122b1cba54497a</td>\n",
       "      <td>[Ocean Avenue Veterinary Hospital]</td>\n",
       "      <td>37.723144</td>\n",
       "      <td>-122.453253</td>\n",
       "      <td>{'type': 'Point', 'coordinates': [-122.4532528...</td>\n",
       "    </tr>\n",
       "    <tr>\n",
       "      <th>3</th>\n",
       "      <td>5efa389ffe122b1cba54497b</td>\n",
       "      <td>[Park Animal Hospital]</td>\n",
       "      <td>37.765639</td>\n",
       "      <td>-122.466607</td>\n",
       "      <td>{'type': 'Point', 'coordinates': [-122.466607,...</td>\n",
       "    </tr>\n",
       "    <tr>\n",
       "      <th>4</th>\n",
       "      <td>5efa389ffe122b1cba54497c</td>\n",
       "      <td>[San Francisco Pet Hospital]</td>\n",
       "      <td>37.776581</td>\n",
       "      <td>-122.439369</td>\n",
       "      <td>{'type': 'Point', 'coordinates': [-122.4393694...</td>\n",
       "    </tr>\n",
       "  </tbody>\n",
       "</table>\n",
       "</div>"
      ],
      "text/plain": [
       "                        _id  \\\n",
       "0  5efa389ffe122b1cba544978   \n",
       "1  5efa389ffe122b1cba544979   \n",
       "2  5efa389ffe122b1cba54497a   \n",
       "3  5efa389ffe122b1cba54497b   \n",
       "4  5efa389ffe122b1cba54497c   \n",
       "\n",
       "                                                name   latitude   longitude  \\\n",
       "0         [VCA San Francisco Veterinary Specialists]  37.761480 -122.412279   \n",
       "1  [San Francisco SPCA Veterinary Hospital Pacifi...  37.791284 -122.434625   \n",
       "2                 [Ocean Avenue Veterinary Hospital]  37.723144 -122.453253   \n",
       "3                             [Park Animal Hospital]  37.765639 -122.466607   \n",
       "4                       [San Francisco Pet Hospital]  37.776581 -122.439369   \n",
       "\n",
       "                                            geopoint  \n",
       "0  {'type': 'Point', 'coordinates': [-122.4122788...  \n",
       "1  {'type': 'Point', 'coordinates': [-122.434625,...  \n",
       "2  {'type': 'Point', 'coordinates': [-122.4532528...  \n",
       "3  {'type': 'Point', 'coordinates': [-122.466607,...  \n",
       "4  {'type': 'Point', 'coordinates': [-122.4393694...  "
      ]
     },
     "execution_count": 192,
     "metadata": {},
     "output_type": "execute_result"
    }
   ],
   "source": [
    "cur =list(db.veterinary_place.find({},{\"name\":1,\"latitude\":1,\"longitude\":1, \"geopoint\":1}))\n",
    "veterinary_location = pd.DataFrame(cur)\n",
    "veterinary_location.head()"
   ]
  },
  {
   "cell_type": "markdown",
   "metadata": {},
   "source": [
    "## QUERY TO GEOCODE\n",
    "\n",
    "> Next, using the functions geoQueryNear and a For loop I will try to find out the nearby starbucks from my desire offices. In other words, figure out how many starbucks are in a 500m radious from each office location"
   ]
  },
  {
   "cell_type": "code",
   "execution_count": 193,
   "metadata": {},
   "outputs": [
    {
     "data": {
      "text/plain": [
       "'\\ndef geocode(address):\\n    res = requests.get(f\"https://geocode.xyz/{address}\", params={\"json\":1})\\n    data = res.json()\\n    return {\\n        \"type\":\"Point\",\\n        \"coordinates\":[float(data[\"longt\"]),float(data[\"latt\"])]\\n    }\\n'"
      ]
     },
     "execution_count": 193,
     "metadata": {},
     "output_type": "execute_result"
    }
   ],
   "source": [
    "\"\"\"\n",
    "def geocode(address):\n",
    "    res = requests.get(f\"https://geocode.xyz/{address}\", params={\"json\":1})\n",
    "    data = res.json()\n",
    "    return {\n",
    "        \"type\":\"Point\",\n",
    "        \"coordinates\":[float(data[\"longt\"]),float(data[\"latt\"])]\n",
    "    }\n",
    "\"\"\"    "
   ]
  },
  {
   "cell_type": "code",
   "execution_count": 194,
   "metadata": {},
   "outputs": [
    {
     "data": {
      "text/plain": [
       "'\\ndef geoQueryNear(point,radius=10000):\\n    return {\\n        \"geopoint\":{\\n            \"$near\": {\\n                \"$geometry\": point,\\n                \"$maxDistance\": radius,\\n                \"$minDistance\": 0\\n            }\\n        }\\n    }\\n'"
      ]
     },
     "execution_count": 194,
     "metadata": {},
     "output_type": "execute_result"
    }
   ],
   "source": [
    "\"\"\"\n",
    "def geoQueryNear(point,radius=10000):\n",
    "    return {\n",
    "        \"geopoint\":{\n",
    "            \"$near\": {\n",
    "                \"$geometry\": point,\n",
    "                \"$maxDistance\": radius,\n",
    "                \"$minDistance\": 0\n",
    "            }\n",
    "        }\n",
    "    }\n",
    "\"\"\"    "
   ]
  },
  {
   "cell_type": "code",
   "execution_count": 195,
   "metadata": {},
   "outputs": [
    {
     "data": {
      "text/plain": [
       "[[],\n",
       " [],\n",
       " [],\n",
       " [],\n",
       " [{'name': 'Curse',\n",
       "   'category_code': 'games_video',\n",
       "   'total_money_raised': '$12M',\n",
       "   'address1': '60 Broadway',\n",
       "   'city': 'San Francisco',\n",
       "   'state_code': 'CA',\n",
       "   'country_code': 'USA',\n",
       "   'latitude': 37.787092,\n",
       "   'longitude': -122.399972,\n",
       "   'geopoint': {'type': 'Point', 'coordinates': [-122.399972, 37.787092]}},\n",
       "  {'name': 'Kongregate',\n",
       "   'category_code': 'games_video',\n",
       "   'total_money_raised': '$19M',\n",
       "   'address1': '2 Shaw Alley',\n",
       "   'city': 'San Francisco',\n",
       "   'state_code': 'CA',\n",
       "   'country_code': 'USA',\n",
       "   'latitude': 37.786942,\n",
       "   'longitude': -122.401245,\n",
       "   'geopoint': {'type': 'Point', 'coordinates': [-122.401245, 37.786942]}}],\n",
       " [],\n",
       " [],\n",
       " [],\n",
       " [],\n",
       " [{'name': 'Kongregate',\n",
       "   'category_code': 'games_video',\n",
       "   'total_money_raised': '$19M',\n",
       "   'address1': '2 Shaw Alley',\n",
       "   'city': 'San Francisco',\n",
       "   'state_code': 'CA',\n",
       "   'country_code': 'USA',\n",
       "   'latitude': 37.786942,\n",
       "   'longitude': -122.401245,\n",
       "   'geopoint': {'type': 'Point', 'coordinates': [-122.401245, 37.786942]}},\n",
       "  {'name': 'Curse',\n",
       "   'category_code': 'games_video',\n",
       "   'total_money_raised': '$12M',\n",
       "   'address1': '60 Broadway',\n",
       "   'city': 'San Francisco',\n",
       "   'state_code': 'CA',\n",
       "   'country_code': 'USA',\n",
       "   'latitude': 37.787092,\n",
       "   'longitude': -122.399972,\n",
       "   'geopoint': {'type': 'Point', 'coordinates': [-122.399972, 37.787092]}}],\n",
       " [],\n",
       " [],\n",
       " [],\n",
       " [],\n",
       " [],\n",
       " [],\n",
       " [],\n",
       " [],\n",
       " [],\n",
       " []]"
      ]
     },
     "execution_count": 195,
     "metadata": {},
     "output_type": "execute_result"
    }
   ],
   "source": [
    "starbucks = []\n",
    "for i in range(len(starbucks_location)):\n",
    "    q = db.chosen_offices.find(geoQueryNear(starbucks_location.iloc[i].geopoint, radius=500),{\"_id\":0,\"company_id\":0})\n",
    "    near_offices = list(q)\n",
    "    starbucks.append(near_offices)\n",
    "starbucks\n"
   ]
  },
  {
   "cell_type": "markdown",
   "metadata": {},
   "source": [
    "> The list needs to be flatten in order to convert it into a dataframe"
   ]
  },
  {
   "cell_type": "code",
   "execution_count": 196,
   "metadata": {},
   "outputs": [
    {
     "data": {
      "text/plain": [
       "Curse         2\n",
       "Kongregate    2\n",
       "Name: name, dtype: int64"
      ]
     },
     "execution_count": 196,
     "metadata": {},
     "output_type": "execute_result"
    }
   ],
   "source": [
    "starbucks_close = [data for enterprise in starbucks for data in enterprise]\n",
    "starbucks_close = pd.DataFrame(starbucks_close)\n",
    "starbucks_close[\"name\"].value_counts()"
   ]
  },
  {
   "cell_type": "markdown",
   "metadata": {},
   "source": [
    "> I will repeat the same procedure for: \n",
    "    - NightClubs\n",
    "    - Vegan Restaurants\n",
    "    - Veterinaries"
   ]
  },
  {
   "cell_type": "code",
   "execution_count": 197,
   "metadata": {},
   "outputs": [
    {
     "data": {
      "text/plain": [
       "[{'name': 'Curse',\n",
       "  'category_code': 'games_video',\n",
       "  'total_money_raised': '$12M',\n",
       "  'address1': '60 Broadway',\n",
       "  'city': 'San Francisco',\n",
       "  'state_code': 'CA',\n",
       "  'country_code': 'USA',\n",
       "  'latitude': 37.787092,\n",
       "  'longitude': -122.399972,\n",
       "  'geopoint': {'type': 'Point', 'coordinates': [-122.399972, 37.787092]}},\n",
       " {'name': 'Kongregate',\n",
       "  'category_code': 'games_video',\n",
       "  'total_money_raised': '$19M',\n",
       "  'address1': '2 Shaw Alley',\n",
       "  'city': 'San Francisco',\n",
       "  'state_code': 'CA',\n",
       "  'country_code': 'USA',\n",
       "  'latitude': 37.786942,\n",
       "  'longitude': -122.401245,\n",
       "  'geopoint': {'type': 'Point', 'coordinates': [-122.401245, 37.786942]}},\n",
       " {'name': 'Zynga',\n",
       "  'category_code': 'games_video',\n",
       "  'total_money_raised': '$860M',\n",
       "  'address1': '365 Vermont St.',\n",
       "  'city': 'San Francisco',\n",
       "  'state_code': 'CA',\n",
       "  'country_code': 'USA',\n",
       "  'latitude': 37.765158,\n",
       "  'longitude': -122.404234,\n",
       "  'geopoint': {'type': 'Point', 'coordinates': [-122.404234, 37.765158]}}]"
      ]
     },
     "execution_count": 197,
     "metadata": {},
     "output_type": "execute_result"
    }
   ],
   "source": [
    "nightclubs = []\n",
    "for i in range(len(nightclubs_location)):\n",
    "    q = db.chosen_offices.find(geoQueryNear(nightclubs_location.iloc[i].geopoint, radius=3000),{\"_id\":0,\"company_id\":0})\n",
    "    near_offices = list(q)\n",
    "    nightclubs.append(near_offices)\n",
    "nightclubs[0]"
   ]
  },
  {
   "cell_type": "code",
   "execution_count": 198,
   "metadata": {},
   "outputs": [
    {
     "data": {
      "text/plain": [
       "Zynga         18\n",
       "Kongregate    16\n",
       "Curse         16\n",
       "Name: name, dtype: int64"
      ]
     },
     "execution_count": 198,
     "metadata": {},
     "output_type": "execute_result"
    }
   ],
   "source": [
    "nightclubs_close = [data for enterprise in nightclubs for data in enterprise]\n",
    "nightclubs_close = pd.DataFrame(nightclubs_close)\n",
    "nightclubs_close[\"name\"].value_counts()"
   ]
  },
  {
   "cell_type": "code",
   "execution_count": 199,
   "metadata": {},
   "outputs": [
    {
     "data": {
      "text/plain": [
       "[{'name': 'Kongregate',\n",
       "  'category_code': 'games_video',\n",
       "  'total_money_raised': '$19M',\n",
       "  'address1': '2 Shaw Alley',\n",
       "  'city': 'San Francisco',\n",
       "  'state_code': 'CA',\n",
       "  'country_code': 'USA',\n",
       "  'latitude': 37.786942,\n",
       "  'longitude': -122.401245,\n",
       "  'geopoint': {'type': 'Point', 'coordinates': [-122.401245, 37.786942]}},\n",
       " {'name': 'Curse',\n",
       "  'category_code': 'games_video',\n",
       "  'total_money_raised': '$12M',\n",
       "  'address1': '60 Broadway',\n",
       "  'city': 'San Francisco',\n",
       "  'state_code': 'CA',\n",
       "  'country_code': 'USA',\n",
       "  'latitude': 37.787092,\n",
       "  'longitude': -122.399972,\n",
       "  'geopoint': {'type': 'Point', 'coordinates': [-122.399972, 37.787092]}}]"
      ]
     },
     "execution_count": 199,
     "metadata": {},
     "output_type": "execute_result"
    }
   ],
   "source": [
    "vegan = []\n",
    "for i in range(len(vegan_location)):\n",
    "    q = db.chosen_offices.find(geoQueryNear(vegan_location.iloc[i].geopoint, radius=1500),{\"_id\":0,\"company_id\":0})\n",
    "    near_offices = list(q)\n",
    "    vegan.append(near_offices)\n",
    "vegan[0]"
   ]
  },
  {
   "cell_type": "code",
   "execution_count": 200,
   "metadata": {},
   "outputs": [
    {
     "data": {
      "text/plain": [
       "Kongregate    5\n",
       "Curse         3\n",
       "Zynga         2\n",
       "Name: name, dtype: int64"
      ]
     },
     "execution_count": 200,
     "metadata": {},
     "output_type": "execute_result"
    }
   ],
   "source": [
    "vegan_close = [data for enterprise in vegan for data in enterprise]\n",
    "vegan_close = pd.DataFrame(vegan_close)\n",
    "vegan_close.head()\n",
    "vegan_close[\"name\"].value_counts()"
   ]
  },
  {
   "cell_type": "code",
   "execution_count": 201,
   "metadata": {
    "scrolled": true
   },
   "outputs": [
    {
     "data": {
      "text/plain": [
       "[{'name': 'Zynga',\n",
       "  'category_code': 'games_video',\n",
       "  'total_money_raised': '$860M',\n",
       "  'address1': '365 Vermont St.',\n",
       "  'city': 'San Francisco',\n",
       "  'state_code': 'CA',\n",
       "  'country_code': 'USA',\n",
       "  'latitude': 37.765158,\n",
       "  'longitude': -122.404234,\n",
       "  'geopoint': {'type': 'Point', 'coordinates': [-122.404234, 37.765158]}},\n",
       " {'name': 'Kongregate',\n",
       "  'category_code': 'games_video',\n",
       "  'total_money_raised': '$19M',\n",
       "  'address1': '2 Shaw Alley',\n",
       "  'city': 'San Francisco',\n",
       "  'state_code': 'CA',\n",
       "  'country_code': 'USA',\n",
       "  'latitude': 37.786942,\n",
       "  'longitude': -122.401245,\n",
       "  'geopoint': {'type': 'Point', 'coordinates': [-122.401245, 37.786942]}},\n",
       " {'name': 'Curse',\n",
       "  'category_code': 'games_video',\n",
       "  'total_money_raised': '$12M',\n",
       "  'address1': '60 Broadway',\n",
       "  'city': 'San Francisco',\n",
       "  'state_code': 'CA',\n",
       "  'country_code': 'USA',\n",
       "  'latitude': 37.787092,\n",
       "  'longitude': -122.399972,\n",
       "  'geopoint': {'type': 'Point', 'coordinates': [-122.399972, 37.787092]}}]"
      ]
     },
     "execution_count": 201,
     "metadata": {},
     "output_type": "execute_result"
    }
   ],
   "source": [
    "veterinary = []\n",
    "for i in range(len(veterinary_location)):\n",
    "    q = db.chosen_offices.find(geoQueryNear(veterinary_location.iloc[i].geopoint, radius=5000),{\"_id\":0,\"company_id\":0})\n",
    "    near_offices = list(q)\n",
    "    veterinary.append(near_offices)\n",
    "veterinary[0]"
   ]
  },
  {
   "cell_type": "code",
   "execution_count": 202,
   "metadata": {},
   "outputs": [
    {
     "data": {
      "text/plain": [
       "Zynga         12\n",
       "Kongregate    11\n",
       "Curse         11\n",
       "Name: name, dtype: int64"
      ]
     },
     "execution_count": 202,
     "metadata": {},
     "output_type": "execute_result"
    }
   ],
   "source": [
    "veterinary_close = [data for enterprise in veterinary for data in enterprise]\n",
    "veterinary_close = pd.DataFrame(veterinary_close)\n",
    "veterinary_close[\"name\"].value_counts()"
   ]
  },
  {
   "cell_type": "markdown",
   "metadata": {},
   "source": [
    "## FOLIUM\n",
    "    \n"
   ]
  },
  {
   "cell_type": "code",
   "execution_count": 203,
   "metadata": {},
   "outputs": [
    {
     "name": "stdout",
     "output_type": "stream",
     "text": [
      "Requirement already satisfied: folium in /Library/Frameworks/Python.framework/Versions/3.8/lib/python3.8/site-packages (0.11.0)\n",
      "Requirement already satisfied: requests in /Library/Frameworks/Python.framework/Versions/3.8/lib/python3.8/site-packages (from folium) (2.24.0)\n",
      "Requirement already satisfied: numpy in /Library/Frameworks/Python.framework/Versions/3.8/lib/python3.8/site-packages (from folium) (1.19.0)\n",
      "Requirement already satisfied: branca>=0.3.0 in /Library/Frameworks/Python.framework/Versions/3.8/lib/python3.8/site-packages (from folium) (0.4.1)\n",
      "Requirement already satisfied: jinja2>=2.9 in /Library/Frameworks/Python.framework/Versions/3.8/lib/python3.8/site-packages (from folium) (2.11.2)\n",
      "Requirement already satisfied: idna<3,>=2.5 in /Library/Frameworks/Python.framework/Versions/3.8/lib/python3.8/site-packages (from requests->folium) (2.9)\n",
      "Requirement already satisfied: urllib3!=1.25.0,!=1.25.1,<1.26,>=1.21.1 in /Library/Frameworks/Python.framework/Versions/3.8/lib/python3.8/site-packages (from requests->folium) (1.25.9)\n",
      "Requirement already satisfied: chardet<4,>=3.0.2 in /Library/Frameworks/Python.framework/Versions/3.8/lib/python3.8/site-packages (from requests->folium) (3.0.4)\n",
      "Requirement already satisfied: certifi>=2017.4.17 in /Library/Frameworks/Python.framework/Versions/3.8/lib/python3.8/site-packages (from requests->folium) (2020.6.20)\n",
      "Requirement already satisfied: MarkupSafe>=0.23 in /Library/Frameworks/Python.framework/Versions/3.8/lib/python3.8/site-packages (from jinja2>=2.9->folium) (1.1.1)\n"
     ]
    }
   ],
   "source": [
    "!pip3 install folium"
   ]
  },
  {
   "cell_type": "code",
   "execution_count": 204,
   "metadata": {},
   "outputs": [],
   "source": [
    "from folium import Map, Marker, Icon, FeatureGroup, LayerControl, Choropleth\n",
    "from folium.plugins import HeatMap\n",
    "import pandas as pd"
   ]
  },
  {
   "cell_type": "code",
   "execution_count": 212,
   "metadata": {},
   "outputs": [
    {
     "data": {
      "text/html": [
       "<div style=\"width:100%;\"><div style=\"position:relative;width:100%;height:0;padding-bottom:60%;\"><span style=\"color:#565656\">Make this Notebook Trusted to load map: File -> Trust Notebook</span><iframe src=\"about:blank\" style=\"position:absolute;width:100%;height:100%;left:0;top:0;border:none !important;\" data-html=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 onload=\"this.contentDocument.open();this.contentDocument.write(atob(this.getAttribute('data-html')));this.contentDocument.close();\" allowfullscreen webkitallowfullscreen mozallowfullscreen></iframe></div></div>"
      ],
      "text/plain": [
       "<folium.folium.Map at 0x11e11eb50>"
      ]
     },
     "execution_count": 212,
     "metadata": {},
     "output_type": "execute_result"
    }
   ],
   "source": [
    "m = Map([37.773972,-122.431297],zoom_start=3)\n",
    "\n",
    "for i, row in nightclubs_close.iterrows():\n",
    "    icon = Icon(\n",
    "                color=\"blue\",\n",
    "                prefix=\"fa\",\n",
    "                icon=\"beer\"\n",
    "            )\n",
    "    Marker(\n",
    "        location=row[[\"latitude\",\"longitude\"]],\n",
    "        icon=icon\n",
    "    ).add_to(m)\n",
    "\n",
    "for i, row in vegan_close.iterrows():\n",
    "    icon = Icon(\n",
    "                color=\"red\",\n",
    "                prefix=\"fa\",\n",
    "                icon=\"beer\"\n",
    "            )\n",
    "    Marker(\n",
    "        location=row[[\"latitude\",\"longitude\"]],\n",
    "        icon=icon\n",
    "    ).add_to(m)\n",
    "\n",
    "for i, row in starbucks_close.iterrows():\n",
    "    icon = Icon(\n",
    "                color=\"green\",\n",
    "                prefix=\"fa\",\n",
    "                icon=\"beer\"\n",
    "            )\n",
    "    Marker(\n",
    "        location=row[[\"latitude\",\"longitude\"]],\n",
    "        icon=icon\n",
    "    ).add_to(m)\n",
    "    \n",
    "for i, row in veterinary_close.iterrows():\n",
    "    icon = Icon(\n",
    "                color=\"orange\",\n",
    "                prefix=\"fa\",\n",
    "                icon=\"paw\"\n",
    "            )\n",
    "    Marker(\n",
    "        location=row[[\"latitude\",\"longitude\"]],\n",
    "        icon=icon\n",
    "    ).add_to(m)\n",
    "m"
   ]
  },
  {
   "cell_type": "code",
   "execution_count": null,
   "metadata": {},
   "outputs": [],
   "source": []
  }
 ],
 "metadata": {
  "kernelspec": {
   "display_name": "Python 3",
   "language": "python",
   "name": "python3"
  },
  "language_info": {
   "codemirror_mode": {
    "name": "ipython",
    "version": 3
   },
   "file_extension": ".py",
   "mimetype": "text/x-python",
   "name": "python",
   "nbconvert_exporter": "python",
   "pygments_lexer": "ipython3",
   "version": "3.8.2"
  }
 },
 "nbformat": 4,
 "nbformat_minor": 4
}
