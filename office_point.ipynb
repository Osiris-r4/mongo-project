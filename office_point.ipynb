{
 "cells": [
  {
   "cell_type": "markdown",
   "metadata": {},
   "source": [
    "## MONGO AND NEAR BY QUERIES"
   ]
  },
  {
   "cell_type": "code",
   "execution_count": 1,
   "metadata": {},
   "outputs": [],
   "source": [
    "from pymongo import MongoClient\n",
    "import folium\n",
    "import pandas as pd\n",
    "import matplotlib\n",
    "import numpy as np\n",
    "import pandas as pd\n",
    "import os\n",
    "import requests\n",
    "import json\n",
    "from pandas.io.json import json_normalize\n",
    "import re\n",
    "from SRC.formulas_calculo import*"
   ]
  },
  {
   "cell_type": "code",
   "execution_count": 2,
   "metadata": {},
   "outputs": [],
   "source": [
    "dbName = \"companies\"\n",
    "mongodbURL = f\"mongodb://localhost/{dbName}\"\n",
    "client = MongoClient(mongodbURL, connectTimeoutMS=2000, serverSelectionTimeoutMS=2000)\n",
    "db = client.get_database()"
   ]
  },
  {
   "cell_type": "markdown",
   "metadata": {},
   "source": [
    "> The first thing Im gonna do, is import from Mongo all the data frames that ill be working with"
   ]
  },
  {
   "cell_type": "code",
   "execution_count": 3,
   "metadata": {},
   "outputs": [
    {
     "data": {
      "text/html": [
       "<div>\n",
       "<style scoped>\n",
       "    .dataframe tbody tr th:only-of-type {\n",
       "        vertical-align: middle;\n",
       "    }\n",
       "\n",
       "    .dataframe tbody tr th {\n",
       "        vertical-align: top;\n",
       "    }\n",
       "\n",
       "    .dataframe thead th {\n",
       "        text-align: right;\n",
       "    }\n",
       "</style>\n",
       "<table border=\"1\" class=\"dataframe\">\n",
       "  <thead>\n",
       "    <tr style=\"text-align: right;\">\n",
       "      <th></th>\n",
       "      <th>_id</th>\n",
       "      <th>name</th>\n",
       "      <th>latitude</th>\n",
       "      <th>longitude</th>\n",
       "      <th>geopoint</th>\n",
       "    </tr>\n",
       "  </thead>\n",
       "  <tbody>\n",
       "    <tr>\n",
       "      <th>0</th>\n",
       "      <td>5efa38294c4b4802bbdf6e7c</td>\n",
       "      <td>Kongregate</td>\n",
       "      <td>37.786942</td>\n",
       "      <td>-122.401245</td>\n",
       "      <td>{'type': 'Point', 'coordinates': [-122.401245,...</td>\n",
       "    </tr>\n",
       "    <tr>\n",
       "      <th>1</th>\n",
       "      <td>5efa38294c4b4802bbdf6e7d</td>\n",
       "      <td>Curse</td>\n",
       "      <td>37.787092</td>\n",
       "      <td>-122.399972</td>\n",
       "      <td>{'type': 'Point', 'coordinates': [-122.399972,...</td>\n",
       "    </tr>\n",
       "    <tr>\n",
       "      <th>2</th>\n",
       "      <td>5efa38294c4b4802bbdf6e7e</td>\n",
       "      <td>Kabam</td>\n",
       "      <td>37.394456</td>\n",
       "      <td>-122.078531</td>\n",
       "      <td>{'type': 'Point', 'coordinates': [-122.0785314...</td>\n",
       "    </tr>\n",
       "    <tr>\n",
       "      <th>3</th>\n",
       "      <td>5efa38294c4b4802bbdf6e7f</td>\n",
       "      <td>Zynga</td>\n",
       "      <td>37.765158</td>\n",
       "      <td>-122.404234</td>\n",
       "      <td>{'type': 'Point', 'coordinates': [-122.404234,...</td>\n",
       "    </tr>\n",
       "    <tr>\n",
       "      <th>4</th>\n",
       "      <td>5efa38294c4b4802bbdf6e80</td>\n",
       "      <td>KIXEYE</td>\n",
       "      <td>NaN</td>\n",
       "      <td>NaN</td>\n",
       "      <td>None</td>\n",
       "    </tr>\n",
       "  </tbody>\n",
       "</table>\n",
       "</div>"
      ],
      "text/plain": [
       "                        _id        name   latitude   longitude  \\\n",
       "0  5efa38294c4b4802bbdf6e7c  Kongregate  37.786942 -122.401245   \n",
       "1  5efa38294c4b4802bbdf6e7d       Curse  37.787092 -122.399972   \n",
       "2  5efa38294c4b4802bbdf6e7e       Kabam  37.394456 -122.078531   \n",
       "3  5efa38294c4b4802bbdf6e7f       Zynga  37.765158 -122.404234   \n",
       "4  5efa38294c4b4802bbdf6e80      KIXEYE        NaN         NaN   \n",
       "\n",
       "                                            geopoint  \n",
       "0  {'type': 'Point', 'coordinates': [-122.401245,...  \n",
       "1  {'type': 'Point', 'coordinates': [-122.399972,...  \n",
       "2  {'type': 'Point', 'coordinates': [-122.0785314...  \n",
       "3  {'type': 'Point', 'coordinates': [-122.404234,...  \n",
       "4                                               None  "
      ]
     },
     "execution_count": 3,
     "metadata": {},
     "output_type": "execute_result"
    }
   ],
   "source": [
    "cur =list(db.chosen_offices.find({},{\"name\":1,\"latitude\":1,\"longitude\":1, \"geopoint\":1}))\n",
    "office_location = pd.DataFrame(cur)\n",
    "office_location"
   ]
  },
  {
   "cell_type": "code",
   "execution_count": 4,
   "metadata": {},
   "outputs": [
    {
     "data": {
      "text/html": [
       "<div>\n",
       "<style scoped>\n",
       "    .dataframe tbody tr th:only-of-type {\n",
       "        vertical-align: middle;\n",
       "    }\n",
       "\n",
       "    .dataframe tbody tr th {\n",
       "        vertical-align: top;\n",
       "    }\n",
       "\n",
       "    .dataframe thead th {\n",
       "        text-align: right;\n",
       "    }\n",
       "</style>\n",
       "<table border=\"1\" class=\"dataframe\">\n",
       "  <thead>\n",
       "    <tr style=\"text-align: right;\">\n",
       "      <th></th>\n",
       "      <th>_id</th>\n",
       "      <th>name</th>\n",
       "      <th>latitude</th>\n",
       "      <th>longitude</th>\n",
       "      <th>geopoint</th>\n",
       "    </tr>\n",
       "  </thead>\n",
       "  <tbody>\n",
       "    <tr>\n",
       "      <th>0</th>\n",
       "      <td>5efa386a51051c08f12ccb4f</td>\n",
       "      <td>[The Grand]</td>\n",
       "      <td>37.779100</td>\n",
       "      <td>-122.397900</td>\n",
       "      <td>{'type': 'Point', 'coordinates': [-122.3979003...</td>\n",
       "    </tr>\n",
       "    <tr>\n",
       "      <th>1</th>\n",
       "      <td>5efa386a51051c08f12ccb50</td>\n",
       "      <td>[Smuggler's Cove]</td>\n",
       "      <td>37.779403</td>\n",
       "      <td>-122.423372</td>\n",
       "      <td>{'type': 'Point', 'coordinates': [-122.4233722...</td>\n",
       "    </tr>\n",
       "    <tr>\n",
       "      <th>2</th>\n",
       "      <td>5efa386a51051c08f12ccb51</td>\n",
       "      <td>[Edinburgh Castle Pub]</td>\n",
       "      <td>37.786127</td>\n",
       "      <td>-122.418957</td>\n",
       "      <td>{'type': 'Point', 'coordinates': [-122.4189571...</td>\n",
       "    </tr>\n",
       "    <tr>\n",
       "      <th>3</th>\n",
       "      <td>5efa386a51051c08f12ccb52</td>\n",
       "      <td>[Zero Zero]</td>\n",
       "      <td>37.781636</td>\n",
       "      <td>-122.402083</td>\n",
       "      <td>{'type': 'Point', 'coordinates': [-122.402083,...</td>\n",
       "    </tr>\n",
       "    <tr>\n",
       "      <th>4</th>\n",
       "      <td>5efa386a51051c08f12ccb53</td>\n",
       "      <td>[The Chapel]</td>\n",
       "      <td>37.760486</td>\n",
       "      <td>-122.421298</td>\n",
       "      <td>{'type': 'Point', 'coordinates': [-122.4212979...</td>\n",
       "    </tr>\n",
       "  </tbody>\n",
       "</table>\n",
       "</div>"
      ],
      "text/plain": [
       "                        _id                    name   latitude   longitude  \\\n",
       "0  5efa386a51051c08f12ccb4f             [The Grand]  37.779100 -122.397900   \n",
       "1  5efa386a51051c08f12ccb50       [Smuggler's Cove]  37.779403 -122.423372   \n",
       "2  5efa386a51051c08f12ccb51  [Edinburgh Castle Pub]  37.786127 -122.418957   \n",
       "3  5efa386a51051c08f12ccb52             [Zero Zero]  37.781636 -122.402083   \n",
       "4  5efa386a51051c08f12ccb53            [The Chapel]  37.760486 -122.421298   \n",
       "\n",
       "                                            geopoint  \n",
       "0  {'type': 'Point', 'coordinates': [-122.3979003...  \n",
       "1  {'type': 'Point', 'coordinates': [-122.4233722...  \n",
       "2  {'type': 'Point', 'coordinates': [-122.4189571...  \n",
       "3  {'type': 'Point', 'coordinates': [-122.402083,...  \n",
       "4  {'type': 'Point', 'coordinates': [-122.4212979...  "
      ]
     },
     "execution_count": 4,
     "metadata": {},
     "output_type": "execute_result"
    }
   ],
   "source": [
    "cur =list(db.nightclubs.find({},{\"name\":1,\"latitude\":1,\"longitude\":1, \"geopoint\":1}))\n",
    "nightclubs_location = pd.DataFrame(cur)\n",
    "nightclubs_location.head()\n"
   ]
  },
  {
   "cell_type": "code",
   "execution_count": 5,
   "metadata": {},
   "outputs": [
    {
     "data": {
      "text/html": [
       "<div>\n",
       "<style scoped>\n",
       "    .dataframe tbody tr th:only-of-type {\n",
       "        vertical-align: middle;\n",
       "    }\n",
       "\n",
       "    .dataframe tbody tr th {\n",
       "        vertical-align: top;\n",
       "    }\n",
       "\n",
       "    .dataframe thead th {\n",
       "        text-align: right;\n",
       "    }\n",
       "</style>\n",
       "<table border=\"1\" class=\"dataframe\">\n",
       "  <thead>\n",
       "    <tr style=\"text-align: right;\">\n",
       "      <th></th>\n",
       "      <th>_id</th>\n",
       "      <th>name</th>\n",
       "      <th>latitude</th>\n",
       "      <th>longitude</th>\n",
       "      <th>geopoint</th>\n",
       "    </tr>\n",
       "  </thead>\n",
       "  <tbody>\n",
       "    <tr>\n",
       "      <th>0</th>\n",
       "      <td>5efa38849db4a6342ef5b134</td>\n",
       "      <td>[Starbucks]</td>\n",
       "      <td>37.796647</td>\n",
       "      <td>-122.394850</td>\n",
       "      <td>{'type': 'Point', 'coordinates': [-122.39485, ...</td>\n",
       "    </tr>\n",
       "    <tr>\n",
       "      <th>1</th>\n",
       "      <td>5efa38849db4a6342ef5b135</td>\n",
       "      <td>[Starbucks]</td>\n",
       "      <td>37.784124</td>\n",
       "      <td>-122.407653</td>\n",
       "      <td>{'type': 'Point', 'coordinates': [-122.407653,...</td>\n",
       "    </tr>\n",
       "    <tr>\n",
       "      <th>2</th>\n",
       "      <td>5efa38849db4a6342ef5b136</td>\n",
       "      <td>[Starbucks]</td>\n",
       "      <td>37.789146</td>\n",
       "      <td>-122.408456</td>\n",
       "      <td>{'type': 'Point', 'coordinates': [-122.408456,...</td>\n",
       "    </tr>\n",
       "    <tr>\n",
       "      <th>3</th>\n",
       "      <td>5efa38849db4a6342ef5b137</td>\n",
       "      <td>[Starbucks]</td>\n",
       "      <td>37.786261</td>\n",
       "      <td>-122.453194</td>\n",
       "      <td>{'type': 'Point', 'coordinates': [-122.453194,...</td>\n",
       "    </tr>\n",
       "    <tr>\n",
       "      <th>4</th>\n",
       "      <td>5efa38849db4a6342ef5b138</td>\n",
       "      <td>[Starbucks]</td>\n",
       "      <td>37.784855</td>\n",
       "      <td>-122.399996</td>\n",
       "      <td>{'type': 'Point', 'coordinates': [-122.3999959...</td>\n",
       "    </tr>\n",
       "  </tbody>\n",
       "</table>\n",
       "</div>"
      ],
      "text/plain": [
       "                        _id         name   latitude   longitude  \\\n",
       "0  5efa38849db4a6342ef5b134  [Starbucks]  37.796647 -122.394850   \n",
       "1  5efa38849db4a6342ef5b135  [Starbucks]  37.784124 -122.407653   \n",
       "2  5efa38849db4a6342ef5b136  [Starbucks]  37.789146 -122.408456   \n",
       "3  5efa38849db4a6342ef5b137  [Starbucks]  37.786261 -122.453194   \n",
       "4  5efa38849db4a6342ef5b138  [Starbucks]  37.784855 -122.399996   \n",
       "\n",
       "                                            geopoint  \n",
       "0  {'type': 'Point', 'coordinates': [-122.39485, ...  \n",
       "1  {'type': 'Point', 'coordinates': [-122.407653,...  \n",
       "2  {'type': 'Point', 'coordinates': [-122.408456,...  \n",
       "3  {'type': 'Point', 'coordinates': [-122.453194,...  \n",
       "4  {'type': 'Point', 'coordinates': [-122.3999959...  "
      ]
     },
     "execution_count": 5,
     "metadata": {},
     "output_type": "execute_result"
    }
   ],
   "source": [
    "cur =list(db.starbucks_place.find({},{\"name\":1,\"latitude\":1,\"longitude\":1, \"geopoint\":1}))\n",
    "starbucks_location = pd.DataFrame(cur)\n",
    "starbucks_location.head()"
   ]
  },
  {
   "cell_type": "code",
   "execution_count": 6,
   "metadata": {},
   "outputs": [
    {
     "data": {
      "text/html": [
       "<div>\n",
       "<style scoped>\n",
       "    .dataframe tbody tr th:only-of-type {\n",
       "        vertical-align: middle;\n",
       "    }\n",
       "\n",
       "    .dataframe tbody tr th {\n",
       "        vertical-align: top;\n",
       "    }\n",
       "\n",
       "    .dataframe thead th {\n",
       "        text-align: right;\n",
       "    }\n",
       "</style>\n",
       "<table border=\"1\" class=\"dataframe\">\n",
       "  <thead>\n",
       "    <tr style=\"text-align: right;\">\n",
       "      <th></th>\n",
       "      <th>_id</th>\n",
       "      <th>name</th>\n",
       "      <th>latitude</th>\n",
       "      <th>longitude</th>\n",
       "      <th>geopoint</th>\n",
       "    </tr>\n",
       "  </thead>\n",
       "  <tbody>\n",
       "    <tr>\n",
       "      <th>0</th>\n",
       "      <td>5efa38afaf923e76c3898dce</td>\n",
       "      <td>[The Flying Falafel]</td>\n",
       "      <td>37.781266</td>\n",
       "      <td>-122.411230</td>\n",
       "      <td>{'type': 'Point', 'coordinates': [-122.4112304...</td>\n",
       "    </tr>\n",
       "    <tr>\n",
       "      <th>1</th>\n",
       "      <td>5efa38afaf923e76c3898dcf</td>\n",
       "      <td>[Golden Era]</td>\n",
       "      <td>37.781318</td>\n",
       "      <td>-122.416697</td>\n",
       "      <td>{'type': 'Point', 'coordinates': [-122.4166966...</td>\n",
       "    </tr>\n",
       "    <tr>\n",
       "      <th>2</th>\n",
       "      <td>5efa38afaf923e76c3898dd0</td>\n",
       "      <td>[Indochine Vegan]</td>\n",
       "      <td>37.764626</td>\n",
       "      <td>-122.422160</td>\n",
       "      <td>{'type': 'Point', 'coordinates': [-122.4221595...</td>\n",
       "    </tr>\n",
       "    <tr>\n",
       "      <th>3</th>\n",
       "      <td>5efa38afaf923e76c3898dd1</td>\n",
       "      <td>[Ananda Fuara]</td>\n",
       "      <td>37.777875</td>\n",
       "      <td>-122.416294</td>\n",
       "      <td>{'type': 'Point', 'coordinates': [-122.416294,...</td>\n",
       "    </tr>\n",
       "    <tr>\n",
       "      <th>4</th>\n",
       "      <td>5efa38afaf923e76c3898dd2</td>\n",
       "      <td>[Loving Hut]</td>\n",
       "      <td>37.784307</td>\n",
       "      <td>-122.406012</td>\n",
       "      <td>{'type': 'Point', 'coordinates': [-122.406012,...</td>\n",
       "    </tr>\n",
       "  </tbody>\n",
       "</table>\n",
       "</div>"
      ],
      "text/plain": [
       "                        _id                  name   latitude   longitude  \\\n",
       "0  5efa38afaf923e76c3898dce  [The Flying Falafel]  37.781266 -122.411230   \n",
       "1  5efa38afaf923e76c3898dcf          [Golden Era]  37.781318 -122.416697   \n",
       "2  5efa38afaf923e76c3898dd0     [Indochine Vegan]  37.764626 -122.422160   \n",
       "3  5efa38afaf923e76c3898dd1        [Ananda Fuara]  37.777875 -122.416294   \n",
       "4  5efa38afaf923e76c3898dd2          [Loving Hut]  37.784307 -122.406012   \n",
       "\n",
       "                                            geopoint  \n",
       "0  {'type': 'Point', 'coordinates': [-122.4112304...  \n",
       "1  {'type': 'Point', 'coordinates': [-122.4166966...  \n",
       "2  {'type': 'Point', 'coordinates': [-122.4221595...  \n",
       "3  {'type': 'Point', 'coordinates': [-122.416294,...  \n",
       "4  {'type': 'Point', 'coordinates': [-122.406012,...  "
      ]
     },
     "execution_count": 6,
     "metadata": {},
     "output_type": "execute_result"
    }
   ],
   "source": [
    "cur =list(db.vegan.find({},{\"name\":1,\"latitude\":1,\"longitude\":1, \"geopoint\":1}))\n",
    "vegan_location = pd.DataFrame(cur)\n",
    "vegan_location.head()"
   ]
  },
  {
   "cell_type": "code",
   "execution_count": 7,
   "metadata": {},
   "outputs": [
    {
     "data": {
      "text/html": [
       "<div>\n",
       "<style scoped>\n",
       "    .dataframe tbody tr th:only-of-type {\n",
       "        vertical-align: middle;\n",
       "    }\n",
       "\n",
       "    .dataframe tbody tr th {\n",
       "        vertical-align: top;\n",
       "    }\n",
       "\n",
       "    .dataframe thead th {\n",
       "        text-align: right;\n",
       "    }\n",
       "</style>\n",
       "<table border=\"1\" class=\"dataframe\">\n",
       "  <thead>\n",
       "    <tr style=\"text-align: right;\">\n",
       "      <th></th>\n",
       "      <th>_id</th>\n",
       "      <th>name</th>\n",
       "      <th>latitude</th>\n",
       "      <th>longitude</th>\n",
       "      <th>geopoint</th>\n",
       "    </tr>\n",
       "  </thead>\n",
       "  <tbody>\n",
       "    <tr>\n",
       "      <th>0</th>\n",
       "      <td>5efa389ffe122b1cba544978</td>\n",
       "      <td>[VCA San Francisco Veterinary Specialists]</td>\n",
       "      <td>37.761480</td>\n",
       "      <td>-122.412279</td>\n",
       "      <td>{'type': 'Point', 'coordinates': [-122.4122788...</td>\n",
       "    </tr>\n",
       "    <tr>\n",
       "      <th>1</th>\n",
       "      <td>5efa389ffe122b1cba544979</td>\n",
       "      <td>[San Francisco SPCA Veterinary Hospital Pacifi...</td>\n",
       "      <td>37.791284</td>\n",
       "      <td>-122.434625</td>\n",
       "      <td>{'type': 'Point', 'coordinates': [-122.434625,...</td>\n",
       "    </tr>\n",
       "    <tr>\n",
       "      <th>2</th>\n",
       "      <td>5efa389ffe122b1cba54497a</td>\n",
       "      <td>[Ocean Avenue Veterinary Hospital]</td>\n",
       "      <td>37.723144</td>\n",
       "      <td>-122.453253</td>\n",
       "      <td>{'type': 'Point', 'coordinates': [-122.4532528...</td>\n",
       "    </tr>\n",
       "    <tr>\n",
       "      <th>3</th>\n",
       "      <td>5efa389ffe122b1cba54497b</td>\n",
       "      <td>[Park Animal Hospital]</td>\n",
       "      <td>37.765639</td>\n",
       "      <td>-122.466607</td>\n",
       "      <td>{'type': 'Point', 'coordinates': [-122.466607,...</td>\n",
       "    </tr>\n",
       "    <tr>\n",
       "      <th>4</th>\n",
       "      <td>5efa389ffe122b1cba54497c</td>\n",
       "      <td>[San Francisco Pet Hospital]</td>\n",
       "      <td>37.776581</td>\n",
       "      <td>-122.439369</td>\n",
       "      <td>{'type': 'Point', 'coordinates': [-122.4393694...</td>\n",
       "    </tr>\n",
       "  </tbody>\n",
       "</table>\n",
       "</div>"
      ],
      "text/plain": [
       "                        _id  \\\n",
       "0  5efa389ffe122b1cba544978   \n",
       "1  5efa389ffe122b1cba544979   \n",
       "2  5efa389ffe122b1cba54497a   \n",
       "3  5efa389ffe122b1cba54497b   \n",
       "4  5efa389ffe122b1cba54497c   \n",
       "\n",
       "                                                name   latitude   longitude  \\\n",
       "0         [VCA San Francisco Veterinary Specialists]  37.761480 -122.412279   \n",
       "1  [San Francisco SPCA Veterinary Hospital Pacifi...  37.791284 -122.434625   \n",
       "2                 [Ocean Avenue Veterinary Hospital]  37.723144 -122.453253   \n",
       "3                             [Park Animal Hospital]  37.765639 -122.466607   \n",
       "4                       [San Francisco Pet Hospital]  37.776581 -122.439369   \n",
       "\n",
       "                                            geopoint  \n",
       "0  {'type': 'Point', 'coordinates': [-122.4122788...  \n",
       "1  {'type': 'Point', 'coordinates': [-122.434625,...  \n",
       "2  {'type': 'Point', 'coordinates': [-122.4532528...  \n",
       "3  {'type': 'Point', 'coordinates': [-122.466607,...  \n",
       "4  {'type': 'Point', 'coordinates': [-122.4393694...  "
      ]
     },
     "execution_count": 7,
     "metadata": {},
     "output_type": "execute_result"
    }
   ],
   "source": [
    "cur =list(db.veterinary_place.find({},{\"name\":1,\"latitude\":1,\"longitude\":1, \"geopoint\":1}))\n",
    "veterinary_location = pd.DataFrame(cur)\n",
    "veterinary_location.head()"
   ]
  },
  {
   "cell_type": "markdown",
   "metadata": {},
   "source": [
    "## QUERY TO GEOCODE\n",
    "\n",
    "> Next, using the functions geoQueryNear and a For loop I will try to find out the nearby starbucks from my desire offices. In other words, figure out how many starbucks are in a 500m radious from each office location"
   ]
  },
  {
   "cell_type": "code",
   "execution_count": 24,
   "metadata": {},
   "outputs": [
    {
     "data": {
      "text/plain": [
       "[[],\n",
       " [],\n",
       " [],\n",
       " [],\n",
       " [{'name': 'Curse',\n",
       "   'category_code': 'games_video',\n",
       "   'total_money_raised': '$12M',\n",
       "   'address1': '60 Broadway',\n",
       "   'city': 'San Francisco',\n",
       "   'state_code': 'CA',\n",
       "   'country_code': 'USA',\n",
       "   'latitude': 37.787092,\n",
       "   'longitude': -122.399972,\n",
       "   'geopoint': {'type': 'Point', 'coordinates': [-122.399972, 37.787092]}},\n",
       "  {'name': 'Kongregate',\n",
       "   'category_code': 'games_video',\n",
       "   'total_money_raised': '$19M',\n",
       "   'address1': '2 Shaw Alley',\n",
       "   'city': 'San Francisco',\n",
       "   'state_code': 'CA',\n",
       "   'country_code': 'USA',\n",
       "   'latitude': 37.786942,\n",
       "   'longitude': -122.401245,\n",
       "   'geopoint': {'type': 'Point', 'coordinates': [-122.401245, 37.786942]}}],\n",
       " [],\n",
       " [],\n",
       " [],\n",
       " [],\n",
       " [{'name': 'Kongregate',\n",
       "   'category_code': 'games_video',\n",
       "   'total_money_raised': '$19M',\n",
       "   'address1': '2 Shaw Alley',\n",
       "   'city': 'San Francisco',\n",
       "   'state_code': 'CA',\n",
       "   'country_code': 'USA',\n",
       "   'latitude': 37.786942,\n",
       "   'longitude': -122.401245,\n",
       "   'geopoint': {'type': 'Point', 'coordinates': [-122.401245, 37.786942]}},\n",
       "  {'name': 'Curse',\n",
       "   'category_code': 'games_video',\n",
       "   'total_money_raised': '$12M',\n",
       "   'address1': '60 Broadway',\n",
       "   'city': 'San Francisco',\n",
       "   'state_code': 'CA',\n",
       "   'country_code': 'USA',\n",
       "   'latitude': 37.787092,\n",
       "   'longitude': -122.399972,\n",
       "   'geopoint': {'type': 'Point', 'coordinates': [-122.399972, 37.787092]}}],\n",
       " [],\n",
       " [],\n",
       " [],\n",
       " [],\n",
       " [],\n",
       " [],\n",
       " [],\n",
       " [],\n",
       " [],\n",
       " []]"
      ]
     },
     "execution_count": 24,
     "metadata": {},
     "output_type": "execute_result"
    }
   ],
   "source": [
    "starbucks = []\n",
    "for i in range(len(starbucks_location)):\n",
    "    q = db.chosen_offices.find(geoQueryNear(starbucks_location.iloc[i].geopoint, radius=500),{\"_id\":0,\"company_id\":0})\n",
    "    near_offices = list(q)\n",
    "    starbucks.append(near_offices)\n",
    "starbucks\n"
   ]
  },
  {
   "cell_type": "markdown",
   "metadata": {},
   "source": [
    "> The list needs to be flatten in order to convert it into a dataframe"
   ]
  },
  {
   "cell_type": "code",
   "execution_count": 11,
   "metadata": {},
   "outputs": [
    {
     "data": {
      "text/plain": [
       "Curse         2\n",
       "Kongregate    2\n",
       "Name: name, dtype: int64"
      ]
     },
     "execution_count": 11,
     "metadata": {},
     "output_type": "execute_result"
    }
   ],
   "source": [
    "starbucks_close = [data for enterprise in starbucks for data in enterprise]\n",
    "starbucks_close = pd.DataFrame(starbucks_close)\n",
    "starbucks_close[\"name\"].value_counts()"
   ]
  },
  {
   "cell_type": "markdown",
   "metadata": {},
   "source": [
    "> I will repeat the same procedure for: \n",
    "    - NightClubs\n",
    "    - Vegan Restaurants\n",
    "    - Veterinaries"
   ]
  },
  {
   "cell_type": "code",
   "execution_count": 12,
   "metadata": {},
   "outputs": [
    {
     "data": {
      "text/plain": [
       "[{'name': 'Curse',\n",
       "  'category_code': 'games_video',\n",
       "  'total_money_raised': '$12M',\n",
       "  'address1': '60 Broadway',\n",
       "  'city': 'San Francisco',\n",
       "  'state_code': 'CA',\n",
       "  'country_code': 'USA',\n",
       "  'latitude': 37.787092,\n",
       "  'longitude': -122.399972,\n",
       "  'geopoint': {'type': 'Point', 'coordinates': [-122.399972, 37.787092]}},\n",
       " {'name': 'Kongregate',\n",
       "  'category_code': 'games_video',\n",
       "  'total_money_raised': '$19M',\n",
       "  'address1': '2 Shaw Alley',\n",
       "  'city': 'San Francisco',\n",
       "  'state_code': 'CA',\n",
       "  'country_code': 'USA',\n",
       "  'latitude': 37.786942,\n",
       "  'longitude': -122.401245,\n",
       "  'geopoint': {'type': 'Point', 'coordinates': [-122.401245, 37.786942]}},\n",
       " {'name': 'Zynga',\n",
       "  'category_code': 'games_video',\n",
       "  'total_money_raised': '$860M',\n",
       "  'address1': '365 Vermont St.',\n",
       "  'city': 'San Francisco',\n",
       "  'state_code': 'CA',\n",
       "  'country_code': 'USA',\n",
       "  'latitude': 37.765158,\n",
       "  'longitude': -122.404234,\n",
       "  'geopoint': {'type': 'Point', 'coordinates': [-122.404234, 37.765158]}}]"
      ]
     },
     "execution_count": 12,
     "metadata": {},
     "output_type": "execute_result"
    }
   ],
   "source": [
    "nightclubs = []\n",
    "for i in range(len(nightclubs_location)):\n",
    "    q = db.chosen_offices.find(geoQueryNear(nightclubs_location.iloc[i].geopoint, radius=3000),{\"_id\":0,\"company_id\":0})\n",
    "    near_offices = list(q)\n",
    "    nightclubs.append(near_offices)\n",
    "nightclubs[0]"
   ]
  },
  {
   "cell_type": "code",
   "execution_count": 13,
   "metadata": {},
   "outputs": [
    {
     "data": {
      "text/plain": [
       "Zynga         18\n",
       "Curse         16\n",
       "Kongregate    16\n",
       "Name: name, dtype: int64"
      ]
     },
     "execution_count": 13,
     "metadata": {},
     "output_type": "execute_result"
    }
   ],
   "source": [
    "nightclubs_close = [data for enterprise in nightclubs for data in enterprise]\n",
    "nightclubs_close = pd.DataFrame(nightclubs_close)\n",
    "nightclubs_close[\"name\"].value_counts()"
   ]
  },
  {
   "cell_type": "code",
   "execution_count": 14,
   "metadata": {},
   "outputs": [
    {
     "data": {
      "text/plain": [
       "[{'name': 'Kongregate',\n",
       "  'category_code': 'games_video',\n",
       "  'total_money_raised': '$19M',\n",
       "  'address1': '2 Shaw Alley',\n",
       "  'city': 'San Francisco',\n",
       "  'state_code': 'CA',\n",
       "  'country_code': 'USA',\n",
       "  'latitude': 37.786942,\n",
       "  'longitude': -122.401245,\n",
       "  'geopoint': {'type': 'Point', 'coordinates': [-122.401245, 37.786942]}},\n",
       " {'name': 'Curse',\n",
       "  'category_code': 'games_video',\n",
       "  'total_money_raised': '$12M',\n",
       "  'address1': '60 Broadway',\n",
       "  'city': 'San Francisco',\n",
       "  'state_code': 'CA',\n",
       "  'country_code': 'USA',\n",
       "  'latitude': 37.787092,\n",
       "  'longitude': -122.399972,\n",
       "  'geopoint': {'type': 'Point', 'coordinates': [-122.399972, 37.787092]}}]"
      ]
     },
     "execution_count": 14,
     "metadata": {},
     "output_type": "execute_result"
    }
   ],
   "source": [
    "vegan = []\n",
    "for i in range(len(vegan_location)):\n",
    "    q = db.chosen_offices.find(geoQueryNear(vegan_location.iloc[i].geopoint, radius=1500),{\"_id\":0,\"company_id\":0})\n",
    "    near_offices = list(q)\n",
    "    vegan.append(near_offices)\n",
    "vegan[0]"
   ]
  },
  {
   "cell_type": "code",
   "execution_count": 15,
   "metadata": {},
   "outputs": [
    {
     "data": {
      "text/plain": [
       "Kongregate    5\n",
       "Curse         3\n",
       "Zynga         2\n",
       "Name: name, dtype: int64"
      ]
     },
     "execution_count": 15,
     "metadata": {},
     "output_type": "execute_result"
    }
   ],
   "source": [
    "vegan_close = [data for enterprise in vegan for data in enterprise]\n",
    "vegan_close = pd.DataFrame(vegan_close)\n",
    "vegan_close.head()\n",
    "vegan_close[\"name\"].value_counts()"
   ]
  },
  {
   "cell_type": "code",
   "execution_count": 16,
   "metadata": {
    "scrolled": true
   },
   "outputs": [
    {
     "data": {
      "text/plain": [
       "[{'name': 'Zynga',\n",
       "  'category_code': 'games_video',\n",
       "  'total_money_raised': '$860M',\n",
       "  'address1': '365 Vermont St.',\n",
       "  'city': 'San Francisco',\n",
       "  'state_code': 'CA',\n",
       "  'country_code': 'USA',\n",
       "  'latitude': 37.765158,\n",
       "  'longitude': -122.404234,\n",
       "  'geopoint': {'type': 'Point', 'coordinates': [-122.404234, 37.765158]}},\n",
       " {'name': 'Kongregate',\n",
       "  'category_code': 'games_video',\n",
       "  'total_money_raised': '$19M',\n",
       "  'address1': '2 Shaw Alley',\n",
       "  'city': 'San Francisco',\n",
       "  'state_code': 'CA',\n",
       "  'country_code': 'USA',\n",
       "  'latitude': 37.786942,\n",
       "  'longitude': -122.401245,\n",
       "  'geopoint': {'type': 'Point', 'coordinates': [-122.401245, 37.786942]}},\n",
       " {'name': 'Curse',\n",
       "  'category_code': 'games_video',\n",
       "  'total_money_raised': '$12M',\n",
       "  'address1': '60 Broadway',\n",
       "  'city': 'San Francisco',\n",
       "  'state_code': 'CA',\n",
       "  'country_code': 'USA',\n",
       "  'latitude': 37.787092,\n",
       "  'longitude': -122.399972,\n",
       "  'geopoint': {'type': 'Point', 'coordinates': [-122.399972, 37.787092]}}]"
      ]
     },
     "execution_count": 16,
     "metadata": {},
     "output_type": "execute_result"
    }
   ],
   "source": [
    "veterinary = []\n",
    "for i in range(len(veterinary_location)):\n",
    "    q = db.chosen_offices.find(geoQueryNear(veterinary_location.iloc[i].geopoint, radius=5000),{\"_id\":0,\"company_id\":0})\n",
    "    near_offices = list(q)\n",
    "    veterinary.append(near_offices)\n",
    "veterinary[0]"
   ]
  },
  {
   "cell_type": "code",
   "execution_count": 17,
   "metadata": {},
   "outputs": [
    {
     "data": {
      "text/plain": [
       "Zynga         12\n",
       "Kongregate    11\n",
       "Curse         11\n",
       "Name: name, dtype: int64"
      ]
     },
     "execution_count": 17,
     "metadata": {},
     "output_type": "execute_result"
    }
   ],
   "source": [
    "veterinary_close = [data for enterprise in veterinary for data in enterprise]\n",
    "veterinary_close = pd.DataFrame(veterinary_close)\n",
    "veterinary_close[\"name\"].value_counts()"
   ]
  },
  {
   "cell_type": "markdown",
   "metadata": {},
   "source": [
    "## FOLIUM\n",
    "    \n"
   ]
  },
  {
   "cell_type": "code",
   "execution_count": 18,
   "metadata": {},
   "outputs": [
    {
     "name": "stdout",
     "output_type": "stream",
     "text": [
      "Requirement already satisfied: folium in /Library/Frameworks/Python.framework/Versions/3.8/lib/python3.8/site-packages (0.11.0)\n",
      "Requirement already satisfied: numpy in /Library/Frameworks/Python.framework/Versions/3.8/lib/python3.8/site-packages (from folium) (1.19.0)\n",
      "Requirement already satisfied: branca>=0.3.0 in /Library/Frameworks/Python.framework/Versions/3.8/lib/python3.8/site-packages (from folium) (0.4.1)\n",
      "Requirement already satisfied: requests in /Library/Frameworks/Python.framework/Versions/3.8/lib/python3.8/site-packages (from folium) (2.24.0)\n",
      "Requirement already satisfied: jinja2>=2.9 in /Library/Frameworks/Python.framework/Versions/3.8/lib/python3.8/site-packages (from folium) (2.11.2)\n",
      "Requirement already satisfied: idna<3,>=2.5 in /Library/Frameworks/Python.framework/Versions/3.8/lib/python3.8/site-packages (from requests->folium) (2.9)\n",
      "Requirement already satisfied: urllib3!=1.25.0,!=1.25.1,<1.26,>=1.21.1 in /Library/Frameworks/Python.framework/Versions/3.8/lib/python3.8/site-packages (from requests->folium) (1.25.9)\n",
      "Requirement already satisfied: chardet<4,>=3.0.2 in /Library/Frameworks/Python.framework/Versions/3.8/lib/python3.8/site-packages (from requests->folium) (3.0.4)\n",
      "Requirement already satisfied: certifi>=2017.4.17 in /Library/Frameworks/Python.framework/Versions/3.8/lib/python3.8/site-packages (from requests->folium) (2020.6.20)\n",
      "Requirement already satisfied: MarkupSafe>=0.23 in /Library/Frameworks/Python.framework/Versions/3.8/lib/python3.8/site-packages (from jinja2>=2.9->folium) (1.1.1)\n"
     ]
    }
   ],
   "source": [
    "!pip3 install folium"
   ]
  },
  {
   "cell_type": "code",
   "execution_count": 19,
   "metadata": {},
   "outputs": [],
   "source": [
    "from folium import Map, Marker, Icon, FeatureGroup, LayerControl, Choropleth\n",
    "from folium.plugins import HeatMap\n",
    "import pandas as pd"
   ]
  },
  {
   "cell_type": "code",
   "execution_count": 20,
   "metadata": {},
   "outputs": [
    {
     "data": {
      "text/html": [
       "<div style=\"width:100%;\"><div style=\"position:relative;width:100%;height:0;padding-bottom:60%;\"><span style=\"color:#565656\">Make this Notebook Trusted to load map: File -> Trust Notebook</span><iframe src=\"about:blank\" style=\"position:absolute;width:100%;height:100%;left:0;top:0;border:none !important;\" data-html=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 onload=\"this.contentDocument.open();this.contentDocument.write(atob(this.getAttribute('data-html')));this.contentDocument.close();\" allowfullscreen webkitallowfullscreen mozallowfullscreen></iframe></div></div>"
      ],
      "text/plain": [
       "<folium.folium.Map at 0x115608730>"
      ]
     },
     "execution_count": 20,
     "metadata": {},
     "output_type": "execute_result"
    }
   ],
   "source": [
    "# Offices that have a veterinary at 5000m\n",
    "m = Map([37.773972,-122.431297],zoom_start=12)    \n",
    "for i, row in veterinary_close.iterrows():\n",
    "    icon = Icon(\n",
    "                color=\"orange\",\n",
    "                prefix=\"fa\",\n",
    "                icon=\"paw\"\n",
    "            )\n",
    "    Marker(\n",
    "        location=row[[\"latitude\",\"longitude\"]],\n",
    "        icon=icon\n",
    "    ).add_to(m)\n",
    "m"
   ]
  },
  {
   "cell_type": "code",
   "execution_count": 21,
   "metadata": {},
   "outputs": [
    {
     "data": {
      "text/html": [
       "<div style=\"width:100%;\"><div style=\"position:relative;width:100%;height:0;padding-bottom:60%;\"><span style=\"color:#565656\">Make this Notebook Trusted to load map: File -> Trust Notebook</span><iframe src=\"about:blank\" style=\"position:absolute;width:100%;height:100%;left:0;top:0;border:none !important;\" data-html=PCFET0NUWVBFIGh0bWw+CjxoZWFkPiAgICAKICAgIDxtZXRhIGh0dHAtZXF1aXY9ImNvbnRlbnQtdHlwZSIgY29udGVudD0idGV4dC9odG1sOyBjaGFyc2V0PVVURi04IiAvPgogICAgCiAgICAgICAgPHNjcmlwdD4KICAgICAgICAgICAgTF9OT19UT1VDSCA9IGZhbHNlOwogICAgICAgICAgICBMX0RJU0FCTEVfM0QgPSBmYWxzZTsKICAgICAgICA8L3NjcmlwdD4KICAgIAogICAgPHNjcmlwdCBzcmM9Imh0dHBzOi8vY2RuLmpzZGVsaXZyLm5ldC9ucG0vbGVhZmxldEAxLjYuMC9kaXN0L2xlYWZsZXQuanMiPjwvc2NyaXB0PgogICAgPHNjcmlwdCBzcmM9Imh0dHBzOi8vY29kZS5qcXVlcnkuY29tL2pxdWVyeS0xLjEyLjQubWluLmpzIj48L3NjcmlwdD4KICAgIDxzY3JpcHQgc3JjPSJodHRwczovL21heGNkbi5ib290c3RyYXBjZG4uY29tL2Jvb3RzdHJhcC8zLjIuMC9qcy9ib290c3RyYXAubWluLmpzIj48L3NjcmlwdD4KICAgIDxzY3JpcHQgc3JjPSJodHRwczovL2NkbmpzLmNsb3VkZmxhcmUuY29tL2FqYXgvbGlicy9MZWFmbGV0LmF3ZXNvbWUtbWFya2Vycy8yLjAuMi9sZWFmbGV0LmF3ZXNvbWUtbWFya2Vycy5qcyI+PC9zY3JpcHQ+CiAgICA8bGluayByZWw9InN0eWxlc2hlZXQiIGhyZWY9Imh0dHBzOi8vY2RuLmpzZGVsaXZyLm5ldC9ucG0vbGVhZmxldEAxLjYuMC9kaXN0L2xlYWZsZXQuY3NzIi8+CiAgICA8bGluayByZWw9InN0eWxlc2hlZXQiIGhyZWY9Imh0dHBzOi8vbWF4Y2RuLmJvb3RzdHJhcGNkbi5jb20vYm9vdHN0cmFwLzMuMi4wL2Nzcy9ib290c3RyYXAubWluLmNzcyIvPgogICAgPGxpbmsgcmVsPSJzdHlsZXNoZWV0IiBocmVmPSJodHRwczovL21heGNkbi5ib290c3RyYXBjZG4uY29tL2Jvb3RzdHJhcC8zLjIuMC9jc3MvYm9vdHN0cmFwLXRoZW1lLm1pbi5jc3MiLz4KICAgIDxsaW5rIHJlbD0ic3R5bGVzaGVldCIgaHJlZj0iaHR0cHM6Ly9tYXhjZG4uYm9vdHN0cmFwY2RuLmNvbS9mb250LWF3ZXNvbWUvNC42LjMvY3NzL2ZvbnQtYXdlc29tZS5taW4uY3NzIi8+CiAgICA8bGluayByZWw9InN0eWxlc2hlZXQiIGhyZWY9Imh0dHBzOi8vY2RuanMuY2xvdWRmbGFyZS5jb20vYWpheC9saWJzL0xlYWZsZXQuYXdlc29tZS1tYXJrZXJzLzIuMC4yL2xlYWZsZXQuYXdlc29tZS1tYXJrZXJzLmNzcyIvPgogICAgPGxpbmsgcmVsPSJzdHlsZXNoZWV0IiBocmVmPSJodHRwczovL3Jhd2Nkbi5naXRoYWNrLmNvbS9weXRob24tdmlzdWFsaXphdGlvbi9mb2xpdW0vbWFzdGVyL2ZvbGl1bS90ZW1wbGF0ZXMvbGVhZmxldC5hd2Vzb21lLnJvdGF0ZS5jc3MiLz4KICAgIDxzdHlsZT5odG1sLCBib2R5IHt3aWR0aDogMTAwJTtoZWlnaHQ6IDEwMCU7bWFyZ2luOiAwO3BhZGRpbmc6IDA7fTwvc3R5bGU+CiAgICA8c3R5bGU+I21hcCB7cG9zaXRpb246YWJzb2x1dGU7dG9wOjA7Ym90dG9tOjA7cmlnaHQ6MDtsZWZ0OjA7fTwvc3R5bGU+CiAgICAKICAgICAgICAgICAgPG1ldGEgbmFtZT0idmlld3BvcnQiIGNvbnRlbnQ9IndpZHRoPWRldmljZS13aWR0aCwKICAgICAgICAgICAgICAgIGluaXRpYWwtc2NhbGU9MS4wLCBtYXhpbXVtLXNjYWxlPTEuMCwgdXNlci1zY2FsYWJsZT1ubyIgLz4KICAgICAgICAgICAgPHN0eWxlPgogICAgICAgICAgICAgICAgI21hcF8xMjNjY2YzOWFkZjk0MTUwYjJlZTE4YTI5NmQ0MTg5NiB7CiAgICAgICAgICAgICAgICAgICAgcG9zaXRpb246IHJlbGF0aXZlOwogICAgICAgICAgICAgICAgICAgIHdpZHRoOiAxMDAuMCU7CiAgICAgICAgICAgICAgICAgICAgaGVpZ2h0OiAxMDAuMCU7CiAgICAgICAgICAgICAgICAgICAgbGVmdDogMC4wJTsKICAgICAgICAgICAgICAgICAgICB0b3A6IDAuMCU7CiAgICAgICAgICAgICAgICB9CiAgICAgICAgICAgIDwvc3R5bGU+CiAgICAgICAgCjwvaGVhZD4KPGJvZHk+ICAgIAogICAgCiAgICAgICAgICAgIDxkaXYgY2xhc3M9ImZvbGl1bS1tYXAiIGlkPSJtYXBfMTIzY2NmMzlhZGY5NDE1MGIyZWUxOGEyOTZkNDE4OTYiID48L2Rpdj4KICAgICAgICAKPC9ib2R5Pgo8c2NyaXB0PiAgICAKICAgIAogICAgICAgICAgICB2YXIgbWFwXzEyM2NjZjM5YWRmOTQxNTBiMmVlMThhMjk2ZDQxODk2ID0gTC5tYXAoCiAgICAgICAgICAgICAgICAibWFwXzEyM2NjZjM5YWRmOTQxNTBiMmVlMThhMjk2ZDQxODk2IiwKICAgICAgICAgICAgICAgIHsKICAgICAgICAgICAgICAgICAgICBjZW50ZXI6IFszNy43NzM5NzIsIC0xMjIuNDMxMjk3XSwKICAgICAgICAgICAgICAgICAgICBjcnM6IEwuQ1JTLkVQU0czODU3LAogICAgICAgICAgICAgICAgICAgIHpvb206IDEyLAogICAgICAgICAgICAgICAgICAgIHpvb21Db250cm9sOiB0cnVlLAogICAgICAgICAgICAgICAgICAgIHByZWZlckNhbnZhczogZmFsc2UsCiAgICAgICAgICAgICAgICB9CiAgICAgICAgICAgICk7CgogICAgICAgICAgICAKCiAgICAgICAgCiAgICAKICAgICAgICAgICAgdmFyIHRpbGVfbGF5ZXJfNDBiNzU5NjNmODIyNGYzOWE5MmNlM2FjZjllM2Q0N2QgPSBMLnRpbGVMYXllcigKICAgICAgICAgICAgICAgICJodHRwczovL3tzfS50aWxlLm9wZW5zdHJlZXRtYXAub3JnL3t6fS97eH0ve3l9LnBuZyIsCiAgICAgICAgICAgICAgICB7ImF0dHJpYnV0aW9uIjogIkRhdGEgYnkgXHUwMDI2Y29weTsgXHUwMDNjYSBocmVmPVwiaHR0cDovL29wZW5zdHJlZXRtYXAub3JnXCJcdTAwM2VPcGVuU3RyZWV0TWFwXHUwMDNjL2FcdTAwM2UsIHVuZGVyIFx1MDAzY2EgaHJlZj1cImh0dHA6Ly93d3cub3BlbnN0cmVldG1hcC5vcmcvY29weXJpZ2h0XCJcdTAwM2VPRGJMXHUwMDNjL2FcdTAwM2UuIiwgImRldGVjdFJldGluYSI6IGZhbHNlLCAibWF4TmF0aXZlWm9vbSI6IDE4LCAibWF4Wm9vbSI6IDE4LCAibWluWm9vbSI6IDAsICJub1dyYXAiOiBmYWxzZSwgIm9wYWNpdHkiOiAxLCAic3ViZG9tYWlucyI6ICJhYmMiLCAidG1zIjogZmFsc2V9CiAgICAgICAgICAgICkuYWRkVG8obWFwXzEyM2NjZjM5YWRmOTQxNTBiMmVlMThhMjk2ZDQxODk2KTsKICAgICAgICAKICAgIAogICAgICAgICAgICB2YXIgbWFya2VyX2NkMGFhZDc0NWM5MTRkMGZhMmE4OWQ0YmExZjA5Y2QxID0gTC5tYXJrZXIoCiAgICAgICAgICAgICAgICBbMzcuNzg3MDkyLCAtMTIyLjM5OTk3Ml0sCiAgICAgICAgICAgICAgICB7fQogICAgICAgICAgICApLmFkZFRvKG1hcF8xMjNjY2YzOWFkZjk0MTUwYjJlZTE4YTI5NmQ0MTg5Nik7CiAgICAgICAgCiAgICAKICAgICAgICAgICAgdmFyIGljb25fNTUzODZmZjE3YmM2NDA5OGFjMmY2MDI4NGZiYjQ5MzkgPSBMLkF3ZXNvbWVNYXJrZXJzLmljb24oCiAgICAgICAgICAgICAgICB7ImV4dHJhQ2xhc3NlcyI6ICJmYS1yb3RhdGUtMCIsICJpY29uIjogImJlZXIiLCAiaWNvbkNvbG9yIjogIndoaXRlIiwgIm1hcmtlckNvbG9yIjogImJsdWUiLCAicHJlZml4IjogImZhIn0KICAgICAgICAgICAgKTsKICAgICAgICAgICAgbWFya2VyX2NkMGFhZDc0NWM5MTRkMGZhMmE4OWQ0YmExZjA5Y2QxLnNldEljb24oaWNvbl81NTM4NmZmMTdiYzY0MDk4YWMyZjYwMjg0ZmJiNDkzOSk7CiAgICAgICAgCiAgICAKICAgICAgICAgICAgdmFyIG1hcmtlcl83MGFjMjkyNjVmYmE0YTI4YmI5ODAzYTNhMjQ2ZDAxMCA9IEwubWFya2VyKAogICAgICAgICAgICAgICAgWzM3Ljc4Njk0MiwgLTEyMi40MDEyNDVdLAogICAgICAgICAgICAgICAge30KICAgICAgICAgICAgKS5hZGRUbyhtYXBfMTIzY2NmMzlhZGY5NDE1MGIyZWUxOGEyOTZkNDE4OTYpOwogICAgICAgIAogICAgCiAgICAgICAgICAgIHZhciBpY29uXzE1YzE1ZmM3OWNiNDQ1MmFhYzVlZmQwNDhlMTBjYzI4ID0gTC5Bd2Vzb21lTWFya2Vycy5pY29uKAogICAgICAgICAgICAgICAgeyJleHRyYUNsYXNzZXMiOiAiZmEtcm90YXRlLTAiLCAiaWNvbiI6ICJiZWVyIiwgImljb25Db2xvciI6ICJ3aGl0ZSIsICJtYXJrZXJDb2xvciI6ICJibHVlIiwgInByZWZpeCI6ICJmYSJ9CiAgICAgICAgICAgICk7CiAgICAgICAgICAgIG1hcmtlcl83MGFjMjkyNjVmYmE0YTI4YmI5ODAzYTNhMjQ2ZDAxMC5zZXRJY29uKGljb25fMTVjMTVmYzc5Y2I0NDUyYWFjNWVmZDA0OGUxMGNjMjgpOwogICAgICAgIAogICAgCiAgICAgICAgICAgIHZhciBtYXJrZXJfYzhlYTc2ODYyOTU2NDZmNzg1MWVkNjNiZTI4MzlkYWMgPSBMLm1hcmtlcigKICAgICAgICAgICAgICAgIFszNy43NjUxNTgsIC0xMjIuNDA0MjM0XSwKICAgICAgICAgICAgICAgIHt9CiAgICAgICAgICAgICkuYWRkVG8obWFwXzEyM2NjZjM5YWRmOTQxNTBiMmVlMThhMjk2ZDQxODk2KTsKICAgICAgICAKICAgIAogICAgICAgICAgICB2YXIgaWNvbl82ZGVmZDFiZGYyMzI0MjZiODU5NWMyNWUzYWIwNDllNCA9IEwuQXdlc29tZU1hcmtlcnMuaWNvbigKICAgICAgICAgICAgICAgIHsiZXh0cmFDbGFzc2VzIjogImZhLXJvdGF0ZS0wIiwgImljb24iOiAiYmVlciIsICJpY29uQ29sb3IiOiAid2hpdGUiLCAibWFya2VyQ29sb3IiOiAiYmx1ZSIsICJwcmVmaXgiOiAiZmEifQogICAgICAgICAgICApOwogICAgICAgICAgICBtYXJrZXJfYzhlYTc2ODYyOTU2NDZmNzg1MWVkNjNiZTI4MzlkYWMuc2V0SWNvbihpY29uXzZkZWZkMWJkZjIzMjQyNmI4NTk1YzI1ZTNhYjA0OWU0KTsKICAgICAgICAKICAgIAogICAgICAgICAgICB2YXIgbWFya2VyX2I0MDQ3NjRlMGFiYjQ4MWJiMmYwNmUwNzI4ODIwYzRlID0gTC5tYXJrZXIoCiAgICAgICAgICAgICAgICBbMzcuNzg2OTQyLCAtMTIyLjQwMTI0NV0sCiAgICAgICAgICAgICAgICB7fQogICAgICAgICAgICApLmFkZFRvKG1hcF8xMjNjY2YzOWFkZjk0MTUwYjJlZTE4YTI5NmQ0MTg5Nik7CiAgICAgICAgCiAgICAKICAgICAgICAgICAgdmFyIGljb25fNjJmZDQwZWU4ZmJiNDFiZmFjN2JlOTAxZmQ5ZTdiNGQgPSBMLkF3ZXNvbWVNYXJrZXJzLmljb24oCiAgICAgICAgICAgICAgICB7ImV4dHJhQ2xhc3NlcyI6ICJmYS1yb3RhdGUtMCIsICJpY29uIjogImJlZXIiLCAiaWNvbkNvbG9yIjogIndoaXRlIiwgIm1hcmtlckNvbG9yIjogImJsdWUiLCAicHJlZml4IjogImZhIn0KICAgICAgICAgICAgKTsKICAgICAgICAgICAgbWFya2VyX2I0MDQ3NjRlMGFiYjQ4MWJiMmYwNmUwNzI4ODIwYzRlLnNldEljb24oaWNvbl82MmZkNDBlZThmYmI0MWJmYWM3YmU5MDFmZDllN2I0ZCk7CiAgICAgICAgCiAgICAKICAgICAgICAgICAgdmFyIG1hcmtlcl84MDU2MjZmY2Q2Zjk0M2Q3ODIwOWViYzExYTBlNDNiYiA9IEwubWFya2VyKAogICAgICAgICAgICAgICAgWzM3Ljc4NzA5MiwgLTEyMi4zOTk5NzJdLAogICAgICAgICAgICAgICAge30KICAgICAgICAgICAgKS5hZGRUbyhtYXBfMTIzY2NmMzlhZGY5NDE1MGIyZWUxOGEyOTZkNDE4OTYpOwogICAgICAgIAogICAgCiAgICAgICAgICAgIHZhciBpY29uXzJlY2Q4ZjQ3YzVmNzQ1NWNhYTU4MjM5N2EwYTdjNzIwID0gTC5Bd2Vzb21lTWFya2Vycy5pY29uKAogICAgICAgICAgICAgICAgeyJleHRyYUNsYXNzZXMiOiAiZmEtcm90YXRlLTAiLCAiaWNvbiI6ICJiZWVyIiwgImljb25Db2xvciI6ICJ3aGl0ZSIsICJtYXJrZXJDb2xvciI6ICJibHVlIiwgInByZWZpeCI6ICJmYSJ9CiAgICAgICAgICAgICk7CiAgICAgICAgICAgIG1hcmtlcl84MDU2MjZmY2Q2Zjk0M2Q3ODIwOWViYzExYTBlNDNiYi5zZXRJY29uKGljb25fMmVjZDhmNDdjNWY3NDU1Y2FhNTgyMzk3YTBhN2M3MjApOwogICAgICAgIAogICAgCiAgICAgICAgICAgIHZhciBtYXJrZXJfMTdkNWEwMDliZjlmNDQ4NjkyZGFhN2JkNjhjODQxMzEgPSBMLm1hcmtlcigKICAgICAgICAgICAgICAgIFszNy43NjUxNTgsIC0xMjIuNDA0MjM0XSwKICAgICAgICAgICAgICAgIHt9CiAgICAgICAgICAgICkuYWRkVG8obWFwXzEyM2NjZjM5YWRmOTQxNTBiMmVlMThhMjk2ZDQxODk2KTsKICAgICAgICAKICAgIAogICAgICAgICAgICB2YXIgaWNvbl9mNDEzMzU4MmYzODM0ZGM2YWE5MjllYjhkZTlmN2Y4YyA9IEwuQXdlc29tZU1hcmtlcnMuaWNvbigKICAgICAgICAgICAgICAgIHsiZXh0cmFDbGFzc2VzIjogImZhLXJvdGF0ZS0wIiwgImljb24iOiAiYmVlciIsICJpY29uQ29sb3IiOiAid2hpdGUiLCAibWFya2VyQ29sb3IiOiAiYmx1ZSIsICJwcmVmaXgiOiAiZmEifQogICAgICAgICAgICApOwogICAgICAgICAgICBtYXJrZXJfMTdkNWEwMDliZjlmNDQ4NjkyZGFhN2JkNjhjODQxMzEuc2V0SWNvbihpY29uX2Y0MTMzNTgyZjM4MzRkYzZhYTkyOWViOGRlOWY3ZjhjKTsKICAgICAgICAKICAgIAogICAgICAgICAgICB2YXIgbWFya2VyXzdiMDZhOGY4NjM4ZDRmNjE5Nzc2OTEzMTQ3YzA3ZDgxID0gTC5tYXJrZXIoCiAgICAgICAgICAgICAgICBbMzcuNzg2OTQyLCAtMTIyLjQwMTI0NV0sCiAgICAgICAgICAgICAgICB7fQogICAgICAgICAgICApLmFkZFRvKG1hcF8xMjNjY2YzOWFkZjk0MTUwYjJlZTE4YTI5NmQ0MTg5Nik7CiAgICAgICAgCiAgICAKICAgICAgICAgICAgdmFyIGljb25fMTczMWZhZTA3Mjk1NGQ1NTg1ODgzMWQ5MTU5MjhmMDMgPSBMLkF3ZXNvbWVNYXJrZXJzLmljb24oCiAgICAgICAgICAgICAgICB7ImV4dHJhQ2xhc3NlcyI6ICJmYS1yb3RhdGUtMCIsICJpY29uIjogImJlZXIiLCAiaWNvbkNvbG9yIjogIndoaXRlIiwgIm1hcmtlckNvbG9yIjogImJsdWUiLCAicHJlZml4IjogImZhIn0KICAgICAgICAgICAgKTsKICAgICAgICAgICAgbWFya2VyXzdiMDZhOGY4NjM4ZDRmNjE5Nzc2OTEzMTQ3YzA3ZDgxLnNldEljb24oaWNvbl8xNzMxZmFlMDcyOTU0ZDU1ODU4ODMxZDkxNTkyOGYwMyk7CiAgICAgICAgCiAgICAKICAgICAgICAgICAgdmFyIG1hcmtlcl9kNDU4NmQ4NzI1Y2I0Yjc5YTMzMDQyNmEzOWYyOWIyMyA9IEwubWFya2VyKAogICAgICAgICAgICAgICAgWzM3Ljc4NzA5MiwgLTEyMi4zOTk5NzJdLAogICAgICAgICAgICAgICAge30KICAgICAgICAgICAgKS5hZGRUbyhtYXBfMTIzY2NmMzlhZGY5NDE1MGIyZWUxOGEyOTZkNDE4OTYpOwogICAgICAgIAogICAgCiAgICAgICAgICAgIHZhciBpY29uXzA5NzE0ZmQ1MzA4YTQ0MzlhYTFmYWZlNzkzN2UyNTdlID0gTC5Bd2Vzb21lTWFya2Vycy5pY29uKAogICAgICAgICAgICAgICAgeyJleHRyYUNsYXNzZXMiOiAiZmEtcm90YXRlLTAiLCAiaWNvbiI6ICJiZWVyIiwgImljb25Db2xvciI6ICJ3aGl0ZSIsICJtYXJrZXJDb2xvciI6ICJibHVlIiwgInByZWZpeCI6ICJmYSJ9CiAgICAgICAgICAgICk7CiAgICAgICAgICAgIG1hcmtlcl9kNDU4NmQ4NzI1Y2I0Yjc5YTMzMDQyNmEzOWYyOWIyMy5zZXRJY29uKGljb25fMDk3MTRmZDUzMDhhNDQzOWFhMWZhZmU3OTM3ZTI1N2UpOwogICAgICAgIAogICAgCiAgICAgICAgICAgIHZhciBtYXJrZXJfMjRjZTg2MzBmYzNiNGZmMWEyYmEzMWViZGIwZTdlNTQgPSBMLm1hcmtlcigKICAgICAgICAgICAgICAgIFszNy43NjUxNTgsIC0xMjIuNDA0MjM0XSwKICAgICAgICAgICAgICAgIHt9CiAgICAgICAgICAgICkuYWRkVG8obWFwXzEyM2NjZjM5YWRmOTQxNTBiMmVlMThhMjk2ZDQxODk2KTsKICAgICAgICAKICAgIAogICAgICAgICAgICB2YXIgaWNvbl81MjhmM2FjMWRhZjU0MWE0YWUzZWY3NzU4ZjJmODBiNyA9IEwuQXdlc29tZU1hcmtlcnMuaWNvbigKICAgICAgICAgICAgICAgIHsiZXh0cmFDbGFzc2VzIjogImZhLXJvdGF0ZS0wIiwgImljb24iOiAiYmVlciIsICJpY29uQ29sb3IiOiAid2hpdGUiLCAibWFya2VyQ29sb3IiOiAiYmx1ZSIsICJwcmVmaXgiOiAiZmEifQogICAgICAgICAgICApOwogICAgICAgICAgICBtYXJrZXJfMjRjZTg2MzBmYzNiNGZmMWEyYmEzMWViZGIwZTdlNTQuc2V0SWNvbihpY29uXzUyOGYzYWMxZGFmNTQxYTRhZTNlZjc3NThmMmY4MGI3KTsKICAgICAgICAKICAgIAogICAgICAgICAgICB2YXIgbWFya2VyXzg0ZjQ5YzJjNDczNjRmNzc5MTVhZjA5YjlkNmEwYjM1ID0gTC5tYXJrZXIoCiAgICAgICAgICAgICAgICBbMzcuNzg2OTQyLCAtMTIyLjQwMTI0NV0sCiAgICAgICAgICAgICAgICB7fQogICAgICAgICAgICApLmFkZFRvKG1hcF8xMjNjY2YzOWFkZjk0MTUwYjJlZTE4YTI5NmQ0MTg5Nik7CiAgICAgICAgCiAgICAKICAgICAgICAgICAgdmFyIGljb25fODEwMDFmMGEwOGZkNGJkMmI5MTI2NzhlMjU3OGRhYWYgPSBMLkF3ZXNvbWVNYXJrZXJzLmljb24oCiAgICAgICAgICAgICAgICB7ImV4dHJhQ2xhc3NlcyI6ICJmYS1yb3RhdGUtMCIsICJpY29uIjogImJlZXIiLCAiaWNvbkNvbG9yIjogIndoaXRlIiwgIm1hcmtlckNvbG9yIjogImJsdWUiLCAicHJlZml4IjogImZhIn0KICAgICAgICAgICAgKTsKICAgICAgICAgICAgbWFya2VyXzg0ZjQ5YzJjNDczNjRmNzc5MTVhZjA5YjlkNmEwYjM1LnNldEljb24oaWNvbl84MTAwMWYwYTA4ZmQ0YmQyYjkxMjY3OGUyNTc4ZGFhZik7CiAgICAgICAgCiAgICAKICAgICAgICAgICAgdmFyIG1hcmtlcl9mMTU2ZWNlNGIwZTI0NjJjYTA4YWE5ZWNmNmQyYzRkMyA9IEwubWFya2VyKAogICAgICAgICAgICAgICAgWzM3Ljc4NzA5MiwgLTEyMi4zOTk5NzJdLAogICAgICAgICAgICAgICAge30KICAgICAgICAgICAgKS5hZGRUbyhtYXBfMTIzY2NmMzlhZGY5NDE1MGIyZWUxOGEyOTZkNDE4OTYpOwogICAgICAgIAogICAgCiAgICAgICAgICAgIHZhciBpY29uXzA0YWRhMzNiNjM0ZTQ5Nzg4YmNmYzE2YmNhYzQyYWY3ID0gTC5Bd2Vzb21lTWFya2Vycy5pY29uKAogICAgICAgICAgICAgICAgeyJleHRyYUNsYXNzZXMiOiAiZmEtcm90YXRlLTAiLCAiaWNvbiI6ICJiZWVyIiwgImljb25Db2xvciI6ICJ3aGl0ZSIsICJtYXJrZXJDb2xvciI6ICJibHVlIiwgInByZWZpeCI6ICJmYSJ9CiAgICAgICAgICAgICk7CiAgICAgICAgICAgIG1hcmtlcl9mMTU2ZWNlNGIwZTI0NjJjYTA4YWE5ZWNmNmQyYzRkMy5zZXRJY29uKGljb25fMDRhZGEzM2I2MzRlNDk3ODhiY2ZjMTZiY2FjNDJhZjcpOwogICAgICAgIAogICAgCiAgICAgICAgICAgIHZhciBtYXJrZXJfNTc3MDg2NzNmZjJlNGMwNGI4NWFjNjA2OTE3YjYyMjIgPSBMLm1hcmtlcigKICAgICAgICAgICAgICAgIFszNy43NjUxNTgsIC0xMjIuNDA0MjM0XSwKICAgICAgICAgICAgICAgIHt9CiAgICAgICAgICAgICkuYWRkVG8obWFwXzEyM2NjZjM5YWRmOTQxNTBiMmVlMThhMjk2ZDQxODk2KTsKICAgICAgICAKICAgIAogICAgICAgICAgICB2YXIgaWNvbl82NDVhMjUwM2QyMDg0OTRkOGY3YWVmMDkyMjIyNWUyZSA9IEwuQXdlc29tZU1hcmtlcnMuaWNvbigKICAgICAgICAgICAgICAgIHsiZXh0cmFDbGFzc2VzIjogImZhLXJvdGF0ZS0wIiwgImljb24iOiAiYmVlciIsICJpY29uQ29sb3IiOiAid2hpdGUiLCAibWFya2VyQ29sb3IiOiAiYmx1ZSIsICJwcmVmaXgiOiAiZmEifQogICAgICAgICAgICApOwogICAgICAgICAgICBtYXJrZXJfNTc3MDg2NzNmZjJlNGMwNGI4NWFjNjA2OTE3YjYyMjIuc2V0SWNvbihpY29uXzY0NWEyNTAzZDIwODQ5NGQ4ZjdhZWYwOTIyMjI1ZTJlKTsKICAgICAgICAKICAgIAogICAgICAgICAgICB2YXIgbWFya2VyXzlhN2ZmMTY3OGMxYzQzNmJhOTAyNjU4Y2U2ODIxMzMzID0gTC5tYXJrZXIoCiAgICAgICAgICAgICAgICBbMzcuNzY1MTU4LCAtMTIyLjQwNDIzNF0sCiAgICAgICAgICAgICAgICB7fQogICAgICAgICAgICApLmFkZFRvKG1hcF8xMjNjY2YzOWFkZjk0MTUwYjJlZTE4YTI5NmQ0MTg5Nik7CiAgICAgICAgCiAgICAKICAgICAgICAgICAgdmFyIGljb25fNGNmNTg5ODdjY2QyNDM1ZGI4MGNhOGY0YjA1YTQ1Y2QgPSBMLkF3ZXNvbWVNYXJrZXJzLmljb24oCiAgICAgICAgICAgICAgICB7ImV4dHJhQ2xhc3NlcyI6ICJmYS1yb3RhdGUtMCIsICJpY29uIjogImJlZXIiLCAiaWNvbkNvbG9yIjogIndoaXRlIiwgIm1hcmtlckNvbG9yIjogImJsdWUiLCAicHJlZml4IjogImZhIn0KICAgICAgICAgICAgKTsKICAgICAgICAgICAgbWFya2VyXzlhN2ZmMTY3OGMxYzQzNmJhOTAyNjU4Y2U2ODIxMzMzLnNldEljb24oaWNvbl80Y2Y1ODk4N2NjZDI0MzVkYjgwY2E4ZjRiMDVhNDVjZCk7CiAgICAgICAgCiAgICAKICAgICAgICAgICAgdmFyIG1hcmtlcl9iNDAyNmI5NTY0MWY0NzI0YWE0MjVmZWExMzU2NzY4OCA9IEwubWFya2VyKAogICAgICAgICAgICAgICAgWzM3Ljc4Njk0MiwgLTEyMi40MDEyNDVdLAogICAgICAgICAgICAgICAge30KICAgICAgICAgICAgKS5hZGRUbyhtYXBfMTIzY2NmMzlhZGY5NDE1MGIyZWUxOGEyOTZkNDE4OTYpOwogICAgICAgIAogICAgCiAgICAgICAgICAgIHZhciBpY29uXzI4ZWMyZGQ3MGFiNTQ2NDBiMDJiMmNkOGQ0MTNmYzc5ID0gTC5Bd2Vzb21lTWFya2Vycy5pY29uKAogICAgICAgICAgICAgICAgeyJleHRyYUNsYXNzZXMiOiAiZmEtcm90YXRlLTAiLCAiaWNvbiI6ICJiZWVyIiwgImljb25Db2xvciI6ICJ3aGl0ZSIsICJtYXJrZXJDb2xvciI6ICJibHVlIiwgInByZWZpeCI6ICJmYSJ9CiAgICAgICAgICAgICk7CiAgICAgICAgICAgIG1hcmtlcl9iNDAyNmI5NTY0MWY0NzI0YWE0MjVmZWExMzU2NzY4OC5zZXRJY29uKGljb25fMjhlYzJkZDcwYWI1NDY0MGIwMmIyY2Q4ZDQxM2ZjNzkpOwogICAgICAgIAogICAgCiAgICAgICAgICAgIHZhciBtYXJrZXJfN2RlNzViMjE1NjY1NDc0Y2FkMTk5MTBmMGMyMjBmMmYgPSBMLm1hcmtlcigKICAgICAgICAgICAgICAgIFszNy43ODcwOTIsIC0xMjIuMzk5OTcyXSwKICAgICAgICAgICAgICAgIHt9CiAgICAgICAgICAgICkuYWRkVG8obWFwXzEyM2NjZjM5YWRmOTQxNTBiMmVlMThhMjk2ZDQxODk2KTsKICAgICAgICAKICAgIAogICAgICAgICAgICB2YXIgaWNvbl85OGZiMTY2Zjk1OTc0ZTQxYWVmNDRmZTRmNTA4ZDY4YiA9IEwuQXdlc29tZU1hcmtlcnMuaWNvbigKICAgICAgICAgICAgICAgIHsiZXh0cmFDbGFzc2VzIjogImZhLXJvdGF0ZS0wIiwgImljb24iOiAiYmVlciIsICJpY29uQ29sb3IiOiAid2hpdGUiLCAibWFya2VyQ29sb3IiOiAiYmx1ZSIsICJwcmVmaXgiOiAiZmEifQogICAgICAgICAgICApOwogICAgICAgICAgICBtYXJrZXJfN2RlNzViMjE1NjY1NDc0Y2FkMTk5MTBmMGMyMjBmMmYuc2V0SWNvbihpY29uXzk4ZmIxNjZmOTU5NzRlNDFhZWY0NGZlNGY1MDhkNjhiKTsKICAgICAgICAKICAgIAogICAgICAgICAgICB2YXIgbWFya2VyX2NkZjI3YmY2MGZjMjQ5MzlhYmJjNGJhNmM3NDczOTljID0gTC5tYXJrZXIoCiAgICAgICAgICAgICAgICBbMzcuNzY1MTU4LCAtMTIyLjQwNDIzNF0sCiAgICAgICAgICAgICAgICB7fQogICAgICAgICAgICApLmFkZFRvKG1hcF8xMjNjY2YzOWFkZjk0MTUwYjJlZTE4YTI5NmQ0MTg5Nik7CiAgICAgICAgCiAgICAKICAgICAgICAgICAgdmFyIGljb25fYjJiNjRkMjg0YTg2NDdkYmJiZmYzMTIwNTQzNmQxODkgPSBMLkF3ZXNvbWVNYXJrZXJzLmljb24oCiAgICAgICAgICAgICAgICB7ImV4dHJhQ2xhc3NlcyI6ICJmYS1yb3RhdGUtMCIsICJpY29uIjogImJlZXIiLCAiaWNvbkNvbG9yIjogIndoaXRlIiwgIm1hcmtlckNvbG9yIjogImJsdWUiLCAicHJlZml4IjogImZhIn0KICAgICAgICAgICAgKTsKICAgICAgICAgICAgbWFya2VyX2NkZjI3YmY2MGZjMjQ5MzlhYmJjNGJhNmM3NDczOTljLnNldEljb24oaWNvbl9iMmI2NGQyODRhODY0N2RiYmJmZjMxMjA1NDM2ZDE4OSk7CiAgICAgICAgCiAgICAKICAgICAgICAgICAgdmFyIG1hcmtlcl9hMjY2NGMzMjFlMGM0OTkwYWY1YTZhNjljZDg2OWU4ZSA9IEwubWFya2VyKAogICAgICAgICAgICAgICAgWzM3Ljc4Njk0MiwgLTEyMi40MDEyNDVdLAogICAgICAgICAgICAgICAge30KICAgICAgICAgICAgKS5hZGRUbyhtYXBfMTIzY2NmMzlhZGY5NDE1MGIyZWUxOGEyOTZkNDE4OTYpOwogICAgICAgIAogICAgCiAgICAgICAgICAgIHZhciBpY29uX2YxZjM1OTJkYmFkOTRjYjE4YTViYTg2NmE4ZmU1ZTJiID0gTC5Bd2Vzb21lTWFya2Vycy5pY29uKAogICAgICAgICAgICAgICAgeyJleHRyYUNsYXNzZXMiOiAiZmEtcm90YXRlLTAiLCAiaWNvbiI6ICJiZWVyIiwgImljb25Db2xvciI6ICJ3aGl0ZSIsICJtYXJrZXJDb2xvciI6ICJibHVlIiwgInByZWZpeCI6ICJmYSJ9CiAgICAgICAgICAgICk7CiAgICAgICAgICAgIG1hcmtlcl9hMjY2NGMzMjFlMGM0OTkwYWY1YTZhNjljZDg2OWU4ZS5zZXRJY29uKGljb25fZjFmMzU5MmRiYWQ5NGNiMThhNWJhODY2YThmZTVlMmIpOwogICAgICAgIAogICAgCiAgICAgICAgICAgIHZhciBtYXJrZXJfNzRjNTE4MzdiMWI5NDcwOTkzMjE2N2ZlNTY5ZWUyN2UgPSBMLm1hcmtlcigKICAgICAgICAgICAgICAgIFszNy43ODcwOTIsIC0xMjIuMzk5OTcyXSwKICAgICAgICAgICAgICAgIHt9CiAgICAgICAgICAgICkuYWRkVG8obWFwXzEyM2NjZjM5YWRmOTQxNTBiMmVlMThhMjk2ZDQxODk2KTsKICAgICAgICAKICAgIAogICAgICAgICAgICB2YXIgaWNvbl81OTczZWU1YmZlOGY0MWRlYmQxMDU4ODJiNjc3NjhlZiA9IEwuQXdlc29tZU1hcmtlcnMuaWNvbigKICAgICAgICAgICAgICAgIHsiZXh0cmFDbGFzc2VzIjogImZhLXJvdGF0ZS0wIiwgImljb24iOiAiYmVlciIsICJpY29uQ29sb3IiOiAid2hpdGUiLCAibWFya2VyQ29sb3IiOiAiYmx1ZSIsICJwcmVmaXgiOiAiZmEifQogICAgICAgICAgICApOwogICAgICAgICAgICBtYXJrZXJfNzRjNTE4MzdiMWI5NDcwOTkzMjE2N2ZlNTY5ZWUyN2Uuc2V0SWNvbihpY29uXzU5NzNlZTViZmU4ZjQxZGViZDEwNTg4MmI2Nzc2OGVmKTsKICAgICAgICAKICAgIAogICAgICAgICAgICB2YXIgbWFya2VyX2FmYTk0MzMzMGJhYjQ4MmJhYmZkMmE5YTllMjcxMjZiID0gTC5tYXJrZXIoCiAgICAgICAgICAgICAgICBbMzcuNzg3MDkyLCAtMTIyLjM5OTk3Ml0sCiAgICAgICAgICAgICAgICB7fQogICAgICAgICAgICApLmFkZFRvKG1hcF8xMjNjY2YzOWFkZjk0MTUwYjJlZTE4YTI5NmQ0MTg5Nik7CiAgICAgICAgCiAgICAKICAgICAgICAgICAgdmFyIGljb25fZDQ1ZjhiZTRjOTc1NDUwMWExMDJiZDQzOTIxZGQ3YTUgPSBMLkF3ZXNvbWVNYXJrZXJzLmljb24oCiAgICAgICAgICAgICAgICB7ImV4dHJhQ2xhc3NlcyI6ICJmYS1yb3RhdGUtMCIsICJpY29uIjogImJlZXIiLCAiaWNvbkNvbG9yIjogIndoaXRlIiwgIm1hcmtlckNvbG9yIjogImJsdWUiLCAicHJlZml4IjogImZhIn0KICAgICAgICAgICAgKTsKICAgICAgICAgICAgbWFya2VyX2FmYTk0MzMzMGJhYjQ4MmJhYmZkMmE5YTllMjcxMjZiLnNldEljb24oaWNvbl9kNDVmOGJlNGM5NzU0NTAxYTEwMmJkNDM5MjFkZDdhNSk7CiAgICAgICAgCiAgICAKICAgICAgICAgICAgdmFyIG1hcmtlcl9mYTY3Zjk0ZjVlNzQ0OTBhYjhlY2RkMGY0YzQwMzA2YSA9IEwubWFya2VyKAogICAgICAgICAgICAgICAgWzM3Ljc4Njk0MiwgLTEyMi40MDEyNDVdLAogICAgICAgICAgICAgICAge30KICAgICAgICAgICAgKS5hZGRUbyhtYXBfMTIzY2NmMzlhZGY5NDE1MGIyZWUxOGEyOTZkNDE4OTYpOwogICAgICAgIAogICAgCiAgICAgICAgICAgIHZhciBpY29uXzkzZjE1ODBjMWNlODQ5NDI5MDg4YTAzZjQyMWRkYTFmID0gTC5Bd2Vzb21lTWFya2Vycy5pY29uKAogICAgICAgICAgICAgICAgeyJleHRyYUNsYXNzZXMiOiAiZmEtcm90YXRlLTAiLCAiaWNvbiI6ICJiZWVyIiwgImljb25Db2xvciI6ICJ3aGl0ZSIsICJtYXJrZXJDb2xvciI6ICJibHVlIiwgInByZWZpeCI6ICJmYSJ9CiAgICAgICAgICAgICk7CiAgICAgICAgICAgIG1hcmtlcl9mYTY3Zjk0ZjVlNzQ0OTBhYjhlY2RkMGY0YzQwMzA2YS5zZXRJY29uKGljb25fOTNmMTU4MGMxY2U4NDk0MjkwODhhMDNmNDIxZGRhMWYpOwogICAgICAgIAogICAgCiAgICAgICAgICAgIHZhciBtYXJrZXJfZTExYWMyYmRlNTcyNDlmMmIwNjg2MjdhOGQ2OTNiYWEgPSBMLm1hcmtlcigKICAgICAgICAgICAgICAgIFszNy43NjUxNTgsIC0xMjIuNDA0MjM0XSwKICAgICAgICAgICAgICAgIHt9CiAgICAgICAgICAgICkuYWRkVG8obWFwXzEyM2NjZjM5YWRmOTQxNTBiMmVlMThhMjk2ZDQxODk2KTsKICAgICAgICAKICAgIAogICAgICAgICAgICB2YXIgaWNvbl9jMmUxZWQ1YjViNzg0M2Y2OTFjZmE2OTRiYmY1YmUzOSA9IEwuQXdlc29tZU1hcmtlcnMuaWNvbigKICAgICAgICAgICAgICAgIHsiZXh0cmFDbGFzc2VzIjogImZhLXJvdGF0ZS0wIiwgImljb24iOiAiYmVlciIsICJpY29uQ29sb3IiOiAid2hpdGUiLCAibWFya2VyQ29sb3IiOiAiYmx1ZSIsICJwcmVmaXgiOiAiZmEifQogICAgICAgICAgICApOwogICAgICAgICAgICBtYXJrZXJfZTExYWMyYmRlNTcyNDlmMmIwNjg2MjdhOGQ2OTNiYWEuc2V0SWNvbihpY29uX2MyZTFlZDViNWI3ODQzZjY5MWNmYTY5NGJiZjViZTM5KTsKICAgICAgICAKICAgIAogICAgICAgICAgICB2YXIgbWFya2VyXzAwZTgwNGM3ZjlmNjRjODQ5YmYyMjY2NzZhMDNlZmJmID0gTC5tYXJrZXIoCiAgICAgICAgICAgICAgICBbMzcuNzY1MTU4LCAtMTIyLjQwNDIzNF0sCiAgICAgICAgICAgICAgICB7fQogICAgICAgICAgICApLmFkZFRvKG1hcF8xMjNjY2YzOWFkZjk0MTUwYjJlZTE4YTI5NmQ0MTg5Nik7CiAgICAgICAgCiAgICAKICAgICAgICAgICAgdmFyIGljb25fZTg1YjhkNGIzYzE2NDcwMDhlZmQ4NDc2OGQ4NGNjZjcgPSBMLkF3ZXNvbWVNYXJrZXJzLmljb24oCiAgICAgICAgICAgICAgICB7ImV4dHJhQ2xhc3NlcyI6ICJmYS1yb3RhdGUtMCIsICJpY29uIjogImJlZXIiLCAiaWNvbkNvbG9yIjogIndoaXRlIiwgIm1hcmtlckNvbG9yIjogImJsdWUiLCAicHJlZml4IjogImZhIn0KICAgICAgICAgICAgKTsKICAgICAgICAgICAgbWFya2VyXzAwZTgwNGM3ZjlmNjRjODQ5YmYyMjY2NzZhMDNlZmJmLnNldEljb24oaWNvbl9lODViOGQ0YjNjMTY0NzAwOGVmZDg0NzY4ZDg0Y2NmNyk7CiAgICAgICAgCiAgICAKICAgICAgICAgICAgdmFyIG1hcmtlcl82YmNhZTJiMjg4YTg0MzU1YTdkMTc5Y2UwMTE4NzE2NyA9IEwubWFya2VyKAogICAgICAgICAgICAgICAgWzM3Ljc2NTE1OCwgLTEyMi40MDQyMzRdLAogICAgICAgICAgICAgICAge30KICAgICAgICAgICAgKS5hZGRUbyhtYXBfMTIzY2NmMzlhZGY5NDE1MGIyZWUxOGEyOTZkNDE4OTYpOwogICAgICAgIAogICAgCiAgICAgICAgICAgIHZhciBpY29uX2M0ZDY1ZjlhMjI1YzQxYTliMTA5MTM0ZDI4YzhkNWNjID0gTC5Bd2Vzb21lTWFya2Vycy5pY29uKAogICAgICAgICAgICAgICAgeyJleHRyYUNsYXNzZXMiOiAiZmEtcm90YXRlLTAiLCAiaWNvbiI6ICJiZWVyIiwgImljb25Db2xvciI6ICJ3aGl0ZSIsICJtYXJrZXJDb2xvciI6ICJibHVlIiwgInByZWZpeCI6ICJmYSJ9CiAgICAgICAgICAgICk7CiAgICAgICAgICAgIG1hcmtlcl82YmNhZTJiMjg4YTg0MzU1YTdkMTc5Y2UwMTE4NzE2Ny5zZXRJY29uKGljb25fYzRkNjVmOWEyMjVjNDFhOWIxMDkxMzRkMjhjOGQ1Y2MpOwogICAgICAgIAogICAgCiAgICAgICAgICAgIHZhciBtYXJrZXJfYTk5OTA1MzhmODFhNDc2YzhmNTllMTBkMDQ3OGE5ZDAgPSBMLm1hcmtlcigKICAgICAgICAgICAgICAgIFszNy43ODcwOTIsIC0xMjIuMzk5OTcyXSwKICAgICAgICAgICAgICAgIHt9CiAgICAgICAgICAgICkuYWRkVG8obWFwXzEyM2NjZjM5YWRmOTQxNTBiMmVlMThhMjk2ZDQxODk2KTsKICAgICAgICAKICAgIAogICAgICAgICAgICB2YXIgaWNvbl9kMTQ5Y2VlMmQyMmM0MTUzODJlYjA4ODY1MGQ2MTk3NiA9IEwuQXdlc29tZU1hcmtlcnMuaWNvbigKICAgICAgICAgICAgICAgIHsiZXh0cmFDbGFzc2VzIjogImZhLXJvdGF0ZS0wIiwgImljb24iOiAiYmVlciIsICJpY29uQ29sb3IiOiAid2hpdGUiLCAibWFya2VyQ29sb3IiOiAiYmx1ZSIsICJwcmVmaXgiOiAiZmEifQogICAgICAgICAgICApOwogICAgICAgICAgICBtYXJrZXJfYTk5OTA1MzhmODFhNDc2YzhmNTllMTBkMDQ3OGE5ZDAuc2V0SWNvbihpY29uX2QxNDljZWUyZDIyYzQxNTM4MmViMDg4NjUwZDYxOTc2KTsKICAgICAgICAKICAgIAogICAgICAgICAgICB2YXIgbWFya2VyXzNkNjQ4MzM1MzkyZjQxZTFiZDQ4NTcwNzJkNmZiZjRmID0gTC5tYXJrZXIoCiAgICAgICAgICAgICAgICBbMzcuNzg2OTQyLCAtMTIyLjQwMTI0NV0sCiAgICAgICAgICAgICAgICB7fQogICAgICAgICAgICApLmFkZFRvKG1hcF8xMjNjY2YzOWFkZjk0MTUwYjJlZTE4YTI5NmQ0MTg5Nik7CiAgICAgICAgCiAgICAKICAgICAgICAgICAgdmFyIGljb25fOTk5OWE2ODAwYzFlNGNmNTg0M2M3OTEwMDI5OTAzMWEgPSBMLkF3ZXNvbWVNYXJrZXJzLmljb24oCiAgICAgICAgICAgICAgICB7ImV4dHJhQ2xhc3NlcyI6ICJmYS1yb3RhdGUtMCIsICJpY29uIjogImJlZXIiLCAiaWNvbkNvbG9yIjogIndoaXRlIiwgIm1hcmtlckNvbG9yIjogImJsdWUiLCAicHJlZml4IjogImZhIn0KICAgICAgICAgICAgKTsKICAgICAgICAgICAgbWFya2VyXzNkNjQ4MzM1MzkyZjQxZTFiZDQ4NTcwNzJkNmZiZjRmLnNldEljb24oaWNvbl85OTk5YTY4MDBjMWU0Y2Y1ODQzYzc5MTAwMjk5MDMxYSk7CiAgICAgICAgCiAgICAKICAgICAgICAgICAgdmFyIG1hcmtlcl9mZDdkOGQ3ZTZjMzU0NGFlODk2OGE1YjNlNzA2NTEyOSA9IEwubWFya2VyKAogICAgICAgICAgICAgICAgWzM3Ljc2NTE1OCwgLTEyMi40MDQyMzRdLAogICAgICAgICAgICAgICAge30KICAgICAgICAgICAgKS5hZGRUbyhtYXBfMTIzY2NmMzlhZGY5NDE1MGIyZWUxOGEyOTZkNDE4OTYpOwogICAgICAgIAogICAgCiAgICAgICAgICAgIHZhciBpY29uXzM4NTgyMjAxYzk1MDRkYzBhNjA1NDA1YWViZmM5MjE4ID0gTC5Bd2Vzb21lTWFya2Vycy5pY29uKAogICAgICAgICAgICAgICAgeyJleHRyYUNsYXNzZXMiOiAiZmEtcm90YXRlLTAiLCAiaWNvbiI6ICJiZWVyIiwgImljb25Db2xvciI6ICJ3aGl0ZSIsICJtYXJrZXJDb2xvciI6ICJibHVlIiwgInByZWZpeCI6ICJmYSJ9CiAgICAgICAgICAgICk7CiAgICAgICAgICAgIG1hcmtlcl9mZDdkOGQ3ZTZjMzU0NGFlODk2OGE1YjNlNzA2NTEyOS5zZXRJY29uKGljb25fMzg1ODIyMDFjOTUwNGRjMGE2MDU0MDVhZWJmYzkyMTgpOwogICAgICAgIAogICAgCiAgICAgICAgICAgIHZhciBtYXJrZXJfZTQ2YjEyNTg0MTlmNDQ0M2FiMzVlOGIwZjEwNTY0MDYgPSBMLm1hcmtlcigKICAgICAgICAgICAgICAgIFszNy43ODY5NDIsIC0xMjIuNDAxMjQ1XSwKICAgICAgICAgICAgICAgIHt9CiAgICAgICAgICAgICkuYWRkVG8obWFwXzEyM2NjZjM5YWRmOTQxNTBiMmVlMThhMjk2ZDQxODk2KTsKICAgICAgICAKICAgIAogICAgICAgICAgICB2YXIgaWNvbl9kZmQyMDdiYjJiOWI0ZTA5ODM3ZjE1NDE5YzFmMGJlNCA9IEwuQXdlc29tZU1hcmtlcnMuaWNvbigKICAgICAgICAgICAgICAgIHsiZXh0cmFDbGFzc2VzIjogImZhLXJvdGF0ZS0wIiwgImljb24iOiAiYmVlciIsICJpY29uQ29sb3IiOiAid2hpdGUiLCAibWFya2VyQ29sb3IiOiAiYmx1ZSIsICJwcmVmaXgiOiAiZmEifQogICAgICAgICAgICApOwogICAgICAgICAgICBtYXJrZXJfZTQ2YjEyNTg0MTlmNDQ0M2FiMzVlOGIwZjEwNTY0MDYuc2V0SWNvbihpY29uX2RmZDIwN2JiMmI5YjRlMDk4MzdmMTU0MTljMWYwYmU0KTsKICAgICAgICAKICAgIAogICAgICAgICAgICB2YXIgbWFya2VyXzg3YTU3ZTI4NDZhYTRlZWViNzUxMTY3ZWZlMzI1ODkyID0gTC5tYXJrZXIoCiAgICAgICAgICAgICAgICBbMzcuNzg3MDkyLCAtMTIyLjM5OTk3Ml0sCiAgICAgICAgICAgICAgICB7fQogICAgICAgICAgICApLmFkZFRvKG1hcF8xMjNjY2YzOWFkZjk0MTUwYjJlZTE4YTI5NmQ0MTg5Nik7CiAgICAgICAgCiAgICAKICAgICAgICAgICAgdmFyIGljb25fMDA1MzBkMGU2NGU3NDBiNjllM2IxN2NlMTk1MGUzMDQgPSBMLkF3ZXNvbWVNYXJrZXJzLmljb24oCiAgICAgICAgICAgICAgICB7ImV4dHJhQ2xhc3NlcyI6ICJmYS1yb3RhdGUtMCIsICJpY29uIjogImJlZXIiLCAiaWNvbkNvbG9yIjogIndoaXRlIiwgIm1hcmtlckNvbG9yIjogImJsdWUiLCAicHJlZml4IjogImZhIn0KICAgICAgICAgICAgKTsKICAgICAgICAgICAgbWFya2VyXzg3YTU3ZTI4NDZhYTRlZWViNzUxMTY3ZWZlMzI1ODkyLnNldEljb24oaWNvbl8wMDUzMGQwZTY0ZTc0MGI2OWUzYjE3Y2UxOTUwZTMwNCk7CiAgICAgICAgCiAgICAKICAgICAgICAgICAgdmFyIG1hcmtlcl83ZWQwNGY5NzhlNjE0MDI2OThjY2NmZWI3YzY1NWE3YiA9IEwubWFya2VyKAogICAgICAgICAgICAgICAgWzM3Ljc2NTE1OCwgLTEyMi40MDQyMzRdLAogICAgICAgICAgICAgICAge30KICAgICAgICAgICAgKS5hZGRUbyhtYXBfMTIzY2NmMzlhZGY5NDE1MGIyZWUxOGEyOTZkNDE4OTYpOwogICAgICAgIAogICAgCiAgICAgICAgICAgIHZhciBpY29uX2E4YWMxM2U2OWRkMjQ4YjBiYmEzOWM5NGJjZjlhNjlmID0gTC5Bd2Vzb21lTWFya2Vycy5pY29uKAogICAgICAgICAgICAgICAgeyJleHRyYUNsYXNzZXMiOiAiZmEtcm90YXRlLTAiLCAiaWNvbiI6ICJiZWVyIiwgImljb25Db2xvciI6ICJ3aGl0ZSIsICJtYXJrZXJDb2xvciI6ICJibHVlIiwgInByZWZpeCI6ICJmYSJ9CiAgICAgICAgICAgICk7CiAgICAgICAgICAgIG1hcmtlcl83ZWQwNGY5NzhlNjE0MDI2OThjY2NmZWI3YzY1NWE3Yi5zZXRJY29uKGljb25fYThhYzEzZTY5ZGQyNDhiMGJiYTM5Yzk0YmNmOWE2OWYpOwogICAgICAgIAogICAgCiAgICAgICAgICAgIHZhciBtYXJrZXJfMGZmY2ZlNDQyNDgwNDY5OGFlNzEyYjc4OGQyNDA5ZWMgPSBMLm1hcmtlcigKICAgICAgICAgICAgICAgIFszNy43NjUxNTgsIC0xMjIuNDA0MjM0XSwKICAgICAgICAgICAgICAgIHt9CiAgICAgICAgICAgICkuYWRkVG8obWFwXzEyM2NjZjM5YWRmOTQxNTBiMmVlMThhMjk2ZDQxODk2KTsKICAgICAgICAKICAgIAogICAgICAgICAgICB2YXIgaWNvbl9iNTJjNzRhNzZhMDQ0OGRhODJhNDA5ODdlY2FjMzU4MiA9IEwuQXdlc29tZU1hcmtlcnMuaWNvbigKICAgICAgICAgICAgICAgIHsiZXh0cmFDbGFzc2VzIjogImZhLXJvdGF0ZS0wIiwgImljb24iOiAiYmVlciIsICJpY29uQ29sb3IiOiAid2hpdGUiLCAibWFya2VyQ29sb3IiOiAiYmx1ZSIsICJwcmVmaXgiOiAiZmEifQogICAgICAgICAgICApOwogICAgICAgICAgICBtYXJrZXJfMGZmY2ZlNDQyNDgwNDY5OGFlNzEyYjc4OGQyNDA5ZWMuc2V0SWNvbihpY29uX2I1MmM3NGE3NmEwNDQ4ZGE4MmE0MDk4N2VjYWMzNTgyKTsKICAgICAgICAKICAgIAogICAgICAgICAgICB2YXIgbWFya2VyX2Q5YmExYTg2OGVlNDRhYjA5NDkyMTAzMGIzMDU2NzIxID0gTC5tYXJrZXIoCiAgICAgICAgICAgICAgICBbMzcuNzg2OTQyLCAtMTIyLjQwMTI0NV0sCiAgICAgICAgICAgICAgICB7fQogICAgICAgICAgICApLmFkZFRvKG1hcF8xMjNjY2YzOWFkZjk0MTUwYjJlZTE4YTI5NmQ0MTg5Nik7CiAgICAgICAgCiAgICAKICAgICAgICAgICAgdmFyIGljb25fOTA2NzI4ZjZiN2Q1NDRkNmI1MTRiNjkzZWU1NDc4ZjYgPSBMLkF3ZXNvbWVNYXJrZXJzLmljb24oCiAgICAgICAgICAgICAgICB7ImV4dHJhQ2xhc3NlcyI6ICJmYS1yb3RhdGUtMCIsICJpY29uIjogImJlZXIiLCAiaWNvbkNvbG9yIjogIndoaXRlIiwgIm1hcmtlckNvbG9yIjogImJsdWUiLCAicHJlZml4IjogImZhIn0KICAgICAgICAgICAgKTsKICAgICAgICAgICAgbWFya2VyX2Q5YmExYTg2OGVlNDRhYjA5NDkyMTAzMGIzMDU2NzIxLnNldEljb24oaWNvbl85MDY3MjhmNmI3ZDU0NGQ2YjUxNGI2OTNlZTU0NzhmNik7CiAgICAgICAgCiAgICAKICAgICAgICAgICAgdmFyIG1hcmtlcl9lODk0YjAwNGQxNzQ0YjViYTAyYTBkM2MwNGI1MzcyNyA9IEwubWFya2VyKAogICAgICAgICAgICAgICAgWzM3Ljc4NzA5MiwgLTEyMi4zOTk5NzJdLAogICAgICAgICAgICAgICAge30KICAgICAgICAgICAgKS5hZGRUbyhtYXBfMTIzY2NmMzlhZGY5NDE1MGIyZWUxOGEyOTZkNDE4OTYpOwogICAgICAgIAogICAgCiAgICAgICAgICAgIHZhciBpY29uXzg3NmE5ZGYwMGNkNzRkYTQ5ZGNmYTQyZjRlMDYwMzJkID0gTC5Bd2Vzb21lTWFya2Vycy5pY29uKAogICAgICAgICAgICAgICAgeyJleHRyYUNsYXNzZXMiOiAiZmEtcm90YXRlLTAiLCAiaWNvbiI6ICJiZWVyIiwgImljb25Db2xvciI6ICJ3aGl0ZSIsICJtYXJrZXJDb2xvciI6ICJibHVlIiwgInByZWZpeCI6ICJmYSJ9CiAgICAgICAgICAgICk7CiAgICAgICAgICAgIG1hcmtlcl9lODk0YjAwNGQxNzQ0YjViYTAyYTBkM2MwNGI1MzcyNy5zZXRJY29uKGljb25fODc2YTlkZjAwY2Q3NGRhNDlkY2ZhNDJmNGUwNjAzMmQpOwogICAgICAgIAogICAgCiAgICAgICAgICAgIHZhciBtYXJrZXJfNDM0MDg1Mzc0MjZjNDlhYTliYTY0MDQ2ZDhmM2M2OWMgPSBMLm1hcmtlcigKICAgICAgICAgICAgICAgIFszNy43NjUxNTgsIC0xMjIuNDA0MjM0XSwKICAgICAgICAgICAgICAgIHt9CiAgICAgICAgICAgICkuYWRkVG8obWFwXzEyM2NjZjM5YWRmOTQxNTBiMmVlMThhMjk2ZDQxODk2KTsKICAgICAgICAKICAgIAogICAgICAgICAgICB2YXIgaWNvbl9iYzhhOTBkMjRjNjc0NTg2YTMwYjlmNjQxZWY1ZDU1OCA9IEwuQXdlc29tZU1hcmtlcnMuaWNvbigKICAgICAgICAgICAgICAgIHsiZXh0cmFDbGFzc2VzIjogImZhLXJvdGF0ZS0wIiwgImljb24iOiAiYmVlciIsICJpY29uQ29sb3IiOiAid2hpdGUiLCAibWFya2VyQ29sb3IiOiAiYmx1ZSIsICJwcmVmaXgiOiAiZmEifQogICAgICAgICAgICApOwogICAgICAgICAgICBtYXJrZXJfNDM0MDg1Mzc0MjZjNDlhYTliYTY0MDQ2ZDhmM2M2OWMuc2V0SWNvbihpY29uX2JjOGE5MGQyNGM2NzQ1ODZhMzBiOWY2NDFlZjVkNTU4KTsKICAgICAgICAKICAgIAogICAgICAgICAgICB2YXIgbWFya2VyXzBlMGUxYmZjOGQwODRmM2RiOTg3MmM0ZmJkODFiZGQ4ID0gTC5tYXJrZXIoCiAgICAgICAgICAgICAgICBbMzcuNzg2OTQyLCAtMTIyLjQwMTI0NV0sCiAgICAgICAgICAgICAgICB7fQogICAgICAgICAgICApLmFkZFRvKG1hcF8xMjNjY2YzOWFkZjk0MTUwYjJlZTE4YTI5NmQ0MTg5Nik7CiAgICAgICAgCiAgICAKICAgICAgICAgICAgdmFyIGljb25fYTAxZjRhM2RlOTE5NDY4NzgyMzM5MTVjZDYzYjE0MGUgPSBMLkF3ZXNvbWVNYXJrZXJzLmljb24oCiAgICAgICAgICAgICAgICB7ImV4dHJhQ2xhc3NlcyI6ICJmYS1yb3RhdGUtMCIsICJpY29uIjogImJlZXIiLCAiaWNvbkNvbG9yIjogIndoaXRlIiwgIm1hcmtlckNvbG9yIjogImJsdWUiLCAicHJlZml4IjogImZhIn0KICAgICAgICAgICAgKTsKICAgICAgICAgICAgbWFya2VyXzBlMGUxYmZjOGQwODRmM2RiOTg3MmM0ZmJkODFiZGQ4LnNldEljb24oaWNvbl9hMDFmNGEzZGU5MTk0Njg3ODIzMzkxNWNkNjNiMTQwZSk7CiAgICAgICAgCiAgICAKICAgICAgICAgICAgdmFyIG1hcmtlcl8yOWMyZmQwN2MzYTQ0MDRhYmUzNzllY2ZhMzcxZmY3MCA9IEwubWFya2VyKAogICAgICAgICAgICAgICAgWzM3Ljc4NzA5MiwgLTEyMi4zOTk5NzJdLAogICAgICAgICAgICAgICAge30KICAgICAgICAgICAgKS5hZGRUbyhtYXBfMTIzY2NmMzlhZGY5NDE1MGIyZWUxOGEyOTZkNDE4OTYpOwogICAgICAgIAogICAgCiAgICAgICAgICAgIHZhciBpY29uX2MwY2Q0ZWY0NmFkZDQ5N2ZiNzI2OThlOTM5YmM5MjgzID0gTC5Bd2Vzb21lTWFya2Vycy5pY29uKAogICAgICAgICAgICAgICAgeyJleHRyYUNsYXNzZXMiOiAiZmEtcm90YXRlLTAiLCAiaWNvbiI6ICJiZWVyIiwgImljb25Db2xvciI6ICJ3aGl0ZSIsICJtYXJrZXJDb2xvciI6ICJibHVlIiwgInByZWZpeCI6ICJmYSJ9CiAgICAgICAgICAgICk7CiAgICAgICAgICAgIG1hcmtlcl8yOWMyZmQwN2MzYTQ0MDRhYmUzNzllY2ZhMzcxZmY3MC5zZXRJY29uKGljb25fYzBjZDRlZjQ2YWRkNDk3ZmI3MjY5OGU5MzliYzkyODMpOwogICAgICAgIAogICAgCiAgICAgICAgICAgIHZhciBtYXJrZXJfYWJmNGU1YTRmYmM2NDFlYzk3OWM3NjE0ZjQwYzlmY2MgPSBMLm1hcmtlcigKICAgICAgICAgICAgICAgIFszNy43ODY5NDIsIC0xMjIuNDAxMjQ1XSwKICAgICAgICAgICAgICAgIHt9CiAgICAgICAgICAgICkuYWRkVG8obWFwXzEyM2NjZjM5YWRmOTQxNTBiMmVlMThhMjk2ZDQxODk2KTsKICAgICAgICAKICAgIAogICAgICAgICAgICB2YXIgaWNvbl80ZDE2MjIxMGJiYmE0NGQyYTNjYjU3ZWI5NTRhYTZjMyA9IEwuQXdlc29tZU1hcmtlcnMuaWNvbigKICAgICAgICAgICAgICAgIHsiZXh0cmFDbGFzc2VzIjogImZhLXJvdGF0ZS0wIiwgImljb24iOiAiYmVlciIsICJpY29uQ29sb3IiOiAid2hpdGUiLCAibWFya2VyQ29sb3IiOiAiYmx1ZSIsICJwcmVmaXgiOiAiZmEifQogICAgICAgICAgICApOwogICAgICAgICAgICBtYXJrZXJfYWJmNGU1YTRmYmM2NDFlYzk3OWM3NjE0ZjQwYzlmY2Muc2V0SWNvbihpY29uXzRkMTYyMjEwYmJiYTQ0ZDJhM2NiNTdlYjk1NGFhNmMzKTsKICAgICAgICAKICAgIAogICAgICAgICAgICB2YXIgbWFya2VyXzJiYWQ4YzI4YTBmNTRjNTZhMjZiMWQ3Nzg4YmFjMDFkID0gTC5tYXJrZXIoCiAgICAgICAgICAgICAgICBbMzcuNzg3MDkyLCAtMTIyLjM5OTk3Ml0sCiAgICAgICAgICAgICAgICB7fQogICAgICAgICAgICApLmFkZFRvKG1hcF8xMjNjY2YzOWFkZjk0MTUwYjJlZTE4YTI5NmQ0MTg5Nik7CiAgICAgICAgCiAgICAKICAgICAgICAgICAgdmFyIGljb25fOTM5NTFmNjU0YmJlNGU4MjlmMGIyYWFlY2VlOGZiYzIgPSBMLkF3ZXNvbWVNYXJrZXJzLmljb24oCiAgICAgICAgICAgICAgICB7ImV4dHJhQ2xhc3NlcyI6ICJmYS1yb3RhdGUtMCIsICJpY29uIjogImJlZXIiLCAiaWNvbkNvbG9yIjogIndoaXRlIiwgIm1hcmtlckNvbG9yIjogImJsdWUiLCAicHJlZml4IjogImZhIn0KICAgICAgICAgICAgKTsKICAgICAgICAgICAgbWFya2VyXzJiYWQ4YzI4YTBmNTRjNTZhMjZiMWQ3Nzg4YmFjMDFkLnNldEljb24oaWNvbl85Mzk1MWY2NTRiYmU0ZTgyOWYwYjJhYWVjZWU4ZmJjMik7CiAgICAgICAgCiAgICAKICAgICAgICAgICAgdmFyIG1hcmtlcl85ODQzZjI3NzhjY2U0Y2EzODM4OTBiMWExODIzNWViOCA9IEwubWFya2VyKAogICAgICAgICAgICAgICAgWzM3Ljc2NTE1OCwgLTEyMi40MDQyMzRdLAogICAgICAgICAgICAgICAge30KICAgICAgICAgICAgKS5hZGRUbyhtYXBfMTIzY2NmMzlhZGY5NDE1MGIyZWUxOGEyOTZkNDE4OTYpOwogICAgICAgIAogICAgCiAgICAgICAgICAgIHZhciBpY29uX2NhZTQ3OTk2Nzk0MjRjMzA5YzU3YmJkYTRmYzJhMWQyID0gTC5Bd2Vzb21lTWFya2Vycy5pY29uKAogICAgICAgICAgICAgICAgeyJleHRyYUNsYXNzZXMiOiAiZmEtcm90YXRlLTAiLCAiaWNvbiI6ICJiZWVyIiwgImljb25Db2xvciI6ICJ3aGl0ZSIsICJtYXJrZXJDb2xvciI6ICJibHVlIiwgInByZWZpeCI6ICJmYSJ9CiAgICAgICAgICAgICk7CiAgICAgICAgICAgIG1hcmtlcl85ODQzZjI3NzhjY2U0Y2EzODM4OTBiMWExODIzNWViOC5zZXRJY29uKGljb25fY2FlNDc5OTY3OTQyNGMzMDljNTdiYmRhNGZjMmExZDIpOwogICAgICAgIAogICAgCiAgICAgICAgICAgIHZhciBtYXJrZXJfOGNkNWRkNTU4OTBmNGI1YTg2MGFiMzNhNjQ3ZmYzNmUgPSBMLm1hcmtlcigKICAgICAgICAgICAgICAgIFszNy43ODY5NDIsIC0xMjIuNDAxMjQ1XSwKICAgICAgICAgICAgICAgIHt9CiAgICAgICAgICAgICkuYWRkVG8obWFwXzEyM2NjZjM5YWRmOTQxNTBiMmVlMThhMjk2ZDQxODk2KTsKICAgICAgICAKICAgIAogICAgICAgICAgICB2YXIgaWNvbl9jM2QyM2U3N2U5Zjg0YjUxYjRiYzJkNTZiZjFjODdhMiA9IEwuQXdlc29tZU1hcmtlcnMuaWNvbigKICAgICAgICAgICAgICAgIHsiZXh0cmFDbGFzc2VzIjogImZhLXJvdGF0ZS0wIiwgImljb24iOiAiYmVlciIsICJpY29uQ29sb3IiOiAid2hpdGUiLCAibWFya2VyQ29sb3IiOiAiYmx1ZSIsICJwcmVmaXgiOiAiZmEifQogICAgICAgICAgICApOwogICAgICAgICAgICBtYXJrZXJfOGNkNWRkNTU4OTBmNGI1YTg2MGFiMzNhNjQ3ZmYzNmUuc2V0SWNvbihpY29uX2MzZDIzZTc3ZTlmODRiNTFiNGJjMmQ1NmJmMWM4N2EyKTsKICAgICAgICAKICAgIAogICAgICAgICAgICB2YXIgbWFya2VyX2I1YTM3OGYyNDJiMzRjZWQ4ZTUxMDhjNmI1OTNmNmNkID0gTC5tYXJrZXIoCiAgICAgICAgICAgICAgICBbMzcuNzg3MDkyLCAtMTIyLjM5OTk3Ml0sCiAgICAgICAgICAgICAgICB7fQogICAgICAgICAgICApLmFkZFRvKG1hcF8xMjNjY2YzOWFkZjk0MTUwYjJlZTE4YTI5NmQ0MTg5Nik7CiAgICAgICAgCiAgICAKICAgICAgICAgICAgdmFyIGljb25fMjQ5OWU0NmNlMzg3NDZiNGEyMTZhYzQ2NzU2Mzk4OWQgPSBMLkF3ZXNvbWVNYXJrZXJzLmljb24oCiAgICAgICAgICAgICAgICB7ImV4dHJhQ2xhc3NlcyI6ICJmYS1yb3RhdGUtMCIsICJpY29uIjogImJlZXIiLCAiaWNvbkNvbG9yIjogIndoaXRlIiwgIm1hcmtlckNvbG9yIjogImJsdWUiLCAicHJlZml4IjogImZhIn0KICAgICAgICAgICAgKTsKICAgICAgICAgICAgbWFya2VyX2I1YTM3OGYyNDJiMzRjZWQ4ZTUxMDhjNmI1OTNmNmNkLnNldEljb24oaWNvbl8yNDk5ZTQ2Y2UzODc0NmI0YTIxNmFjNDY3NTYzOTg5ZCk7CiAgICAgICAgCiAgICAKICAgICAgICAgICAgdmFyIG1hcmtlcl83MTE4YTllNDA2ZjA0ZjBiYjNlN2QwYzVhOWMyNjUyYSA9IEwubWFya2VyKAogICAgICAgICAgICAgICAgWzM3Ljc2NTE1OCwgLTEyMi40MDQyMzRdLAogICAgICAgICAgICAgICAge30KICAgICAgICAgICAgKS5hZGRUbyhtYXBfMTIzY2NmMzlhZGY5NDE1MGIyZWUxOGEyOTZkNDE4OTYpOwogICAgICAgIAogICAgCiAgICAgICAgICAgIHZhciBpY29uXzYwNWE4NjIxODNmNDRkNmFhY2QxMTY0YWJkYWUxMjIwID0gTC5Bd2Vzb21lTWFya2Vycy5pY29uKAogICAgICAgICAgICAgICAgeyJleHRyYUNsYXNzZXMiOiAiZmEtcm90YXRlLTAiLCAiaWNvbiI6ICJiZWVyIiwgImljb25Db2xvciI6ICJ3aGl0ZSIsICJtYXJrZXJDb2xvciI6ICJibHVlIiwgInByZWZpeCI6ICJmYSJ9CiAgICAgICAgICAgICk7CiAgICAgICAgICAgIG1hcmtlcl83MTE4YTllNDA2ZjA0ZjBiYjNlN2QwYzVhOWMyNjUyYS5zZXRJY29uKGljb25fNjA1YTg2MjE4M2Y0NGQ2YWFjZDExNjRhYmRhZTEyMjApOwogICAgICAgIAogICAgCiAgICAgICAgICAgIHZhciBtYXJrZXJfNzk3ZjY1YWIxMTViNDFjM2JiYzE3YzczOGNjZGQzMzQgPSBMLm1hcmtlcigKICAgICAgICAgICAgICAgIFszNy43ODY5NDIsIC0xMjIuNDAxMjQ1XSwKICAgICAgICAgICAgICAgIHt9CiAgICAgICAgICAgICkuYWRkVG8obWFwXzEyM2NjZjM5YWRmOTQxNTBiMmVlMThhMjk2ZDQxODk2KTsKICAgICAgICAKICAgIAogICAgICAgICAgICB2YXIgaWNvbl81OTE3YjRkOTZjYzE0OWRiYmY4Y2QxMDdkYzdlZTA5NyA9IEwuQXdlc29tZU1hcmtlcnMuaWNvbigKICAgICAgICAgICAgICAgIHsiZXh0cmFDbGFzc2VzIjogImZhLXJvdGF0ZS0wIiwgImljb24iOiAiYmVlciIsICJpY29uQ29sb3IiOiAid2hpdGUiLCAibWFya2VyQ29sb3IiOiAiYmx1ZSIsICJwcmVmaXgiOiAiZmEifQogICAgICAgICAgICApOwogICAgICAgICAgICBtYXJrZXJfNzk3ZjY1YWIxMTViNDFjM2JiYzE3YzczOGNjZGQzMzQuc2V0SWNvbihpY29uXzU5MTdiNGQ5NmNjMTQ5ZGJiZjhjZDEwN2RjN2VlMDk3KTsKICAgICAgICAKICAgIAogICAgICAgICAgICB2YXIgbWFya2VyXzdkZWIxNDk3Y2ViMTRjZDc4ZDg5ZGM2ODJjN2ZlMDFhID0gTC5tYXJrZXIoCiAgICAgICAgICAgICAgICBbMzcuNzg3MDkyLCAtMTIyLjM5OTk3Ml0sCiAgICAgICAgICAgICAgICB7fQogICAgICAgICAgICApLmFkZFRvKG1hcF8xMjNjY2YzOWFkZjk0MTUwYjJlZTE4YTI5NmQ0MTg5Nik7CiAgICAgICAgCiAgICAKICAgICAgICAgICAgdmFyIGljb25fZjllZTQyOGMzYTdmNDUyZmEyZGZkMzA2ZTdlZDM2NGYgPSBMLkF3ZXNvbWVNYXJrZXJzLmljb24oCiAgICAgICAgICAgICAgICB7ImV4dHJhQ2xhc3NlcyI6ICJmYS1yb3RhdGUtMCIsICJpY29uIjogImJlZXIiLCAiaWNvbkNvbG9yIjogIndoaXRlIiwgIm1hcmtlckNvbG9yIjogImJsdWUiLCAicHJlZml4IjogImZhIn0KICAgICAgICAgICAgKTsKICAgICAgICAgICAgbWFya2VyXzdkZWIxNDk3Y2ViMTRjZDc4ZDg5ZGM2ODJjN2ZlMDFhLnNldEljb24oaWNvbl9mOWVlNDI4YzNhN2Y0NTJmYTJkZmQzMDZlN2VkMzY0Zik7CiAgICAgICAgCiAgICAKICAgICAgICAgICAgdmFyIG1hcmtlcl80MTgwZTQ4ZDQ4ZjQ0OWU1OWJiZDQ4NzA3YzMwYzFlYSA9IEwubWFya2VyKAogICAgICAgICAgICAgICAgWzM3Ljc2NTE1OCwgLTEyMi40MDQyMzRdLAogICAgICAgICAgICAgICAge30KICAgICAgICAgICAgKS5hZGRUbyhtYXBfMTIzY2NmMzlhZGY5NDE1MGIyZWUxOGEyOTZkNDE4OTYpOwogICAgICAgIAogICAgCiAgICAgICAgICAgIHZhciBpY29uX2FlMDhlZTFlNzA3YzQ2OTNhMzA3MWZjZDQyMzEwM2RmID0gTC5Bd2Vzb21lTWFya2Vycy5pY29uKAogICAgICAgICAgICAgICAgeyJleHRyYUNsYXNzZXMiOiAiZmEtcm90YXRlLTAiLCAiaWNvbiI6ICJiZWVyIiwgImljb25Db2xvciI6ICJ3aGl0ZSIsICJtYXJrZXJDb2xvciI6ICJibHVlIiwgInByZWZpeCI6ICJmYSJ9CiAgICAgICAgICAgICk7CiAgICAgICAgICAgIG1hcmtlcl80MTgwZTQ4ZDQ4ZjQ0OWU1OWJiZDQ4NzA3YzMwYzFlYS5zZXRJY29uKGljb25fYWUwOGVlMWU3MDdjNDY5M2EzMDcxZmNkNDIzMTAzZGYpOwogICAgICAgIAogICAgCiAgICAgICAgICAgIHZhciBtYXJrZXJfZjY3ZTVjYzZhYTJiNGE5ODkwNWI4OWM2NWU1ZTVlYmIgPSBMLm1hcmtlcigKICAgICAgICAgICAgICAgIFszNy43ODY5NDIsIC0xMjIuNDAxMjQ1XSwKICAgICAgICAgICAgICAgIHt9CiAgICAgICAgICAgICkuYWRkVG8obWFwXzEyM2NjZjM5YWRmOTQxNTBiMmVlMThhMjk2ZDQxODk2KTsKICAgICAgICAKICAgIAogICAgICAgICAgICB2YXIgaWNvbl9hOGIyNTQyMmI1ZWQ0NmQxOWYzYWI1MDRhY2UxZWQyMCA9IEwuQXdlc29tZU1hcmtlcnMuaWNvbigKICAgICAgICAgICAgICAgIHsiZXh0cmFDbGFzc2VzIjogImZhLXJvdGF0ZS0wIiwgImljb24iOiAiYmVlciIsICJpY29uQ29sb3IiOiAid2hpdGUiLCAibWFya2VyQ29sb3IiOiAiYmx1ZSIsICJwcmVmaXgiOiAiZmEifQogICAgICAgICAgICApOwogICAgICAgICAgICBtYXJrZXJfZjY3ZTVjYzZhYTJiNGE5ODkwNWI4OWM2NWU1ZTVlYmIuc2V0SWNvbihpY29uX2E4YjI1NDIyYjVlZDQ2ZDE5ZjNhYjUwNGFjZTFlZDIwKTsKICAgICAgICAKICAgIAogICAgICAgICAgICB2YXIgbWFya2VyXzU5YzUxZjU3Mjk5MDQyMWRiZmI2OWM0NTM4MDYwMmM5ID0gTC5tYXJrZXIoCiAgICAgICAgICAgICAgICBbMzcuNzg3MDkyLCAtMTIyLjM5OTk3Ml0sCiAgICAgICAgICAgICAgICB7fQogICAgICAgICAgICApLmFkZFRvKG1hcF8xMjNjY2YzOWFkZjk0MTUwYjJlZTE4YTI5NmQ0MTg5Nik7CiAgICAgICAgCiAgICAKICAgICAgICAgICAgdmFyIGljb25fNTEzZDI1MTczM2E2NDIxMTkwOTgxNThhNDIyNmM2NmEgPSBMLkF3ZXNvbWVNYXJrZXJzLmljb24oCiAgICAgICAgICAgICAgICB7ImV4dHJhQ2xhc3NlcyI6ICJmYS1yb3RhdGUtMCIsICJpY29uIjogImJlZXIiLCAiaWNvbkNvbG9yIjogIndoaXRlIiwgIm1hcmtlckNvbG9yIjogImJsdWUiLCAicHJlZml4IjogImZhIn0KICAgICAgICAgICAgKTsKICAgICAgICAgICAgbWFya2VyXzU5YzUxZjU3Mjk5MDQyMWRiZmI2OWM0NTM4MDYwMmM5LnNldEljb24oaWNvbl81MTNkMjUxNzMzYTY0MjExOTA5ODE1OGE0MjI2YzY2YSk7CiAgICAgICAgCiAgICAKICAgICAgICAgICAgdmFyIG1hcmtlcl9iMDRkOGE0NzZjOWU0NDU1YTNlZjJhZjRiMTYyZDY0NyA9IEwubWFya2VyKAogICAgICAgICAgICAgICAgWzM3Ljc2NTE1OCwgLTEyMi40MDQyMzRdLAogICAgICAgICAgICAgICAge30KICAgICAgICAgICAgKS5hZGRUbyhtYXBfMTIzY2NmMzlhZGY5NDE1MGIyZWUxOGEyOTZkNDE4OTYpOwogICAgICAgIAogICAgCiAgICAgICAgICAgIHZhciBpY29uX2FjM2I1Y2ZhNGNhNzQwZDc4YzE2NTA4MTQyMzYyN2MxID0gTC5Bd2Vzb21lTWFya2Vycy5pY29uKAogICAgICAgICAgICAgICAgeyJleHRyYUNsYXNzZXMiOiAiZmEtcm90YXRlLTAiLCAiaWNvbiI6ICJiZWVyIiwgImljb25Db2xvciI6ICJ3aGl0ZSIsICJtYXJrZXJDb2xvciI6ICJibHVlIiwgInByZWZpeCI6ICJmYSJ9CiAgICAgICAgICAgICk7CiAgICAgICAgICAgIG1hcmtlcl9iMDRkOGE0NzZjOWU0NDU1YTNlZjJhZjRiMTYyZDY0Ny5zZXRJY29uKGljb25fYWMzYjVjZmE0Y2E3NDBkNzhjMTY1MDgxNDIzNjI3YzEpOwogICAgICAgIAogICAgCiAgICAgICAgICAgIHZhciBtYXJrZXJfMjkwYjI1MTBlNmM3NDE3Zjg4YzZiNzcwNjMyMTVhNTYgPSBMLm1hcmtlcigKICAgICAgICAgICAgICAgIFszNy43ODY5NDIsIC0xMjIuNDAxMjQ1XSwKICAgICAgICAgICAgICAgIHt9CiAgICAgICAgICAgICkuYWRkVG8obWFwXzEyM2NjZjM5YWRmOTQxNTBiMmVlMThhMjk2ZDQxODk2KTsKICAgICAgICAKICAgIAogICAgICAgICAgICB2YXIgaWNvbl9mN2M4OWZjMjJiZWI0YTE3YjJkOTc1NzVlYWE2N2MwYiA9IEwuQXdlc29tZU1hcmtlcnMuaWNvbigKICAgICAgICAgICAgICAgIHsiZXh0cmFDbGFzc2VzIjogImZhLXJvdGF0ZS0wIiwgImljb24iOiAiYmVlciIsICJpY29uQ29sb3IiOiAid2hpdGUiLCAibWFya2VyQ29sb3IiOiAiYmx1ZSIsICJwcmVmaXgiOiAiZmEifQogICAgICAgICAgICApOwogICAgICAgICAgICBtYXJrZXJfMjkwYjI1MTBlNmM3NDE3Zjg4YzZiNzcwNjMyMTVhNTYuc2V0SWNvbihpY29uX2Y3Yzg5ZmMyMmJlYjRhMTdiMmQ5NzU3NWVhYTY3YzBiKTsKICAgICAgICAKICAgIAogICAgICAgICAgICB2YXIgbWFya2VyXzVmZmEzYzU0MjI4YzQ3ZGFhMmZkMWM2YzFjOTkwY2EzID0gTC5tYXJrZXIoCiAgICAgICAgICAgICAgICBbMzcuNzg3MDkyLCAtMTIyLjM5OTk3Ml0sCiAgICAgICAgICAgICAgICB7fQogICAgICAgICAgICApLmFkZFRvKG1hcF8xMjNjY2YzOWFkZjk0MTUwYjJlZTE4YTI5NmQ0MTg5Nik7CiAgICAgICAgCiAgICAKICAgICAgICAgICAgdmFyIGljb25fZmRhNTdkMjI3ZDY2NDRhMTllNzA0ZmMxM2M4MGZmODggPSBMLkF3ZXNvbWVNYXJrZXJzLmljb24oCiAgICAgICAgICAgICAgICB7ImV4dHJhQ2xhc3NlcyI6ICJmYS1yb3RhdGUtMCIsICJpY29uIjogImJlZXIiLCAiaWNvbkNvbG9yIjogIndoaXRlIiwgIm1hcmtlckNvbG9yIjogImJsdWUiLCAicHJlZml4IjogImZhIn0KICAgICAgICAgICAgKTsKICAgICAgICAgICAgbWFya2VyXzVmZmEzYzU0MjI4YzQ3ZGFhMmZkMWM2YzFjOTkwY2EzLnNldEljb24oaWNvbl9mZGE1N2QyMjdkNjY0NGExOWU3MDRmYzEzYzgwZmY4OCk7CiAgICAgICAgCiAgICAKICAgICAgICAgICAgdmFyIG1hcmtlcl9lNWNjYmU5NTVjNTE0NDJlOGNkYzI3NjBmMmIyM2NiYyA9IEwubWFya2VyKAogICAgICAgICAgICAgICAgWzM3Ljc2NTE1OCwgLTEyMi40MDQyMzRdLAogICAgICAgICAgICAgICAge30KICAgICAgICAgICAgKS5hZGRUbyhtYXBfMTIzY2NmMzlhZGY5NDE1MGIyZWUxOGEyOTZkNDE4OTYpOwogICAgICAgIAogICAgCiAgICAgICAgICAgIHZhciBpY29uXzBkZjdhYjk0MmZjMDQ5OTM5ZmIzOThiZGQ2MmVmMmFiID0gTC5Bd2Vzb21lTWFya2Vycy5pY29uKAogICAgICAgICAgICAgICAgeyJleHRyYUNsYXNzZXMiOiAiZmEtcm90YXRlLTAiLCAiaWNvbiI6ICJiZWVyIiwgImljb25Db2xvciI6ICJ3aGl0ZSIsICJtYXJrZXJDb2xvciI6ICJibHVlIiwgInByZWZpeCI6ICJmYSJ9CiAgICAgICAgICAgICk7CiAgICAgICAgICAgIG1hcmtlcl9lNWNjYmU5NTVjNTE0NDJlOGNkYzI3NjBmMmIyM2NiYy5zZXRJY29uKGljb25fMGRmN2FiOTQyZmMwNDk5MzlmYjM5OGJkZDYyZWYyYWIpOwogICAgICAgIAo8L3NjcmlwdD4= onload=\"this.contentDocument.open();this.contentDocument.write(atob(this.getAttribute('data-html')));this.contentDocument.close();\" allowfullscreen webkitallowfullscreen mozallowfullscreen></iframe></div></div>"
      ],
      "text/plain": [
       "<folium.folium.Map at 0x115641820>"
      ]
     },
     "execution_count": 21,
     "metadata": {},
     "output_type": "execute_result"
    }
   ],
   "source": [
    "# Offices that have a night club at 3000 m\n",
    "m = Map([37.773972,-122.431297],zoom_start=12)\n",
    "\n",
    "for i, row in nightclubs_close.iterrows():\n",
    "    icon = Icon(\n",
    "                color=\"blue\",\n",
    "                prefix=\"fa\",\n",
    "                icon=\"beer\"\n",
    "            )\n",
    "    Marker(\n",
    "        location=row[[\"latitude\",\"longitude\"]],\n",
    "        icon=icon\n",
    "    ).add_to(m)\n",
    "m"
   ]
  },
  {
   "cell_type": "code",
   "execution_count": 22,
   "metadata": {},
   "outputs": [
    {
     "data": {
      "text/html": [
       "<div style=\"width:100%;\"><div style=\"position:relative;width:100%;height:0;padding-bottom:60%;\"><span style=\"color:#565656\">Make this Notebook Trusted to load map: File -> Trust Notebook</span><iframe src=\"about:blank\" style=\"position:absolute;width:100%;height:100%;left:0;top:0;border:none !important;\" data-html=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 onload=\"this.contentDocument.open();this.contentDocument.write(atob(this.getAttribute('data-html')));this.contentDocument.close();\" allowfullscreen webkitallowfullscreen mozallowfullscreen></iframe></div></div>"
      ],
      "text/plain": [
       "<folium.folium.Map at 0x115726b50>"
      ]
     },
     "execution_count": 22,
     "metadata": {},
     "output_type": "execute_result"
    }
   ],
   "source": [
    "# Offices that have a vegan restaurant at 1500m\n",
    "m = Map([37.773972,-122.431297],zoom_start=12)\n",
    "\n",
    "for i, row in vegan_close.iterrows():\n",
    "    icon = Icon(\n",
    "                color=\"red\",\n",
    "                prefix=\"fa\",\n",
    "                icon=\"hamburger\"\n",
    "            )\n",
    "    Marker(\n",
    "        location=row[[\"latitude\",\"longitude\"]],\n",
    "        icon=icon\n",
    "    ).add_to(m)\n",
    "m"
   ]
  },
  {
   "cell_type": "code",
   "execution_count": 23,
   "metadata": {},
   "outputs": [
    {
     "data": {
      "text/html": [
       "<div style=\"width:100%;\"><div style=\"position:relative;width:100%;height:0;padding-bottom:60%;\"><span style=\"color:#565656\">Make this Notebook Trusted to load map: File -> Trust Notebook</span><iframe src=\"about:blank\" style=\"position:absolute;width:100%;height:100%;left:0;top:0;border:none !important;\" data-html=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 onload=\"this.contentDocument.open();this.contentDocument.write(atob(this.getAttribute('data-html')));this.contentDocument.close();\" allowfullscreen webkitallowfullscreen mozallowfullscreen></iframe></div></div>"
      ],
      "text/plain": [
       "<folium.folium.Map at 0x11574a190>"
      ]
     },
     "execution_count": 23,
     "metadata": {},
     "output_type": "execute_result"
    }
   ],
   "source": [
    "# Offices that have a starbucks at 500m\n",
    "m = Map([37.773972,-122.431297],zoom_start=12)\n",
    "\n",
    "for i, row in starbucks_close.iterrows():\n",
    "    icon = Icon(\n",
    "                color=\"green\",\n",
    "                prefix=\"fa\",\n",
    "                icon=\"coffe\"\n",
    "            )\n",
    "    Marker(\n",
    "        location=row[[\"latitude\",\"longitude\"]],\n",
    "        icon=icon\n",
    "    ).add_to(m)\n",
    "m"
   ]
  },
  {
   "cell_type": "markdown",
   "metadata": {},
   "source": [
    "## Chosen Offices \n",
    "\n",
    " > Only 2 locations have all the characteristics and establishments that our enterprise needs\n",
    " "
   ]
  },
  {
   "cell_type": "code",
   "execution_count": null,
   "metadata": {},
   "outputs": [],
   "source": []
  }
 ],
 "metadata": {
  "kernelspec": {
   "display_name": "Python 3",
   "language": "python",
   "name": "python3"
  },
  "language_info": {
   "codemirror_mode": {
    "name": "ipython",
    "version": 3
   },
   "file_extension": ".py",
   "mimetype": "text/x-python",
   "name": "python",
   "nbconvert_exporter": "python",
   "pygments_lexer": "ipython3",
   "version": "3.8.2"
  }
 },
 "nbformat": 4,
 "nbformat_minor": 4
}
