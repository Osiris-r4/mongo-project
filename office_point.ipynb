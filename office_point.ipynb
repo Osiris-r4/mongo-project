{
 "cells": [
  {
   "cell_type": "markdown",
   "metadata": {},
   "source": [
    "## MONGO AND NEAR BY QUERIES"
   ]
  },
  {
   "cell_type": "code",
   "execution_count": 186,
   "metadata": {},
   "outputs": [],
   "source": [
    "from pymongo import MongoClient\n",
    "import folium\n",
    "import pandas as pd\n",
    "import matplotlib\n",
    "import numpy as np\n",
    "import pandas as pd\n",
    "import os\n",
    "import requests\n",
    "import json\n",
    "from pandas.io.json import json_normalize\n",
    "import re\n",
    "from SRC.formulas_calculo import*"
   ]
  },
  {
   "cell_type": "code",
   "execution_count": 187,
   "metadata": {},
   "outputs": [],
   "source": [
    "dbName = \"companies\"\n",
    "mongodbURL = f\"mongodb://localhost/{dbName}\"\n",
    "client = MongoClient(mongodbURL, connectTimeoutMS=2000, serverSelectionTimeoutMS=2000)\n",
    "db = client.get_database()"
   ]
  },
  {
   "cell_type": "markdown",
   "metadata": {},
   "source": [
    "> The first thing Im gonna do, is import from Mongo all the data frames that ill be working with"
   ]
  },
  {
   "cell_type": "code",
   "execution_count": 188,
   "metadata": {},
   "outputs": [
    {
     "data": {
      "text/html": [
       "<div>\n",
       "<style scoped>\n",
       "    .dataframe tbody tr th:only-of-type {\n",
       "        vertical-align: middle;\n",
       "    }\n",
       "\n",
       "    .dataframe tbody tr th {\n",
       "        vertical-align: top;\n",
       "    }\n",
       "\n",
       "    .dataframe thead th {\n",
       "        text-align: right;\n",
       "    }\n",
       "</style>\n",
       "<table border=\"1\" class=\"dataframe\">\n",
       "  <thead>\n",
       "    <tr style=\"text-align: right;\">\n",
       "      <th></th>\n",
       "      <th>_id</th>\n",
       "      <th>name</th>\n",
       "      <th>latitude</th>\n",
       "      <th>longitude</th>\n",
       "      <th>geopoint</th>\n",
       "    </tr>\n",
       "  </thead>\n",
       "  <tbody>\n",
       "    <tr>\n",
       "      <th>0</th>\n",
       "      <td>5efa38294c4b4802bbdf6e7c</td>\n",
       "      <td>Kongregate</td>\n",
       "      <td>37.786942</td>\n",
       "      <td>-122.401245</td>\n",
       "      <td>{'type': 'Point', 'coordinates': [-122.401245,...</td>\n",
       "    </tr>\n",
       "    <tr>\n",
       "      <th>1</th>\n",
       "      <td>5efa38294c4b4802bbdf6e7d</td>\n",
       "      <td>Curse</td>\n",
       "      <td>37.787092</td>\n",
       "      <td>-122.399972</td>\n",
       "      <td>{'type': 'Point', 'coordinates': [-122.399972,...</td>\n",
       "    </tr>\n",
       "    <tr>\n",
       "      <th>2</th>\n",
       "      <td>5efa38294c4b4802bbdf6e7e</td>\n",
       "      <td>Kabam</td>\n",
       "      <td>37.394456</td>\n",
       "      <td>-122.078531</td>\n",
       "      <td>{'type': 'Point', 'coordinates': [-122.0785314...</td>\n",
       "    </tr>\n",
       "    <tr>\n",
       "      <th>3</th>\n",
       "      <td>5efa38294c4b4802bbdf6e7f</td>\n",
       "      <td>Zynga</td>\n",
       "      <td>37.765158</td>\n",
       "      <td>-122.404234</td>\n",
       "      <td>{'type': 'Point', 'coordinates': [-122.404234,...</td>\n",
       "    </tr>\n",
       "    <tr>\n",
       "      <th>4</th>\n",
       "      <td>5efa38294c4b4802bbdf6e80</td>\n",
       "      <td>KIXEYE</td>\n",
       "      <td>NaN</td>\n",
       "      <td>NaN</td>\n",
       "      <td>None</td>\n",
       "    </tr>\n",
       "  </tbody>\n",
       "</table>\n",
       "</div>"
      ],
      "text/plain": [
       "                        _id        name   latitude   longitude  \\\n",
       "0  5efa38294c4b4802bbdf6e7c  Kongregate  37.786942 -122.401245   \n",
       "1  5efa38294c4b4802bbdf6e7d       Curse  37.787092 -122.399972   \n",
       "2  5efa38294c4b4802bbdf6e7e       Kabam  37.394456 -122.078531   \n",
       "3  5efa38294c4b4802bbdf6e7f       Zynga  37.765158 -122.404234   \n",
       "4  5efa38294c4b4802bbdf6e80      KIXEYE        NaN         NaN   \n",
       "\n",
       "                                            geopoint  \n",
       "0  {'type': 'Point', 'coordinates': [-122.401245,...  \n",
       "1  {'type': 'Point', 'coordinates': [-122.399972,...  \n",
       "2  {'type': 'Point', 'coordinates': [-122.0785314...  \n",
       "3  {'type': 'Point', 'coordinates': [-122.404234,...  \n",
       "4                                               None  "
      ]
     },
     "execution_count": 188,
     "metadata": {},
     "output_type": "execute_result"
    }
   ],
   "source": [
    "cur =list(db.chosen_offices.find({},{\"name\":1,\"latitude\":1,\"longitude\":1, \"geopoint\":1}))\n",
    "office_location = pd.DataFrame(cur)\n",
    "office_location"
   ]
  },
  {
   "cell_type": "code",
   "execution_count": 189,
   "metadata": {},
   "outputs": [
    {
     "data": {
      "text/html": [
       "<div>\n",
       "<style scoped>\n",
       "    .dataframe tbody tr th:only-of-type {\n",
       "        vertical-align: middle;\n",
       "    }\n",
       "\n",
       "    .dataframe tbody tr th {\n",
       "        vertical-align: top;\n",
       "    }\n",
       "\n",
       "    .dataframe thead th {\n",
       "        text-align: right;\n",
       "    }\n",
       "</style>\n",
       "<table border=\"1\" class=\"dataframe\">\n",
       "  <thead>\n",
       "    <tr style=\"text-align: right;\">\n",
       "      <th></th>\n",
       "      <th>_id</th>\n",
       "      <th>name</th>\n",
       "      <th>latitude</th>\n",
       "      <th>longitude</th>\n",
       "      <th>geopoint</th>\n",
       "    </tr>\n",
       "  </thead>\n",
       "  <tbody>\n",
       "    <tr>\n",
       "      <th>0</th>\n",
       "      <td>5efa386a51051c08f12ccb4f</td>\n",
       "      <td>[The Grand]</td>\n",
       "      <td>37.779100</td>\n",
       "      <td>-122.397900</td>\n",
       "      <td>{'type': 'Point', 'coordinates': [-122.3979003...</td>\n",
       "    </tr>\n",
       "    <tr>\n",
       "      <th>1</th>\n",
       "      <td>5efa386a51051c08f12ccb50</td>\n",
       "      <td>[Smuggler's Cove]</td>\n",
       "      <td>37.779403</td>\n",
       "      <td>-122.423372</td>\n",
       "      <td>{'type': 'Point', 'coordinates': [-122.4233722...</td>\n",
       "    </tr>\n",
       "    <tr>\n",
       "      <th>2</th>\n",
       "      <td>5efa386a51051c08f12ccb51</td>\n",
       "      <td>[Edinburgh Castle Pub]</td>\n",
       "      <td>37.786127</td>\n",
       "      <td>-122.418957</td>\n",
       "      <td>{'type': 'Point', 'coordinates': [-122.4189571...</td>\n",
       "    </tr>\n",
       "    <tr>\n",
       "      <th>3</th>\n",
       "      <td>5efa386a51051c08f12ccb52</td>\n",
       "      <td>[Zero Zero]</td>\n",
       "      <td>37.781636</td>\n",
       "      <td>-122.402083</td>\n",
       "      <td>{'type': 'Point', 'coordinates': [-122.402083,...</td>\n",
       "    </tr>\n",
       "    <tr>\n",
       "      <th>4</th>\n",
       "      <td>5efa386a51051c08f12ccb53</td>\n",
       "      <td>[The Chapel]</td>\n",
       "      <td>37.760486</td>\n",
       "      <td>-122.421298</td>\n",
       "      <td>{'type': 'Point', 'coordinates': [-122.4212979...</td>\n",
       "    </tr>\n",
       "  </tbody>\n",
       "</table>\n",
       "</div>"
      ],
      "text/plain": [
       "                        _id                    name   latitude   longitude  \\\n",
       "0  5efa386a51051c08f12ccb4f             [The Grand]  37.779100 -122.397900   \n",
       "1  5efa386a51051c08f12ccb50       [Smuggler's Cove]  37.779403 -122.423372   \n",
       "2  5efa386a51051c08f12ccb51  [Edinburgh Castle Pub]  37.786127 -122.418957   \n",
       "3  5efa386a51051c08f12ccb52             [Zero Zero]  37.781636 -122.402083   \n",
       "4  5efa386a51051c08f12ccb53            [The Chapel]  37.760486 -122.421298   \n",
       "\n",
       "                                            geopoint  \n",
       "0  {'type': 'Point', 'coordinates': [-122.3979003...  \n",
       "1  {'type': 'Point', 'coordinates': [-122.4233722...  \n",
       "2  {'type': 'Point', 'coordinates': [-122.4189571...  \n",
       "3  {'type': 'Point', 'coordinates': [-122.402083,...  \n",
       "4  {'type': 'Point', 'coordinates': [-122.4212979...  "
      ]
     },
     "execution_count": 189,
     "metadata": {},
     "output_type": "execute_result"
    }
   ],
   "source": [
    "cur =list(db.nightclubs.find({},{\"name\":1,\"latitude\":1,\"longitude\":1, \"geopoint\":1}))\n",
    "nightclubs_location = pd.DataFrame(cur)\n",
    "nightclubs_location.head()\n"
   ]
  },
  {
   "cell_type": "code",
   "execution_count": 190,
   "metadata": {},
   "outputs": [
    {
     "data": {
      "text/html": [
       "<div>\n",
       "<style scoped>\n",
       "    .dataframe tbody tr th:only-of-type {\n",
       "        vertical-align: middle;\n",
       "    }\n",
       "\n",
       "    .dataframe tbody tr th {\n",
       "        vertical-align: top;\n",
       "    }\n",
       "\n",
       "    .dataframe thead th {\n",
       "        text-align: right;\n",
       "    }\n",
       "</style>\n",
       "<table border=\"1\" class=\"dataframe\">\n",
       "  <thead>\n",
       "    <tr style=\"text-align: right;\">\n",
       "      <th></th>\n",
       "      <th>_id</th>\n",
       "      <th>name</th>\n",
       "      <th>latitude</th>\n",
       "      <th>longitude</th>\n",
       "      <th>geopoint</th>\n",
       "    </tr>\n",
       "  </thead>\n",
       "  <tbody>\n",
       "    <tr>\n",
       "      <th>0</th>\n",
       "      <td>5efa38849db4a6342ef5b134</td>\n",
       "      <td>[Starbucks]</td>\n",
       "      <td>37.796647</td>\n",
       "      <td>-122.394850</td>\n",
       "      <td>{'type': 'Point', 'coordinates': [-122.39485, ...</td>\n",
       "    </tr>\n",
       "    <tr>\n",
       "      <th>1</th>\n",
       "      <td>5efa38849db4a6342ef5b135</td>\n",
       "      <td>[Starbucks]</td>\n",
       "      <td>37.784124</td>\n",
       "      <td>-122.407653</td>\n",
       "      <td>{'type': 'Point', 'coordinates': [-122.407653,...</td>\n",
       "    </tr>\n",
       "    <tr>\n",
       "      <th>2</th>\n",
       "      <td>5efa38849db4a6342ef5b136</td>\n",
       "      <td>[Starbucks]</td>\n",
       "      <td>37.789146</td>\n",
       "      <td>-122.408456</td>\n",
       "      <td>{'type': 'Point', 'coordinates': [-122.408456,...</td>\n",
       "    </tr>\n",
       "    <tr>\n",
       "      <th>3</th>\n",
       "      <td>5efa38849db4a6342ef5b137</td>\n",
       "      <td>[Starbucks]</td>\n",
       "      <td>37.786261</td>\n",
       "      <td>-122.453194</td>\n",
       "      <td>{'type': 'Point', 'coordinates': [-122.453194,...</td>\n",
       "    </tr>\n",
       "    <tr>\n",
       "      <th>4</th>\n",
       "      <td>5efa38849db4a6342ef5b138</td>\n",
       "      <td>[Starbucks]</td>\n",
       "      <td>37.784855</td>\n",
       "      <td>-122.399996</td>\n",
       "      <td>{'type': 'Point', 'coordinates': [-122.3999959...</td>\n",
       "    </tr>\n",
       "  </tbody>\n",
       "</table>\n",
       "</div>"
      ],
      "text/plain": [
       "                        _id         name   latitude   longitude  \\\n",
       "0  5efa38849db4a6342ef5b134  [Starbucks]  37.796647 -122.394850   \n",
       "1  5efa38849db4a6342ef5b135  [Starbucks]  37.784124 -122.407653   \n",
       "2  5efa38849db4a6342ef5b136  [Starbucks]  37.789146 -122.408456   \n",
       "3  5efa38849db4a6342ef5b137  [Starbucks]  37.786261 -122.453194   \n",
       "4  5efa38849db4a6342ef5b138  [Starbucks]  37.784855 -122.399996   \n",
       "\n",
       "                                            geopoint  \n",
       "0  {'type': 'Point', 'coordinates': [-122.39485, ...  \n",
       "1  {'type': 'Point', 'coordinates': [-122.407653,...  \n",
       "2  {'type': 'Point', 'coordinates': [-122.408456,...  \n",
       "3  {'type': 'Point', 'coordinates': [-122.453194,...  \n",
       "4  {'type': 'Point', 'coordinates': [-122.3999959...  "
      ]
     },
     "execution_count": 190,
     "metadata": {},
     "output_type": "execute_result"
    }
   ],
   "source": [
    "cur =list(db.starbucks_place.find({},{\"name\":1,\"latitude\":1,\"longitude\":1, \"geopoint\":1}))\n",
    "starbucks_location = pd.DataFrame(cur)\n",
    "starbucks_location.head()"
   ]
  },
  {
   "cell_type": "code",
   "execution_count": 191,
   "metadata": {},
   "outputs": [
    {
     "data": {
      "text/html": [
       "<div>\n",
       "<style scoped>\n",
       "    .dataframe tbody tr th:only-of-type {\n",
       "        vertical-align: middle;\n",
       "    }\n",
       "\n",
       "    .dataframe tbody tr th {\n",
       "        vertical-align: top;\n",
       "    }\n",
       "\n",
       "    .dataframe thead th {\n",
       "        text-align: right;\n",
       "    }\n",
       "</style>\n",
       "<table border=\"1\" class=\"dataframe\">\n",
       "  <thead>\n",
       "    <tr style=\"text-align: right;\">\n",
       "      <th></th>\n",
       "      <th>_id</th>\n",
       "      <th>name</th>\n",
       "      <th>latitude</th>\n",
       "      <th>longitude</th>\n",
       "      <th>geopoint</th>\n",
       "    </tr>\n",
       "  </thead>\n",
       "  <tbody>\n",
       "    <tr>\n",
       "      <th>0</th>\n",
       "      <td>5efa38afaf923e76c3898dce</td>\n",
       "      <td>[The Flying Falafel]</td>\n",
       "      <td>37.781266</td>\n",
       "      <td>-122.411230</td>\n",
       "      <td>{'type': 'Point', 'coordinates': [-122.4112304...</td>\n",
       "    </tr>\n",
       "    <tr>\n",
       "      <th>1</th>\n",
       "      <td>5efa38afaf923e76c3898dcf</td>\n",
       "      <td>[Golden Era]</td>\n",
       "      <td>37.781318</td>\n",
       "      <td>-122.416697</td>\n",
       "      <td>{'type': 'Point', 'coordinates': [-122.4166966...</td>\n",
       "    </tr>\n",
       "    <tr>\n",
       "      <th>2</th>\n",
       "      <td>5efa38afaf923e76c3898dd0</td>\n",
       "      <td>[Indochine Vegan]</td>\n",
       "      <td>37.764626</td>\n",
       "      <td>-122.422160</td>\n",
       "      <td>{'type': 'Point', 'coordinates': [-122.4221595...</td>\n",
       "    </tr>\n",
       "    <tr>\n",
       "      <th>3</th>\n",
       "      <td>5efa38afaf923e76c3898dd1</td>\n",
       "      <td>[Ananda Fuara]</td>\n",
       "      <td>37.777875</td>\n",
       "      <td>-122.416294</td>\n",
       "      <td>{'type': 'Point', 'coordinates': [-122.416294,...</td>\n",
       "    </tr>\n",
       "    <tr>\n",
       "      <th>4</th>\n",
       "      <td>5efa38afaf923e76c3898dd2</td>\n",
       "      <td>[Loving Hut]</td>\n",
       "      <td>37.784307</td>\n",
       "      <td>-122.406012</td>\n",
       "      <td>{'type': 'Point', 'coordinates': [-122.406012,...</td>\n",
       "    </tr>\n",
       "  </tbody>\n",
       "</table>\n",
       "</div>"
      ],
      "text/plain": [
       "                        _id                  name   latitude   longitude  \\\n",
       "0  5efa38afaf923e76c3898dce  [The Flying Falafel]  37.781266 -122.411230   \n",
       "1  5efa38afaf923e76c3898dcf          [Golden Era]  37.781318 -122.416697   \n",
       "2  5efa38afaf923e76c3898dd0     [Indochine Vegan]  37.764626 -122.422160   \n",
       "3  5efa38afaf923e76c3898dd1        [Ananda Fuara]  37.777875 -122.416294   \n",
       "4  5efa38afaf923e76c3898dd2          [Loving Hut]  37.784307 -122.406012   \n",
       "\n",
       "                                            geopoint  \n",
       "0  {'type': 'Point', 'coordinates': [-122.4112304...  \n",
       "1  {'type': 'Point', 'coordinates': [-122.4166966...  \n",
       "2  {'type': 'Point', 'coordinates': [-122.4221595...  \n",
       "3  {'type': 'Point', 'coordinates': [-122.416294,...  \n",
       "4  {'type': 'Point', 'coordinates': [-122.406012,...  "
      ]
     },
     "execution_count": 191,
     "metadata": {},
     "output_type": "execute_result"
    }
   ],
   "source": [
    "cur =list(db.vegan.find({},{\"name\":1,\"latitude\":1,\"longitude\":1, \"geopoint\":1}))\n",
    "vegan_location = pd.DataFrame(cur)\n",
    "vegan_location.head()"
   ]
  },
  {
   "cell_type": "code",
   "execution_count": 192,
   "metadata": {},
   "outputs": [
    {
     "data": {
      "text/html": [
       "<div>\n",
       "<style scoped>\n",
       "    .dataframe tbody tr th:only-of-type {\n",
       "        vertical-align: middle;\n",
       "    }\n",
       "\n",
       "    .dataframe tbody tr th {\n",
       "        vertical-align: top;\n",
       "    }\n",
       "\n",
       "    .dataframe thead th {\n",
       "        text-align: right;\n",
       "    }\n",
       "</style>\n",
       "<table border=\"1\" class=\"dataframe\">\n",
       "  <thead>\n",
       "    <tr style=\"text-align: right;\">\n",
       "      <th></th>\n",
       "      <th>_id</th>\n",
       "      <th>name</th>\n",
       "      <th>latitude</th>\n",
       "      <th>longitude</th>\n",
       "      <th>geopoint</th>\n",
       "    </tr>\n",
       "  </thead>\n",
       "  <tbody>\n",
       "    <tr>\n",
       "      <th>0</th>\n",
       "      <td>5efa389ffe122b1cba544978</td>\n",
       "      <td>[VCA San Francisco Veterinary Specialists]</td>\n",
       "      <td>37.761480</td>\n",
       "      <td>-122.412279</td>\n",
       "      <td>{'type': 'Point', 'coordinates': [-122.4122788...</td>\n",
       "    </tr>\n",
       "    <tr>\n",
       "      <th>1</th>\n",
       "      <td>5efa389ffe122b1cba544979</td>\n",
       "      <td>[San Francisco SPCA Veterinary Hospital Pacifi...</td>\n",
       "      <td>37.791284</td>\n",
       "      <td>-122.434625</td>\n",
       "      <td>{'type': 'Point', 'coordinates': [-122.434625,...</td>\n",
       "    </tr>\n",
       "    <tr>\n",
       "      <th>2</th>\n",
       "      <td>5efa389ffe122b1cba54497a</td>\n",
       "      <td>[Ocean Avenue Veterinary Hospital]</td>\n",
       "      <td>37.723144</td>\n",
       "      <td>-122.453253</td>\n",
       "      <td>{'type': 'Point', 'coordinates': [-122.4532528...</td>\n",
       "    </tr>\n",
       "    <tr>\n",
       "      <th>3</th>\n",
       "      <td>5efa389ffe122b1cba54497b</td>\n",
       "      <td>[Park Animal Hospital]</td>\n",
       "      <td>37.765639</td>\n",
       "      <td>-122.466607</td>\n",
       "      <td>{'type': 'Point', 'coordinates': [-122.466607,...</td>\n",
       "    </tr>\n",
       "    <tr>\n",
       "      <th>4</th>\n",
       "      <td>5efa389ffe122b1cba54497c</td>\n",
       "      <td>[San Francisco Pet Hospital]</td>\n",
       "      <td>37.776581</td>\n",
       "      <td>-122.439369</td>\n",
       "      <td>{'type': 'Point', 'coordinates': [-122.4393694...</td>\n",
       "    </tr>\n",
       "  </tbody>\n",
       "</table>\n",
       "</div>"
      ],
      "text/plain": [
       "                        _id  \\\n",
       "0  5efa389ffe122b1cba544978   \n",
       "1  5efa389ffe122b1cba544979   \n",
       "2  5efa389ffe122b1cba54497a   \n",
       "3  5efa389ffe122b1cba54497b   \n",
       "4  5efa389ffe122b1cba54497c   \n",
       "\n",
       "                                                name   latitude   longitude  \\\n",
       "0         [VCA San Francisco Veterinary Specialists]  37.761480 -122.412279   \n",
       "1  [San Francisco SPCA Veterinary Hospital Pacifi...  37.791284 -122.434625   \n",
       "2                 [Ocean Avenue Veterinary Hospital]  37.723144 -122.453253   \n",
       "3                             [Park Animal Hospital]  37.765639 -122.466607   \n",
       "4                       [San Francisco Pet Hospital]  37.776581 -122.439369   \n",
       "\n",
       "                                            geopoint  \n",
       "0  {'type': 'Point', 'coordinates': [-122.4122788...  \n",
       "1  {'type': 'Point', 'coordinates': [-122.434625,...  \n",
       "2  {'type': 'Point', 'coordinates': [-122.4532528...  \n",
       "3  {'type': 'Point', 'coordinates': [-122.466607,...  \n",
       "4  {'type': 'Point', 'coordinates': [-122.4393694...  "
      ]
     },
     "execution_count": 192,
     "metadata": {},
     "output_type": "execute_result"
    }
   ],
   "source": [
    "cur =list(db.veterinary_place.find({},{\"name\":1,\"latitude\":1,\"longitude\":1, \"geopoint\":1}))\n",
    "veterinary_location = pd.DataFrame(cur)\n",
    "veterinary_location.head()"
   ]
  },
  {
   "cell_type": "markdown",
   "metadata": {},
   "source": [
    "## QUERY TO GEOCODE\n",
    "\n",
    "> Next, using the functions geoQueryNear and a For loop I will try to find out the nearby starbucks from my desire offices. In other words, figure out how many starbucks are in a 500m radious from each office location"
   ]
  },
  {
   "cell_type": "code",
   "execution_count": 193,
   "metadata": {},
   "outputs": [
    {
     "data": {
      "text/plain": [
       "'\\ndef geocode(address):\\n    res = requests.get(f\"https://geocode.xyz/{address}\", params={\"json\":1})\\n    data = res.json()\\n    return {\\n        \"type\":\"Point\",\\n        \"coordinates\":[float(data[\"longt\"]),float(data[\"latt\"])]\\n    }\\n'"
      ]
     },
     "execution_count": 193,
     "metadata": {},
     "output_type": "execute_result"
    }
   ],
   "source": [
    "\"\"\"\n",
    "def geocode(address):\n",
    "    res = requests.get(f\"https://geocode.xyz/{address}\", params={\"json\":1})\n",
    "    data = res.json()\n",
    "    return {\n",
    "        \"type\":\"Point\",\n",
    "        \"coordinates\":[float(data[\"longt\"]),float(data[\"latt\"])]\n",
    "    }\n",
    "\"\"\"    "
   ]
  },
  {
   "cell_type": "code",
   "execution_count": 194,
   "metadata": {},
   "outputs": [
    {
     "data": {
      "text/plain": [
       "'\\ndef geoQueryNear(point,radius=10000):\\n    return {\\n        \"geopoint\":{\\n            \"$near\": {\\n                \"$geometry\": point,\\n                \"$maxDistance\": radius,\\n                \"$minDistance\": 0\\n            }\\n        }\\n    }\\n'"
      ]
     },
     "execution_count": 194,
     "metadata": {},
     "output_type": "execute_result"
    }
   ],
   "source": [
    "\"\"\"\n",
    "def geoQueryNear(point,radius=10000):\n",
    "    return {\n",
    "        \"geopoint\":{\n",
    "            \"$near\": {\n",
    "                \"$geometry\": point,\n",
    "                \"$maxDistance\": radius,\n",
    "                \"$minDistance\": 0\n",
    "            }\n",
    "        }\n",
    "    }\n",
    "\"\"\"    "
   ]
  },
  {
   "cell_type": "code",
   "execution_count": 195,
   "metadata": {},
   "outputs": [
    {
     "data": {
      "text/plain": [
       "[[],\n",
       " [],\n",
       " [],\n",
       " [],\n",
       " [{'name': 'Curse',\n",
       "   'category_code': 'games_video',\n",
       "   'total_money_raised': '$12M',\n",
       "   'address1': '60 Broadway',\n",
       "   'city': 'San Francisco',\n",
       "   'state_code': 'CA',\n",
       "   'country_code': 'USA',\n",
       "   'latitude': 37.787092,\n",
       "   'longitude': -122.399972,\n",
       "   'geopoint': {'type': 'Point', 'coordinates': [-122.399972, 37.787092]}},\n",
       "  {'name': 'Kongregate',\n",
       "   'category_code': 'games_video',\n",
       "   'total_money_raised': '$19M',\n",
       "   'address1': '2 Shaw Alley',\n",
       "   'city': 'San Francisco',\n",
       "   'state_code': 'CA',\n",
       "   'country_code': 'USA',\n",
       "   'latitude': 37.786942,\n",
       "   'longitude': -122.401245,\n",
       "   'geopoint': {'type': 'Point', 'coordinates': [-122.401245, 37.786942]}}],\n",
       " [],\n",
       " [],\n",
       " [],\n",
       " [],\n",
       " [{'name': 'Kongregate',\n",
       "   'category_code': 'games_video',\n",
       "   'total_money_raised': '$19M',\n",
       "   'address1': '2 Shaw Alley',\n",
       "   'city': 'San Francisco',\n",
       "   'state_code': 'CA',\n",
       "   'country_code': 'USA',\n",
       "   'latitude': 37.786942,\n",
       "   'longitude': -122.401245,\n",
       "   'geopoint': {'type': 'Point', 'coordinates': [-122.401245, 37.786942]}},\n",
       "  {'name': 'Curse',\n",
       "   'category_code': 'games_video',\n",
       "   'total_money_raised': '$12M',\n",
       "   'address1': '60 Broadway',\n",
       "   'city': 'San Francisco',\n",
       "   'state_code': 'CA',\n",
       "   'country_code': 'USA',\n",
       "   'latitude': 37.787092,\n",
       "   'longitude': -122.399972,\n",
       "   'geopoint': {'type': 'Point', 'coordinates': [-122.399972, 37.787092]}}],\n",
       " [],\n",
       " [],\n",
       " [],\n",
       " [],\n",
       " [],\n",
       " [],\n",
       " [],\n",
       " [],\n",
       " [],\n",
       " []]"
      ]
     },
     "execution_count": 195,
     "metadata": {},
     "output_type": "execute_result"
    }
   ],
   "source": [
    "starbucks = []\n",
    "for i in range(len(starbucks_location)):\n",
    "    q = db.chosen_offices.find(geoQueryNear(starbucks_location.iloc[i].geopoint, radius=500),{\"_id\":0,\"company_id\":0})\n",
    "    near_offices = list(q)\n",
    "    starbucks.append(near_offices)\n",
    "starbucks\n"
   ]
  },
  {
   "cell_type": "markdown",
   "metadata": {},
   "source": [
    "> The list needs to be flatten in order to convert it into a dataframe"
   ]
  },
  {
   "cell_type": "code",
   "execution_count": 196,
   "metadata": {},
   "outputs": [
    {
     "data": {
      "text/plain": [
       "Curse         2\n",
       "Kongregate    2\n",
       "Name: name, dtype: int64"
      ]
     },
     "execution_count": 196,
     "metadata": {},
     "output_type": "execute_result"
    }
   ],
   "source": [
    "starbucks_close = [data for enterprise in starbucks for data in enterprise]\n",
    "starbucks_close = pd.DataFrame(starbucks_close)\n",
    "starbucks_close[\"name\"].value_counts()"
   ]
  },
  {
   "cell_type": "markdown",
   "metadata": {},
   "source": [
    "> I will repeat the same procedure for: \n",
    "    - NightClubs\n",
    "    - Vegan Restaurants\n",
    "    - Veterinaries"
   ]
  },
  {
   "cell_type": "code",
   "execution_count": 197,
   "metadata": {},
   "outputs": [
    {
     "data": {
      "text/plain": [
       "[{'name': 'Curse',\n",
       "  'category_code': 'games_video',\n",
       "  'total_money_raised': '$12M',\n",
       "  'address1': '60 Broadway',\n",
       "  'city': 'San Francisco',\n",
       "  'state_code': 'CA',\n",
       "  'country_code': 'USA',\n",
       "  'latitude': 37.787092,\n",
       "  'longitude': -122.399972,\n",
       "  'geopoint': {'type': 'Point', 'coordinates': [-122.399972, 37.787092]}},\n",
       " {'name': 'Kongregate',\n",
       "  'category_code': 'games_video',\n",
       "  'total_money_raised': '$19M',\n",
       "  'address1': '2 Shaw Alley',\n",
       "  'city': 'San Francisco',\n",
       "  'state_code': 'CA',\n",
       "  'country_code': 'USA',\n",
       "  'latitude': 37.786942,\n",
       "  'longitude': -122.401245,\n",
       "  'geopoint': {'type': 'Point', 'coordinates': [-122.401245, 37.786942]}},\n",
       " {'name': 'Zynga',\n",
       "  'category_code': 'games_video',\n",
       "  'total_money_raised': '$860M',\n",
       "  'address1': '365 Vermont St.',\n",
       "  'city': 'San Francisco',\n",
       "  'state_code': 'CA',\n",
       "  'country_code': 'USA',\n",
       "  'latitude': 37.765158,\n",
       "  'longitude': -122.404234,\n",
       "  'geopoint': {'type': 'Point', 'coordinates': [-122.404234, 37.765158]}}]"
      ]
     },
     "execution_count": 197,
     "metadata": {},
     "output_type": "execute_result"
    }
   ],
   "source": [
    "nightclubs = []\n",
    "for i in range(len(nightclubs_location)):\n",
    "    q = db.chosen_offices.find(geoQueryNear(nightclubs_location.iloc[i].geopoint, radius=3000),{\"_id\":0,\"company_id\":0})\n",
    "    near_offices = list(q)\n",
    "    nightclubs.append(near_offices)\n",
    "nightclubs[0]"
   ]
  },
  {
   "cell_type": "code",
   "execution_count": 198,
   "metadata": {},
   "outputs": [
    {
     "data": {
      "text/plain": [
       "Zynga         18\n",
       "Kongregate    16\n",
       "Curse         16\n",
       "Name: name, dtype: int64"
      ]
     },
     "execution_count": 198,
     "metadata": {},
     "output_type": "execute_result"
    }
   ],
   "source": [
    "nightclubs_close = [data for enterprise in nightclubs for data in enterprise]\n",
    "nightclubs_close = pd.DataFrame(nightclubs_close)\n",
    "nightclubs_close[\"name\"].value_counts()"
   ]
  },
  {
   "cell_type": "code",
   "execution_count": 199,
   "metadata": {},
   "outputs": [
    {
     "data": {
      "text/plain": [
       "[{'name': 'Kongregate',\n",
       "  'category_code': 'games_video',\n",
       "  'total_money_raised': '$19M',\n",
       "  'address1': '2 Shaw Alley',\n",
       "  'city': 'San Francisco',\n",
       "  'state_code': 'CA',\n",
       "  'country_code': 'USA',\n",
       "  'latitude': 37.786942,\n",
       "  'longitude': -122.401245,\n",
       "  'geopoint': {'type': 'Point', 'coordinates': [-122.401245, 37.786942]}},\n",
       " {'name': 'Curse',\n",
       "  'category_code': 'games_video',\n",
       "  'total_money_raised': '$12M',\n",
       "  'address1': '60 Broadway',\n",
       "  'city': 'San Francisco',\n",
       "  'state_code': 'CA',\n",
       "  'country_code': 'USA',\n",
       "  'latitude': 37.787092,\n",
       "  'longitude': -122.399972,\n",
       "  'geopoint': {'type': 'Point', 'coordinates': [-122.399972, 37.787092]}}]"
      ]
     },
     "execution_count": 199,
     "metadata": {},
     "output_type": "execute_result"
    }
   ],
   "source": [
    "vegan = []\n",
    "for i in range(len(vegan_location)):\n",
    "    q = db.chosen_offices.find(geoQueryNear(vegan_location.iloc[i].geopoint, radius=1500),{\"_id\":0,\"company_id\":0})\n",
    "    near_offices = list(q)\n",
    "    vegan.append(near_offices)\n",
    "vegan[0]"
   ]
  },
  {
   "cell_type": "code",
   "execution_count": 200,
   "metadata": {},
   "outputs": [
    {
     "data": {
      "text/plain": [
       "Kongregate    5\n",
       "Curse         3\n",
       "Zynga         2\n",
       "Name: name, dtype: int64"
      ]
     },
     "execution_count": 200,
     "metadata": {},
     "output_type": "execute_result"
    }
   ],
   "source": [
    "vegan_close = [data for enterprise in vegan for data in enterprise]\n",
    "vegan_close = pd.DataFrame(vegan_close)\n",
    "vegan_close.head()\n",
    "vegan_close[\"name\"].value_counts()"
   ]
  },
  {
   "cell_type": "code",
   "execution_count": 201,
   "metadata": {
    "scrolled": true
   },
   "outputs": [
    {
     "data": {
      "text/plain": [
       "[{'name': 'Zynga',\n",
       "  'category_code': 'games_video',\n",
       "  'total_money_raised': '$860M',\n",
       "  'address1': '365 Vermont St.',\n",
       "  'city': 'San Francisco',\n",
       "  'state_code': 'CA',\n",
       "  'country_code': 'USA',\n",
       "  'latitude': 37.765158,\n",
       "  'longitude': -122.404234,\n",
       "  'geopoint': {'type': 'Point', 'coordinates': [-122.404234, 37.765158]}},\n",
       " {'name': 'Kongregate',\n",
       "  'category_code': 'games_video',\n",
       "  'total_money_raised': '$19M',\n",
       "  'address1': '2 Shaw Alley',\n",
       "  'city': 'San Francisco',\n",
       "  'state_code': 'CA',\n",
       "  'country_code': 'USA',\n",
       "  'latitude': 37.786942,\n",
       "  'longitude': -122.401245,\n",
       "  'geopoint': {'type': 'Point', 'coordinates': [-122.401245, 37.786942]}},\n",
       " {'name': 'Curse',\n",
       "  'category_code': 'games_video',\n",
       "  'total_money_raised': '$12M',\n",
       "  'address1': '60 Broadway',\n",
       "  'city': 'San Francisco',\n",
       "  'state_code': 'CA',\n",
       "  'country_code': 'USA',\n",
       "  'latitude': 37.787092,\n",
       "  'longitude': -122.399972,\n",
       "  'geopoint': {'type': 'Point', 'coordinates': [-122.399972, 37.787092]}}]"
      ]
     },
     "execution_count": 201,
     "metadata": {},
     "output_type": "execute_result"
    }
   ],
   "source": [
    "veterinary = []\n",
    "for i in range(len(veterinary_location)):\n",
    "    q = db.chosen_offices.find(geoQueryNear(veterinary_location.iloc[i].geopoint, radius=5000),{\"_id\":0,\"company_id\":0})\n",
    "    near_offices = list(q)\n",
    "    veterinary.append(near_offices)\n",
    "veterinary[0]"
   ]
  },
  {
   "cell_type": "code",
   "execution_count": 202,
   "metadata": {},
   "outputs": [
    {
     "data": {
      "text/plain": [
       "Zynga         12\n",
       "Kongregate    11\n",
       "Curse         11\n",
       "Name: name, dtype: int64"
      ]
     },
     "execution_count": 202,
     "metadata": {},
     "output_type": "execute_result"
    }
   ],
   "source": [
    "veterinary_close = [data for enterprise in veterinary for data in enterprise]\n",
    "veterinary_close = pd.DataFrame(veterinary_close)\n",
    "veterinary_close[\"name\"].value_counts()"
   ]
  },
  {
   "cell_type": "markdown",
   "metadata": {},
   "source": [
    "## FOLIUM\n",
    "    \n"
   ]
  },
  {
   "cell_type": "code",
   "execution_count": 203,
   "metadata": {},
   "outputs": [
    {
     "name": "stdout",
     "output_type": "stream",
     "text": [
      "Requirement already satisfied: folium in /Library/Frameworks/Python.framework/Versions/3.8/lib/python3.8/site-packages (0.11.0)\n",
      "Requirement already satisfied: requests in /Library/Frameworks/Python.framework/Versions/3.8/lib/python3.8/site-packages (from folium) (2.24.0)\n",
      "Requirement already satisfied: numpy in /Library/Frameworks/Python.framework/Versions/3.8/lib/python3.8/site-packages (from folium) (1.19.0)\n",
      "Requirement already satisfied: branca>=0.3.0 in /Library/Frameworks/Python.framework/Versions/3.8/lib/python3.8/site-packages (from folium) (0.4.1)\n",
      "Requirement already satisfied: jinja2>=2.9 in /Library/Frameworks/Python.framework/Versions/3.8/lib/python3.8/site-packages (from folium) (2.11.2)\n",
      "Requirement already satisfied: idna<3,>=2.5 in /Library/Frameworks/Python.framework/Versions/3.8/lib/python3.8/site-packages (from requests->folium) (2.9)\n",
      "Requirement already satisfied: urllib3!=1.25.0,!=1.25.1,<1.26,>=1.21.1 in /Library/Frameworks/Python.framework/Versions/3.8/lib/python3.8/site-packages (from requests->folium) (1.25.9)\n",
      "Requirement already satisfied: chardet<4,>=3.0.2 in /Library/Frameworks/Python.framework/Versions/3.8/lib/python3.8/site-packages (from requests->folium) (3.0.4)\n",
      "Requirement already satisfied: certifi>=2017.4.17 in /Library/Frameworks/Python.framework/Versions/3.8/lib/python3.8/site-packages (from requests->folium) (2020.6.20)\n",
      "Requirement already satisfied: MarkupSafe>=0.23 in /Library/Frameworks/Python.framework/Versions/3.8/lib/python3.8/site-packages (from jinja2>=2.9->folium) (1.1.1)\n"
     ]
    }
   ],
   "source": [
    "!pip3 install folium"
   ]
  },
  {
   "cell_type": "code",
   "execution_count": 204,
   "metadata": {},
   "outputs": [],
   "source": [
    "from folium import Map, Marker, Icon, FeatureGroup, LayerControl, Choropleth\n",
    "from folium.plugins import HeatMap\n",
    "import pandas as pd"
   ]
  },
  {
   "cell_type": "code",
   "execution_count": 232,
   "metadata": {},
   "outputs": [
    {
     "data": {
      "text/html": [
       "<div style=\"width:100%;\"><div style=\"position:relative;width:100%;height:0;padding-bottom:60%;\"><span style=\"color:#565656\">Make this Notebook Trusted to load map: File -> Trust Notebook</span><iframe src=\"about:blank\" style=\"position:absolute;width:100%;height:100%;left:0;top:0;border:none !important;\" data-html=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 onload=\"this.contentDocument.open();this.contentDocument.write(atob(this.getAttribute('data-html')));this.contentDocument.close();\" allowfullscreen webkitallowfullscreen mozallowfullscreen></iframe></div></div>"
      ],
      "text/plain": [
       "<folium.folium.Map at 0x11f844a90>"
      ]
     },
     "execution_count": 232,
     "metadata": {},
     "output_type": "execute_result"
    }
   ],
   "source": [
    "# Offices that have a veterinary at 5000m\n",
    "m = Map([37.773972,-122.431297],zoom_start=12)    \n",
    "for i, row in veterinary_close.iterrows():\n",
    "    icon = Icon(\n",
    "                color=\"orange\",\n",
    "                prefix=\"fa\",\n",
    "                icon=\"paw\"\n",
    "            )\n",
    "    Marker(\n",
    "        location=row[[\"latitude\",\"longitude\"]],\n",
    "        icon=icon\n",
    "    ).add_to(m)\n",
    "m"
   ]
  },
  {
   "cell_type": "code",
   "execution_count": 233,
   "metadata": {},
   "outputs": [
    {
     "data": {
      "text/html": [
       "<div style=\"width:100%;\"><div style=\"position:relative;width:100%;height:0;padding-bottom:60%;\"><span style=\"color:#565656\">Make this Notebook Trusted to load map: File -> Trust Notebook</span><iframe src=\"about:blank\" style=\"position:absolute;width:100%;height:100%;left:0;top:0;border:none !important;\" data-html=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 onload=\"this.contentDocument.open();this.contentDocument.write(atob(this.getAttribute('data-html')));this.contentDocument.close();\" allowfullscreen webkitallowfullscreen mozallowfullscreen></iframe></div></div>"
      ],
      "text/plain": [
       "<folium.folium.Map at 0x11f844c40>"
      ]
     },
     "execution_count": 233,
     "metadata": {},
     "output_type": "execute_result"
    }
   ],
   "source": [
    "# Offices that have a night club at 3000 m\n",
    "m = Map([37.773972,-122.431297],zoom_start=12)\n",
    "\n",
    "for i, row in nightclubs_close.iterrows():\n",
    "    icon = Icon(\n",
    "                color=\"blue\",\n",
    "                prefix=\"fa\",\n",
    "                icon=\"beer\"\n",
    "            )\n",
    "    Marker(\n",
    "        location=row[[\"latitude\",\"longitude\"]],\n",
    "        icon=icon\n",
    "    ).add_to(m)\n",
    "m"
   ]
  },
  {
   "cell_type": "code",
   "execution_count": 234,
   "metadata": {},
   "outputs": [
    {
     "data": {
      "text/html": [
       "<div style=\"width:100%;\"><div style=\"position:relative;width:100%;height:0;padding-bottom:60%;\"><span style=\"color:#565656\">Make this Notebook Trusted to load map: File -> Trust Notebook</span><iframe src=\"about:blank\" style=\"position:absolute;width:100%;height:100%;left:0;top:0;border:none !important;\" data-html=PCFET0NUWVBFIGh0bWw+CjxoZWFkPiAgICAKICAgIDxtZXRhIGh0dHAtZXF1aXY9ImNvbnRlbnQtdHlwZSIgY29udGVudD0idGV4dC9odG1sOyBjaGFyc2V0PVVURi04IiAvPgogICAgCiAgICAgICAgPHNjcmlwdD4KICAgICAgICAgICAgTF9OT19UT1VDSCA9IGZhbHNlOwogICAgICAgICAgICBMX0RJU0FCTEVfM0QgPSBmYWxzZTsKICAgICAgICA8L3NjcmlwdD4KICAgIAogICAgPHNjcmlwdCBzcmM9Imh0dHBzOi8vY2RuLmpzZGVsaXZyLm5ldC9ucG0vbGVhZmxldEAxLjYuMC9kaXN0L2xlYWZsZXQuanMiPjwvc2NyaXB0PgogICAgPHNjcmlwdCBzcmM9Imh0dHBzOi8vY29kZS5qcXVlcnkuY29tL2pxdWVyeS0xLjEyLjQubWluLmpzIj48L3NjcmlwdD4KICAgIDxzY3JpcHQgc3JjPSJodHRwczovL21heGNkbi5ib290c3RyYXBjZG4uY29tL2Jvb3RzdHJhcC8zLjIuMC9qcy9ib290c3RyYXAubWluLmpzIj48L3NjcmlwdD4KICAgIDxzY3JpcHQgc3JjPSJodHRwczovL2NkbmpzLmNsb3VkZmxhcmUuY29tL2FqYXgvbGlicy9MZWFmbGV0LmF3ZXNvbWUtbWFya2Vycy8yLjAuMi9sZWFmbGV0LmF3ZXNvbWUtbWFya2Vycy5qcyI+PC9zY3JpcHQ+CiAgICA8bGluayByZWw9InN0eWxlc2hlZXQiIGhyZWY9Imh0dHBzOi8vY2RuLmpzZGVsaXZyLm5ldC9ucG0vbGVhZmxldEAxLjYuMC9kaXN0L2xlYWZsZXQuY3NzIi8+CiAgICA8bGluayByZWw9InN0eWxlc2hlZXQiIGhyZWY9Imh0dHBzOi8vbWF4Y2RuLmJvb3RzdHJhcGNkbi5jb20vYm9vdHN0cmFwLzMuMi4wL2Nzcy9ib290c3RyYXAubWluLmNzcyIvPgogICAgPGxpbmsgcmVsPSJzdHlsZXNoZWV0IiBocmVmPSJodHRwczovL21heGNkbi5ib290c3RyYXBjZG4uY29tL2Jvb3RzdHJhcC8zLjIuMC9jc3MvYm9vdHN0cmFwLXRoZW1lLm1pbi5jc3MiLz4KICAgIDxsaW5rIHJlbD0ic3R5bGVzaGVldCIgaHJlZj0iaHR0cHM6Ly9tYXhjZG4uYm9vdHN0cmFwY2RuLmNvbS9mb250LWF3ZXNvbWUvNC42LjMvY3NzL2ZvbnQtYXdlc29tZS5taW4uY3NzIi8+CiAgICA8bGluayByZWw9InN0eWxlc2hlZXQiIGhyZWY9Imh0dHBzOi8vY2RuanMuY2xvdWRmbGFyZS5jb20vYWpheC9saWJzL0xlYWZsZXQuYXdlc29tZS1tYXJrZXJzLzIuMC4yL2xlYWZsZXQuYXdlc29tZS1tYXJrZXJzLmNzcyIvPgogICAgPGxpbmsgcmVsPSJzdHlsZXNoZWV0IiBocmVmPSJodHRwczovL3Jhd2Nkbi5naXRoYWNrLmNvbS9weXRob24tdmlzdWFsaXphdGlvbi9mb2xpdW0vbWFzdGVyL2ZvbGl1bS90ZW1wbGF0ZXMvbGVhZmxldC5hd2Vzb21lLnJvdGF0ZS5jc3MiLz4KICAgIDxzdHlsZT5odG1sLCBib2R5IHt3aWR0aDogMTAwJTtoZWlnaHQ6IDEwMCU7bWFyZ2luOiAwO3BhZGRpbmc6IDA7fTwvc3R5bGU+CiAgICA8c3R5bGU+I21hcCB7cG9zaXRpb246YWJzb2x1dGU7dG9wOjA7Ym90dG9tOjA7cmlnaHQ6MDtsZWZ0OjA7fTwvc3R5bGU+CiAgICAKICAgICAgICAgICAgPG1ldGEgbmFtZT0idmlld3BvcnQiIGNvbnRlbnQ9IndpZHRoPWRldmljZS13aWR0aCwKICAgICAgICAgICAgICAgIGluaXRpYWwtc2NhbGU9MS4wLCBtYXhpbXVtLXNjYWxlPTEuMCwgdXNlci1zY2FsYWJsZT1ubyIgLz4KICAgICAgICAgICAgPHN0eWxlPgogICAgICAgICAgICAgICAgI21hcF8yY2FlNzU1ZjgwZGE0NzE5YjhjY2E1ZTllMTIyZTBiNSB7CiAgICAgICAgICAgICAgICAgICAgcG9zaXRpb246IHJlbGF0aXZlOwogICAgICAgICAgICAgICAgICAgIHdpZHRoOiAxMDAuMCU7CiAgICAgICAgICAgICAgICAgICAgaGVpZ2h0OiAxMDAuMCU7CiAgICAgICAgICAgICAgICAgICAgbGVmdDogMC4wJTsKICAgICAgICAgICAgICAgICAgICB0b3A6IDAuMCU7CiAgICAgICAgICAgICAgICB9CiAgICAgICAgICAgIDwvc3R5bGU+CiAgICAgICAgCjwvaGVhZD4KPGJvZHk+ICAgIAogICAgCiAgICAgICAgICAgIDxkaXYgY2xhc3M9ImZvbGl1bS1tYXAiIGlkPSJtYXBfMmNhZTc1NWY4MGRhNDcxOWI4Y2NhNWU5ZTEyMmUwYjUiID48L2Rpdj4KICAgICAgICAKPC9ib2R5Pgo8c2NyaXB0PiAgICAKICAgIAogICAgICAgICAgICB2YXIgbWFwXzJjYWU3NTVmODBkYTQ3MTliOGNjYTVlOWUxMjJlMGI1ID0gTC5tYXAoCiAgICAgICAgICAgICAgICAibWFwXzJjYWU3NTVmODBkYTQ3MTliOGNjYTVlOWUxMjJlMGI1IiwKICAgICAgICAgICAgICAgIHsKICAgICAgICAgICAgICAgICAgICBjZW50ZXI6IFszNy43NzM5NzIsIC0xMjIuNDMxMjk3XSwKICAgICAgICAgICAgICAgICAgICBjcnM6IEwuQ1JTLkVQU0czODU3LAogICAgICAgICAgICAgICAgICAgIHpvb206IDEyLAogICAgICAgICAgICAgICAgICAgIHpvb21Db250cm9sOiB0cnVlLAogICAgICAgICAgICAgICAgICAgIHByZWZlckNhbnZhczogZmFsc2UsCiAgICAgICAgICAgICAgICB9CiAgICAgICAgICAgICk7CgogICAgICAgICAgICAKCiAgICAgICAgCiAgICAKICAgICAgICAgICAgdmFyIHRpbGVfbGF5ZXJfYjZjZGIyMGI4OWVmNGE5MWFkYTNiOTdhZGFmMDVjYmYgPSBMLnRpbGVMYXllcigKICAgICAgICAgICAgICAgICJodHRwczovL3tzfS50aWxlLm9wZW5zdHJlZXRtYXAub3JnL3t6fS97eH0ve3l9LnBuZyIsCiAgICAgICAgICAgICAgICB7ImF0dHJpYnV0aW9uIjogIkRhdGEgYnkgXHUwMDI2Y29weTsgXHUwMDNjYSBocmVmPVwiaHR0cDovL29wZW5zdHJlZXRtYXAub3JnXCJcdTAwM2VPcGVuU3RyZWV0TWFwXHUwMDNjL2FcdTAwM2UsIHVuZGVyIFx1MDAzY2EgaHJlZj1cImh0dHA6Ly93d3cub3BlbnN0cmVldG1hcC5vcmcvY29weXJpZ2h0XCJcdTAwM2VPRGJMXHUwMDNjL2FcdTAwM2UuIiwgImRldGVjdFJldGluYSI6IGZhbHNlLCAibWF4TmF0aXZlWm9vbSI6IDE4LCAibWF4Wm9vbSI6IDE4LCAibWluWm9vbSI6IDAsICJub1dyYXAiOiBmYWxzZSwgIm9wYWNpdHkiOiAxLCAic3ViZG9tYWlucyI6ICJhYmMiLCAidG1zIjogZmFsc2V9CiAgICAgICAgICAgICkuYWRkVG8obWFwXzJjYWU3NTVmODBkYTQ3MTliOGNjYTVlOWUxMjJlMGI1KTsKICAgICAgICAKICAgIAogICAgICAgICAgICB2YXIgbWFya2VyX2ZmYjYyZDg3NjUyZTQ2NDJiZWJkNzQ5MDA4MTQ5NzgxID0gTC5tYXJrZXIoCiAgICAgICAgICAgICAgICBbMzcuNzg2OTQyLCAtMTIyLjQwMTI0NV0sCiAgICAgICAgICAgICAgICB7fQogICAgICAgICAgICApLmFkZFRvKG1hcF8yY2FlNzU1ZjgwZGE0NzE5YjhjY2E1ZTllMTIyZTBiNSk7CiAgICAgICAgCiAgICAKICAgICAgICAgICAgdmFyIGljb25fODExZjIyZDgyMzc2NGJiNWIzMjgzMDk5ODY3ZTQzZDYgPSBMLkF3ZXNvbWVNYXJrZXJzLmljb24oCiAgICAgICAgICAgICAgICB7ImV4dHJhQ2xhc3NlcyI6ICJmYS1yb3RhdGUtMCIsICJpY29uIjogImhhbWJ1cmdlciIsICJpY29uQ29sb3IiOiAid2hpdGUiLCAibWFya2VyQ29sb3IiOiAicmVkIiwgInByZWZpeCI6ICJmYSJ9CiAgICAgICAgICAgICk7CiAgICAgICAgICAgIG1hcmtlcl9mZmI2MmQ4NzY1MmU0NjQyYmViZDc0OTAwODE0OTc4MS5zZXRJY29uKGljb25fODExZjIyZDgyMzc2NGJiNWIzMjgzMDk5ODY3ZTQzZDYpOwogICAgICAgIAogICAgCiAgICAgICAgICAgIHZhciBtYXJrZXJfNzMzMDE1YzQxOTNjNGZiN2EwYWEyNjZhZmNmYmQ4MjQgPSBMLm1hcmtlcigKICAgICAgICAgICAgICAgIFszNy43ODcwOTIsIC0xMjIuMzk5OTcyXSwKICAgICAgICAgICAgICAgIHt9CiAgICAgICAgICAgICkuYWRkVG8obWFwXzJjYWU3NTVmODBkYTQ3MTliOGNjYTVlOWUxMjJlMGI1KTsKICAgICAgICAKICAgIAogICAgICAgICAgICB2YXIgaWNvbl8wYWNhZTdhNGE2MWE0NTJkOWE0ZmMwN2FlODU4MWYzNiA9IEwuQXdlc29tZU1hcmtlcnMuaWNvbigKICAgICAgICAgICAgICAgIHsiZXh0cmFDbGFzc2VzIjogImZhLXJvdGF0ZS0wIiwgImljb24iOiAiaGFtYnVyZ2VyIiwgImljb25Db2xvciI6ICJ3aGl0ZSIsICJtYXJrZXJDb2xvciI6ICJyZWQiLCAicHJlZml4IjogImZhIn0KICAgICAgICAgICAgKTsKICAgICAgICAgICAgbWFya2VyXzczMzAxNWM0MTkzYzRmYjdhMGFhMjY2YWZjZmJkODI0LnNldEljb24oaWNvbl8wYWNhZTdhNGE2MWE0NTJkOWE0ZmMwN2FlODU4MWYzNik7CiAgICAgICAgCiAgICAKICAgICAgICAgICAgdmFyIG1hcmtlcl9mMDRkN2M3MTVjZGE0NDRiYWZkZDQyMDYxYWJkZWNiYSA9IEwubWFya2VyKAogICAgICAgICAgICAgICAgWzM3Ljc4Njk0MiwgLTEyMi40MDEyNDVdLAogICAgICAgICAgICAgICAge30KICAgICAgICAgICAgKS5hZGRUbyhtYXBfMmNhZTc1NWY4MGRhNDcxOWI4Y2NhNWU5ZTEyMmUwYjUpOwogICAgICAgIAogICAgCiAgICAgICAgICAgIHZhciBpY29uXzlhYjM5ZGNhNzY4NDQ1MzdhNjBhOTEwMThlOWUxN2Y2ID0gTC5Bd2Vzb21lTWFya2Vycy5pY29uKAogICAgICAgICAgICAgICAgeyJleHRyYUNsYXNzZXMiOiAiZmEtcm90YXRlLTAiLCAiaWNvbiI6ICJoYW1idXJnZXIiLCAiaWNvbkNvbG9yIjogIndoaXRlIiwgIm1hcmtlckNvbG9yIjogInJlZCIsICJwcmVmaXgiOiAiZmEifQogICAgICAgICAgICApOwogICAgICAgICAgICBtYXJrZXJfZjA0ZDdjNzE1Y2RhNDQ0YmFmZGQ0MjA2MWFiZGVjYmEuc2V0SWNvbihpY29uXzlhYjM5ZGNhNzY4NDQ1MzdhNjBhOTEwMThlOWUxN2Y2KTsKICAgICAgICAKICAgIAogICAgICAgICAgICB2YXIgbWFya2VyX2QzODQ1OTIyNjUxZDRjNzRhNDE1MWUwY2FjM2M3OTZmID0gTC5tYXJrZXIoCiAgICAgICAgICAgICAgICBbMzcuNzg2OTQyLCAtMTIyLjQwMTI0NV0sCiAgICAgICAgICAgICAgICB7fQogICAgICAgICAgICApLmFkZFRvKG1hcF8yY2FlNzU1ZjgwZGE0NzE5YjhjY2E1ZTllMTIyZTBiNSk7CiAgICAgICAgCiAgICAKICAgICAgICAgICAgdmFyIGljb25fMmI1MGE3NDU0ZWRhNDQwMjlmYmUwNjAwNzRkYWZjNjYgPSBMLkF3ZXNvbWVNYXJrZXJzLmljb24oCiAgICAgICAgICAgICAgICB7ImV4dHJhQ2xhc3NlcyI6ICJmYS1yb3RhdGUtMCIsICJpY29uIjogImhhbWJ1cmdlciIsICJpY29uQ29sb3IiOiAid2hpdGUiLCAibWFya2VyQ29sb3IiOiAicmVkIiwgInByZWZpeCI6ICJmYSJ9CiAgICAgICAgICAgICk7CiAgICAgICAgICAgIG1hcmtlcl9kMzg0NTkyMjY1MWQ0Yzc0YTQxNTFlMGNhYzNjNzk2Zi5zZXRJY29uKGljb25fMmI1MGE3NDU0ZWRhNDQwMjlmYmUwNjAwNzRkYWZjNjYpOwogICAgICAgIAogICAgCiAgICAgICAgICAgIHZhciBtYXJrZXJfNWQxNDI5NjVlNGM0NDkwMWE3ZWNmYzg3ZGM3NjllNjEgPSBMLm1hcmtlcigKICAgICAgICAgICAgICAgIFszNy43ODcwOTIsIC0xMjIuMzk5OTcyXSwKICAgICAgICAgICAgICAgIHt9CiAgICAgICAgICAgICkuYWRkVG8obWFwXzJjYWU3NTVmODBkYTQ3MTliOGNjYTVlOWUxMjJlMGI1KTsKICAgICAgICAKICAgIAogICAgICAgICAgICB2YXIgaWNvbl9iN2JkNzg5YzZkNDk0N2ZkOGE3N2NhNDkwMTJlN2U4YSA9IEwuQXdlc29tZU1hcmtlcnMuaWNvbigKICAgICAgICAgICAgICAgIHsiZXh0cmFDbGFzc2VzIjogImZhLXJvdGF0ZS0wIiwgImljb24iOiAiaGFtYnVyZ2VyIiwgImljb25Db2xvciI6ICJ3aGl0ZSIsICJtYXJrZXJDb2xvciI6ICJyZWQiLCAicHJlZml4IjogImZhIn0KICAgICAgICAgICAgKTsKICAgICAgICAgICAgbWFya2VyXzVkMTQyOTY1ZTRjNDQ5MDFhN2VjZmM4N2RjNzY5ZTYxLnNldEljb24oaWNvbl9iN2JkNzg5YzZkNDk0N2ZkOGE3N2NhNDkwMTJlN2U4YSk7CiAgICAgICAgCiAgICAKICAgICAgICAgICAgdmFyIG1hcmtlcl9mYWNjNDlhMmViMmE0ODUwYjhiMzRiYzE1NjNjZTA3MCA9IEwubWFya2VyKAogICAgICAgICAgICAgICAgWzM3Ljc2NTE1OCwgLTEyMi40MDQyMzRdLAogICAgICAgICAgICAgICAge30KICAgICAgICAgICAgKS5hZGRUbyhtYXBfMmNhZTc1NWY4MGRhNDcxOWI4Y2NhNWU5ZTEyMmUwYjUpOwogICAgICAgIAogICAgCiAgICAgICAgICAgIHZhciBpY29uXzJhY2U0ZDMxZWM5YzRmNDQ5ODFlZGQyYThlMDhmYWE1ID0gTC5Bd2Vzb21lTWFya2Vycy5pY29uKAogICAgICAgICAgICAgICAgeyJleHRyYUNsYXNzZXMiOiAiZmEtcm90YXRlLTAiLCAiaWNvbiI6ICJoYW1idXJnZXIiLCAiaWNvbkNvbG9yIjogIndoaXRlIiwgIm1hcmtlckNvbG9yIjogInJlZCIsICJwcmVmaXgiOiAiZmEifQogICAgICAgICAgICApOwogICAgICAgICAgICBtYXJrZXJfZmFjYzQ5YTJlYjJhNDg1MGI4YjM0YmMxNTYzY2UwNzAuc2V0SWNvbihpY29uXzJhY2U0ZDMxZWM5YzRmNDQ5ODFlZGQyYThlMDhmYWE1KTsKICAgICAgICAKICAgIAogICAgICAgICAgICB2YXIgbWFya2VyX2Y5ZGI1ZmNjZjM0YTQ1MGZiNWU4MDlkNTU5Yjc3NTAzID0gTC5tYXJrZXIoCiAgICAgICAgICAgICAgICBbMzcuNzY1MTU4LCAtMTIyLjQwNDIzNF0sCiAgICAgICAgICAgICAgICB7fQogICAgICAgICAgICApLmFkZFRvKG1hcF8yY2FlNzU1ZjgwZGE0NzE5YjhjY2E1ZTllMTIyZTBiNSk7CiAgICAgICAgCiAgICAKICAgICAgICAgICAgdmFyIGljb25fODU0NGEzZjhjNThmNGRmYjgyMjc4N2JiY2UxNjdkNTggPSBMLkF3ZXNvbWVNYXJrZXJzLmljb24oCiAgICAgICAgICAgICAgICB7ImV4dHJhQ2xhc3NlcyI6ICJmYS1yb3RhdGUtMCIsICJpY29uIjogImhhbWJ1cmdlciIsICJpY29uQ29sb3IiOiAid2hpdGUiLCAibWFya2VyQ29sb3IiOiAicmVkIiwgInByZWZpeCI6ICJmYSJ9CiAgICAgICAgICAgICk7CiAgICAgICAgICAgIG1hcmtlcl9mOWRiNWZjY2YzNGE0NTBmYjVlODA5ZDU1OWI3NzUwMy5zZXRJY29uKGljb25fODU0NGEzZjhjNThmNGRmYjgyMjc4N2JiY2UxNjdkNTgpOwogICAgICAgIAogICAgCiAgICAgICAgICAgIHZhciBtYXJrZXJfYjQ3NWNmYWY4M2EzNDRiOThkMjZiNzA1NzkwYTNlOTYgPSBMLm1hcmtlcigKICAgICAgICAgICAgICAgIFszNy43ODY5NDIsIC0xMjIuNDAxMjQ1XSwKICAgICAgICAgICAgICAgIHt9CiAgICAgICAgICAgICkuYWRkVG8obWFwXzJjYWU3NTVmODBkYTQ3MTliOGNjYTVlOWUxMjJlMGI1KTsKICAgICAgICAKICAgIAogICAgICAgICAgICB2YXIgaWNvbl8xZmU2NmUzZGVjMzk0NmRmOTQxMTBhYjk2YjQ4ZjAyNiA9IEwuQXdlc29tZU1hcmtlcnMuaWNvbigKICAgICAgICAgICAgICAgIHsiZXh0cmFDbGFzc2VzIjogImZhLXJvdGF0ZS0wIiwgImljb24iOiAiaGFtYnVyZ2VyIiwgImljb25Db2xvciI6ICJ3aGl0ZSIsICJtYXJrZXJDb2xvciI6ICJyZWQiLCAicHJlZml4IjogImZhIn0KICAgICAgICAgICAgKTsKICAgICAgICAgICAgbWFya2VyX2I0NzVjZmFmODNhMzQ0Yjk4ZDI2YjcwNTc5MGEzZTk2LnNldEljb24oaWNvbl8xZmU2NmUzZGVjMzk0NmRmOTQxMTBhYjk2YjQ4ZjAyNik7CiAgICAgICAgCiAgICAKICAgICAgICAgICAgdmFyIG1hcmtlcl80NDI3YzM1NjE1ZjY0MGY3OTlkYzNlNzhhN2JhNzM4ZiA9IEwubWFya2VyKAogICAgICAgICAgICAgICAgWzM3Ljc4NzA5MiwgLTEyMi4zOTk5NzJdLAogICAgICAgICAgICAgICAge30KICAgICAgICAgICAgKS5hZGRUbyhtYXBfMmNhZTc1NWY4MGRhNDcxOWI4Y2NhNWU5ZTEyMmUwYjUpOwogICAgICAgIAogICAgCiAgICAgICAgICAgIHZhciBpY29uXzY0MGVlNmI2MzBkYzRlNDhiNDk2NGEzMjM4YjllZTFlID0gTC5Bd2Vzb21lTWFya2Vycy5pY29uKAogICAgICAgICAgICAgICAgeyJleHRyYUNsYXNzZXMiOiAiZmEtcm90YXRlLTAiLCAiaWNvbiI6ICJoYW1idXJnZXIiLCAiaWNvbkNvbG9yIjogIndoaXRlIiwgIm1hcmtlckNvbG9yIjogInJlZCIsICJwcmVmaXgiOiAiZmEifQogICAgICAgICAgICApOwogICAgICAgICAgICBtYXJrZXJfNDQyN2MzNTYxNWY2NDBmNzk5ZGMzZTc4YTdiYTczOGYuc2V0SWNvbihpY29uXzY0MGVlNmI2MzBkYzRlNDhiNDk2NGEzMjM4YjllZTFlKTsKICAgICAgICAKICAgIAogICAgICAgICAgICB2YXIgbWFya2VyXzBhYzRiZjA3ZDdlZTRiYmI4ZWM3OWZiZjMyMjk3ODI2ID0gTC5tYXJrZXIoCiAgICAgICAgICAgICAgICBbMzcuNzg2OTQyLCAtMTIyLjQwMTI0NV0sCiAgICAgICAgICAgICAgICB7fQogICAgICAgICAgICApLmFkZFRvKG1hcF8yY2FlNzU1ZjgwZGE0NzE5YjhjY2E1ZTllMTIyZTBiNSk7CiAgICAgICAgCiAgICAKICAgICAgICAgICAgdmFyIGljb25fNDMwOTNhNGI2OTEyNDk5ZWJhZTNiNjRjYWM1ZWM0M2QgPSBMLkF3ZXNvbWVNYXJrZXJzLmljb24oCiAgICAgICAgICAgICAgICB7ImV4dHJhQ2xhc3NlcyI6ICJmYS1yb3RhdGUtMCIsICJpY29uIjogImhhbWJ1cmdlciIsICJpY29uQ29sb3IiOiAid2hpdGUiLCAibWFya2VyQ29sb3IiOiAicmVkIiwgInByZWZpeCI6ICJmYSJ9CiAgICAgICAgICAgICk7CiAgICAgICAgICAgIG1hcmtlcl8wYWM0YmYwN2Q3ZWU0YmJiOGVjNzlmYmYzMjI5NzgyNi5zZXRJY29uKGljb25fNDMwOTNhNGI2OTEyNDk5ZWJhZTNiNjRjYWM1ZWM0M2QpOwogICAgICAgIAo8L3NjcmlwdD4= onload=\"this.contentDocument.open();this.contentDocument.write(atob(this.getAttribute('data-html')));this.contentDocument.close();\" allowfullscreen webkitallowfullscreen mozallowfullscreen></iframe></div></div>"
      ],
      "text/plain": [
       "<folium.folium.Map at 0x11f7bbbe0>"
      ]
     },
     "execution_count": 234,
     "metadata": {},
     "output_type": "execute_result"
    }
   ],
   "source": [
    "# Offices that have a vegan restaurant at 1500m\n",
    "m = Map([37.773972,-122.431297],zoom_start=12)\n",
    "\n",
    "for i, row in vegan_close.iterrows():\n",
    "    icon = Icon(\n",
    "                color=\"red\",\n",
    "                prefix=\"fa\",\n",
    "                icon=\"hamburger\"\n",
    "            )\n",
    "    Marker(\n",
    "        location=row[[\"latitude\",\"longitude\"]],\n",
    "        icon=icon\n",
    "    ).add_to(m)\n",
    "m"
   ]
  },
  {
   "cell_type": "code",
   "execution_count": 228,
   "metadata": {},
   "outputs": [
    {
     "data": {
      "text/html": [
       "<div style=\"width:100%;\"><div style=\"position:relative;width:100%;height:0;padding-bottom:60%;\"><span style=\"color:#565656\">Make this Notebook Trusted to load map: File -> Trust Notebook</span><iframe src=\"about:blank\" style=\"position:absolute;width:100%;height:100%;left:0;top:0;border:none !important;\" data-html=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 onload=\"this.contentDocument.open();this.contentDocument.write(atob(this.getAttribute('data-html')));this.contentDocument.close();\" allowfullscreen webkitallowfullscreen mozallowfullscreen></iframe></div></div>"
      ],
      "text/plain": [
       "<folium.folium.Map at 0x11f7a1970>"
      ]
     },
     "execution_count": 228,
     "metadata": {},
     "output_type": "execute_result"
    }
   ],
   "source": [
    "# Offices that have a starbucks at 500m\n",
    "m = Map([37.773972,-122.431297],zoom_start=12)\n",
    "\n",
    "for i, row in starbucks_close.iterrows():\n",
    "    icon = Icon(\n",
    "                color=\"green\",\n",
    "                prefix=\"fa\",\n",
    "                icon=\"coffe\"\n",
    "            )\n",
    "    Marker(\n",
    "        location=row[[\"latitude\",\"longitude\"]],\n",
    "        icon=icon\n",
    "    ).add_to(m)\n",
    "m"
   ]
  },
  {
   "cell_type": "markdown",
   "metadata": {},
   "source": [
    "## Chosen Offices \n",
    "\n",
    " > Only 2 locations have all the characteristics and establishments that our enterprise needs\n",
    " "
   ]
  },
  {
   "cell_type": "code",
   "execution_count": null,
   "metadata": {},
   "outputs": [],
   "source": []
  }
 ],
 "metadata": {
  "kernelspec": {
   "display_name": "Python 3",
   "language": "python",
   "name": "python3"
  },
  "language_info": {
   "codemirror_mode": {
    "name": "ipython",
    "version": 3
   },
   "file_extension": ".py",
   "mimetype": "text/x-python",
   "name": "python",
   "nbconvert_exporter": "python",
   "pygments_lexer": "ipython3",
   "version": "3.8.2"
  }
 },
 "nbformat": 4,
 "nbformat_minor": 4
}
