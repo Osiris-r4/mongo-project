{
 "cells": [
  {
   "cell_type": "markdown",
   "metadata": {},
   "source": [
    "## MONGO AND NEAR BY QUERIES"
   ]
  },
  {
   "cell_type": "code",
   "execution_count": 28,
   "metadata": {},
   "outputs": [],
   "source": [
    "from pymongo import MongoClient\n",
    "import folium\n",
    "import pandas as pd\n",
    "import matplotlib\n",
    "import numpy as np\n",
    "import pandas as pd\n",
    "import os\n",
    "import requests\n",
    "import json\n",
    "from pandas.io.json import json_normalize\n",
    "import re\n",
    "from SRC.formulas_calculo import*"
   ]
  },
  {
   "cell_type": "code",
   "execution_count": 13,
   "metadata": {},
   "outputs": [],
   "source": [
    "dbName = \"companies\"\n",
    "mongodbURL = f\"mongodb://localhost/{dbName}\"\n",
    "client = MongoClient(mongodbURL, connectTimeoutMS=2000, serverSelectionTimeoutMS=2000)\n",
    "db = client.get_database()"
   ]
  },
  {
   "cell_type": "markdown",
   "metadata": {},
   "source": [
    "> The first thing Im gonna do, is to import all the data frames that ill be working with"
   ]
  },
  {
   "cell_type": "code",
   "execution_count": 14,
   "metadata": {},
   "outputs": [
    {
     "data": {
      "text/html": [
       "<div>\n",
       "<style scoped>\n",
       "    .dataframe tbody tr th:only-of-type {\n",
       "        vertical-align: middle;\n",
       "    }\n",
       "\n",
       "    .dataframe tbody tr th {\n",
       "        vertical-align: top;\n",
       "    }\n",
       "\n",
       "    .dataframe thead th {\n",
       "        text-align: right;\n",
       "    }\n",
       "</style>\n",
       "<table border=\"1\" class=\"dataframe\">\n",
       "  <thead>\n",
       "    <tr style=\"text-align: right;\">\n",
       "      <th></th>\n",
       "      <th>_id</th>\n",
       "      <th>name</th>\n",
       "      <th>latitude</th>\n",
       "      <th>longitude</th>\n",
       "      <th>geopoint</th>\n",
       "    </tr>\n",
       "  </thead>\n",
       "  <tbody>\n",
       "    <tr>\n",
       "      <th>0</th>\n",
       "      <td>5efa38294c4b4802bbdf6e7c</td>\n",
       "      <td>Kongregate</td>\n",
       "      <td>37.786942</td>\n",
       "      <td>-122.401245</td>\n",
       "      <td>{'type': 'Point', 'coordinates': [-122.401245,...</td>\n",
       "    </tr>\n",
       "    <tr>\n",
       "      <th>1</th>\n",
       "      <td>5efa38294c4b4802bbdf6e7d</td>\n",
       "      <td>Curse</td>\n",
       "      <td>37.787092</td>\n",
       "      <td>-122.399972</td>\n",
       "      <td>{'type': 'Point', 'coordinates': [-122.399972,...</td>\n",
       "    </tr>\n",
       "    <tr>\n",
       "      <th>2</th>\n",
       "      <td>5efa38294c4b4802bbdf6e7e</td>\n",
       "      <td>Kabam</td>\n",
       "      <td>37.394456</td>\n",
       "      <td>-122.078531</td>\n",
       "      <td>{'type': 'Point', 'coordinates': [-122.0785314...</td>\n",
       "    </tr>\n",
       "    <tr>\n",
       "      <th>3</th>\n",
       "      <td>5efa38294c4b4802bbdf6e7f</td>\n",
       "      <td>Zynga</td>\n",
       "      <td>37.765158</td>\n",
       "      <td>-122.404234</td>\n",
       "      <td>{'type': 'Point', 'coordinates': [-122.404234,...</td>\n",
       "    </tr>\n",
       "    <tr>\n",
       "      <th>4</th>\n",
       "      <td>5efa38294c4b4802bbdf6e80</td>\n",
       "      <td>KIXEYE</td>\n",
       "      <td>NaN</td>\n",
       "      <td>NaN</td>\n",
       "      <td>None</td>\n",
       "    </tr>\n",
       "  </tbody>\n",
       "</table>\n",
       "</div>"
      ],
      "text/plain": [
       "                        _id        name   latitude   longitude  \\\n",
       "0  5efa38294c4b4802bbdf6e7c  Kongregate  37.786942 -122.401245   \n",
       "1  5efa38294c4b4802bbdf6e7d       Curse  37.787092 -122.399972   \n",
       "2  5efa38294c4b4802bbdf6e7e       Kabam  37.394456 -122.078531   \n",
       "3  5efa38294c4b4802bbdf6e7f       Zynga  37.765158 -122.404234   \n",
       "4  5efa38294c4b4802bbdf6e80      KIXEYE        NaN         NaN   \n",
       "\n",
       "                                            geopoint  \n",
       "0  {'type': 'Point', 'coordinates': [-122.401245,...  \n",
       "1  {'type': 'Point', 'coordinates': [-122.399972,...  \n",
       "2  {'type': 'Point', 'coordinates': [-122.0785314...  \n",
       "3  {'type': 'Point', 'coordinates': [-122.404234,...  \n",
       "4                                               None  "
      ]
     },
     "execution_count": 14,
     "metadata": {},
     "output_type": "execute_result"
    }
   ],
   "source": [
    "cur =list(db.chosen_offices.find({},{\"name\":1,\"latitude\":1,\"longitude\":1, \"geopoint\":1}))\n",
    "office_location = pd.DataFrame(cur)\n",
    "office_location"
   ]
  },
  {
   "cell_type": "code",
   "execution_count": 15,
   "metadata": {},
   "outputs": [
    {
     "data": {
      "text/html": [
       "<div>\n",
       "<style scoped>\n",
       "    .dataframe tbody tr th:only-of-type {\n",
       "        vertical-align: middle;\n",
       "    }\n",
       "\n",
       "    .dataframe tbody tr th {\n",
       "        vertical-align: top;\n",
       "    }\n",
       "\n",
       "    .dataframe thead th {\n",
       "        text-align: right;\n",
       "    }\n",
       "</style>\n",
       "<table border=\"1\" class=\"dataframe\">\n",
       "  <thead>\n",
       "    <tr style=\"text-align: right;\">\n",
       "      <th></th>\n",
       "      <th>_id</th>\n",
       "      <th>name</th>\n",
       "      <th>latitude</th>\n",
       "      <th>longitude</th>\n",
       "      <th>geopoint</th>\n",
       "    </tr>\n",
       "  </thead>\n",
       "  <tbody>\n",
       "    <tr>\n",
       "      <th>0</th>\n",
       "      <td>5efa386a51051c08f12ccb4f</td>\n",
       "      <td>[The Grand]</td>\n",
       "      <td>37.779100</td>\n",
       "      <td>-122.397900</td>\n",
       "      <td>{'type': 'Point', 'coordinates': [-122.3979003...</td>\n",
       "    </tr>\n",
       "    <tr>\n",
       "      <th>1</th>\n",
       "      <td>5efa386a51051c08f12ccb50</td>\n",
       "      <td>[Smuggler's Cove]</td>\n",
       "      <td>37.779403</td>\n",
       "      <td>-122.423372</td>\n",
       "      <td>{'type': 'Point', 'coordinates': [-122.4233722...</td>\n",
       "    </tr>\n",
       "    <tr>\n",
       "      <th>2</th>\n",
       "      <td>5efa386a51051c08f12ccb51</td>\n",
       "      <td>[Edinburgh Castle Pub]</td>\n",
       "      <td>37.786127</td>\n",
       "      <td>-122.418957</td>\n",
       "      <td>{'type': 'Point', 'coordinates': [-122.4189571...</td>\n",
       "    </tr>\n",
       "    <tr>\n",
       "      <th>3</th>\n",
       "      <td>5efa386a51051c08f12ccb52</td>\n",
       "      <td>[Zero Zero]</td>\n",
       "      <td>37.781636</td>\n",
       "      <td>-122.402083</td>\n",
       "      <td>{'type': 'Point', 'coordinates': [-122.402083,...</td>\n",
       "    </tr>\n",
       "    <tr>\n",
       "      <th>4</th>\n",
       "      <td>5efa386a51051c08f12ccb53</td>\n",
       "      <td>[The Chapel]</td>\n",
       "      <td>37.760486</td>\n",
       "      <td>-122.421298</td>\n",
       "      <td>{'type': 'Point', 'coordinates': [-122.4212979...</td>\n",
       "    </tr>\n",
       "  </tbody>\n",
       "</table>\n",
       "</div>"
      ],
      "text/plain": [
       "                        _id                    name   latitude   longitude  \\\n",
       "0  5efa386a51051c08f12ccb4f             [The Grand]  37.779100 -122.397900   \n",
       "1  5efa386a51051c08f12ccb50       [Smuggler's Cove]  37.779403 -122.423372   \n",
       "2  5efa386a51051c08f12ccb51  [Edinburgh Castle Pub]  37.786127 -122.418957   \n",
       "3  5efa386a51051c08f12ccb52             [Zero Zero]  37.781636 -122.402083   \n",
       "4  5efa386a51051c08f12ccb53            [The Chapel]  37.760486 -122.421298   \n",
       "\n",
       "                                            geopoint  \n",
       "0  {'type': 'Point', 'coordinates': [-122.3979003...  \n",
       "1  {'type': 'Point', 'coordinates': [-122.4233722...  \n",
       "2  {'type': 'Point', 'coordinates': [-122.4189571...  \n",
       "3  {'type': 'Point', 'coordinates': [-122.402083,...  \n",
       "4  {'type': 'Point', 'coordinates': [-122.4212979...  "
      ]
     },
     "execution_count": 15,
     "metadata": {},
     "output_type": "execute_result"
    }
   ],
   "source": [
    "cur =list(db.nightclubs.find({},{\"name\":1,\"latitude\":1,\"longitude\":1, \"geopoint\":1}))\n",
    "nightclubs_location = pd.DataFrame(cur)\n",
    "nightclubs_location.head()\n"
   ]
  },
  {
   "cell_type": "code",
   "execution_count": 16,
   "metadata": {},
   "outputs": [
    {
     "data": {
      "text/html": [
       "<div>\n",
       "<style scoped>\n",
       "    .dataframe tbody tr th:only-of-type {\n",
       "        vertical-align: middle;\n",
       "    }\n",
       "\n",
       "    .dataframe tbody tr th {\n",
       "        vertical-align: top;\n",
       "    }\n",
       "\n",
       "    .dataframe thead th {\n",
       "        text-align: right;\n",
       "    }\n",
       "</style>\n",
       "<table border=\"1\" class=\"dataframe\">\n",
       "  <thead>\n",
       "    <tr style=\"text-align: right;\">\n",
       "      <th></th>\n",
       "      <th>_id</th>\n",
       "      <th>name</th>\n",
       "      <th>latitude</th>\n",
       "      <th>longitude</th>\n",
       "      <th>geopoint</th>\n",
       "    </tr>\n",
       "  </thead>\n",
       "  <tbody>\n",
       "    <tr>\n",
       "      <th>0</th>\n",
       "      <td>5efa38849db4a6342ef5b134</td>\n",
       "      <td>[Starbucks]</td>\n",
       "      <td>37.796647</td>\n",
       "      <td>-122.394850</td>\n",
       "      <td>{'type': 'Point', 'coordinates': [-122.39485, ...</td>\n",
       "    </tr>\n",
       "    <tr>\n",
       "      <th>1</th>\n",
       "      <td>5efa38849db4a6342ef5b135</td>\n",
       "      <td>[Starbucks]</td>\n",
       "      <td>37.784124</td>\n",
       "      <td>-122.407653</td>\n",
       "      <td>{'type': 'Point', 'coordinates': [-122.407653,...</td>\n",
       "    </tr>\n",
       "    <tr>\n",
       "      <th>2</th>\n",
       "      <td>5efa38849db4a6342ef5b136</td>\n",
       "      <td>[Starbucks]</td>\n",
       "      <td>37.789146</td>\n",
       "      <td>-122.408456</td>\n",
       "      <td>{'type': 'Point', 'coordinates': [-122.408456,...</td>\n",
       "    </tr>\n",
       "    <tr>\n",
       "      <th>3</th>\n",
       "      <td>5efa38849db4a6342ef5b137</td>\n",
       "      <td>[Starbucks]</td>\n",
       "      <td>37.786261</td>\n",
       "      <td>-122.453194</td>\n",
       "      <td>{'type': 'Point', 'coordinates': [-122.453194,...</td>\n",
       "    </tr>\n",
       "    <tr>\n",
       "      <th>4</th>\n",
       "      <td>5efa38849db4a6342ef5b138</td>\n",
       "      <td>[Starbucks]</td>\n",
       "      <td>37.784855</td>\n",
       "      <td>-122.399996</td>\n",
       "      <td>{'type': 'Point', 'coordinates': [-122.3999959...</td>\n",
       "    </tr>\n",
       "  </tbody>\n",
       "</table>\n",
       "</div>"
      ],
      "text/plain": [
       "                        _id         name   latitude   longitude  \\\n",
       "0  5efa38849db4a6342ef5b134  [Starbucks]  37.796647 -122.394850   \n",
       "1  5efa38849db4a6342ef5b135  [Starbucks]  37.784124 -122.407653   \n",
       "2  5efa38849db4a6342ef5b136  [Starbucks]  37.789146 -122.408456   \n",
       "3  5efa38849db4a6342ef5b137  [Starbucks]  37.786261 -122.453194   \n",
       "4  5efa38849db4a6342ef5b138  [Starbucks]  37.784855 -122.399996   \n",
       "\n",
       "                                            geopoint  \n",
       "0  {'type': 'Point', 'coordinates': [-122.39485, ...  \n",
       "1  {'type': 'Point', 'coordinates': [-122.407653,...  \n",
       "2  {'type': 'Point', 'coordinates': [-122.408456,...  \n",
       "3  {'type': 'Point', 'coordinates': [-122.453194,...  \n",
       "4  {'type': 'Point', 'coordinates': [-122.3999959...  "
      ]
     },
     "execution_count": 16,
     "metadata": {},
     "output_type": "execute_result"
    }
   ],
   "source": [
    "cur =list(db.starbucks_place.find({},{\"name\":1,\"latitude\":1,\"longitude\":1, \"geopoint\":1}))\n",
    "starbucks_location = pd.DataFrame(cur)\n",
    "starbucks_location.head()"
   ]
  },
  {
   "cell_type": "code",
   "execution_count": 17,
   "metadata": {},
   "outputs": [
    {
     "data": {
      "text/html": [
       "<div>\n",
       "<style scoped>\n",
       "    .dataframe tbody tr th:only-of-type {\n",
       "        vertical-align: middle;\n",
       "    }\n",
       "\n",
       "    .dataframe tbody tr th {\n",
       "        vertical-align: top;\n",
       "    }\n",
       "\n",
       "    .dataframe thead th {\n",
       "        text-align: right;\n",
       "    }\n",
       "</style>\n",
       "<table border=\"1\" class=\"dataframe\">\n",
       "  <thead>\n",
       "    <tr style=\"text-align: right;\">\n",
       "      <th></th>\n",
       "      <th>_id</th>\n",
       "      <th>name</th>\n",
       "      <th>latitude</th>\n",
       "      <th>longitude</th>\n",
       "      <th>geopoint</th>\n",
       "    </tr>\n",
       "  </thead>\n",
       "  <tbody>\n",
       "    <tr>\n",
       "      <th>0</th>\n",
       "      <td>5efa38afaf923e76c3898dce</td>\n",
       "      <td>[The Flying Falafel]</td>\n",
       "      <td>37.781266</td>\n",
       "      <td>-122.411230</td>\n",
       "      <td>{'type': 'Point', 'coordinates': [-122.4112304...</td>\n",
       "    </tr>\n",
       "    <tr>\n",
       "      <th>1</th>\n",
       "      <td>5efa38afaf923e76c3898dcf</td>\n",
       "      <td>[Golden Era]</td>\n",
       "      <td>37.781318</td>\n",
       "      <td>-122.416697</td>\n",
       "      <td>{'type': 'Point', 'coordinates': [-122.4166966...</td>\n",
       "    </tr>\n",
       "    <tr>\n",
       "      <th>2</th>\n",
       "      <td>5efa38afaf923e76c3898dd0</td>\n",
       "      <td>[Indochine Vegan]</td>\n",
       "      <td>37.764626</td>\n",
       "      <td>-122.422160</td>\n",
       "      <td>{'type': 'Point', 'coordinates': [-122.4221595...</td>\n",
       "    </tr>\n",
       "    <tr>\n",
       "      <th>3</th>\n",
       "      <td>5efa38afaf923e76c3898dd1</td>\n",
       "      <td>[Ananda Fuara]</td>\n",
       "      <td>37.777875</td>\n",
       "      <td>-122.416294</td>\n",
       "      <td>{'type': 'Point', 'coordinates': [-122.416294,...</td>\n",
       "    </tr>\n",
       "    <tr>\n",
       "      <th>4</th>\n",
       "      <td>5efa38afaf923e76c3898dd2</td>\n",
       "      <td>[Loving Hut]</td>\n",
       "      <td>37.784307</td>\n",
       "      <td>-122.406012</td>\n",
       "      <td>{'type': 'Point', 'coordinates': [-122.406012,...</td>\n",
       "    </tr>\n",
       "  </tbody>\n",
       "</table>\n",
       "</div>"
      ],
      "text/plain": [
       "                        _id                  name   latitude   longitude  \\\n",
       "0  5efa38afaf923e76c3898dce  [The Flying Falafel]  37.781266 -122.411230   \n",
       "1  5efa38afaf923e76c3898dcf          [Golden Era]  37.781318 -122.416697   \n",
       "2  5efa38afaf923e76c3898dd0     [Indochine Vegan]  37.764626 -122.422160   \n",
       "3  5efa38afaf923e76c3898dd1        [Ananda Fuara]  37.777875 -122.416294   \n",
       "4  5efa38afaf923e76c3898dd2          [Loving Hut]  37.784307 -122.406012   \n",
       "\n",
       "                                            geopoint  \n",
       "0  {'type': 'Point', 'coordinates': [-122.4112304...  \n",
       "1  {'type': 'Point', 'coordinates': [-122.4166966...  \n",
       "2  {'type': 'Point', 'coordinates': [-122.4221595...  \n",
       "3  {'type': 'Point', 'coordinates': [-122.416294,...  \n",
       "4  {'type': 'Point', 'coordinates': [-122.406012,...  "
      ]
     },
     "execution_count": 17,
     "metadata": {},
     "output_type": "execute_result"
    }
   ],
   "source": [
    "cur =list(db.vegan.find({},{\"name\":1,\"latitude\":1,\"longitude\":1, \"geopoint\":1}))\n",
    "vegan_location = pd.DataFrame(cur)\n",
    "vegan_location.head()"
   ]
  },
  {
   "cell_type": "code",
   "execution_count": 18,
   "metadata": {},
   "outputs": [
    {
     "data": {
      "text/html": [
       "<div>\n",
       "<style scoped>\n",
       "    .dataframe tbody tr th:only-of-type {\n",
       "        vertical-align: middle;\n",
       "    }\n",
       "\n",
       "    .dataframe tbody tr th {\n",
       "        vertical-align: top;\n",
       "    }\n",
       "\n",
       "    .dataframe thead th {\n",
       "        text-align: right;\n",
       "    }\n",
       "</style>\n",
       "<table border=\"1\" class=\"dataframe\">\n",
       "  <thead>\n",
       "    <tr style=\"text-align: right;\">\n",
       "      <th></th>\n",
       "      <th>_id</th>\n",
       "      <th>name</th>\n",
       "      <th>latitude</th>\n",
       "      <th>longitude</th>\n",
       "      <th>geopoint</th>\n",
       "    </tr>\n",
       "  </thead>\n",
       "  <tbody>\n",
       "    <tr>\n",
       "      <th>0</th>\n",
       "      <td>5efa389ffe122b1cba544978</td>\n",
       "      <td>[VCA San Francisco Veterinary Specialists]</td>\n",
       "      <td>37.761480</td>\n",
       "      <td>-122.412279</td>\n",
       "      <td>{'type': 'Point', 'coordinates': [-122.4122788...</td>\n",
       "    </tr>\n",
       "    <tr>\n",
       "      <th>1</th>\n",
       "      <td>5efa389ffe122b1cba544979</td>\n",
       "      <td>[San Francisco SPCA Veterinary Hospital Pacifi...</td>\n",
       "      <td>37.791284</td>\n",
       "      <td>-122.434625</td>\n",
       "      <td>{'type': 'Point', 'coordinates': [-122.434625,...</td>\n",
       "    </tr>\n",
       "    <tr>\n",
       "      <th>2</th>\n",
       "      <td>5efa389ffe122b1cba54497a</td>\n",
       "      <td>[Ocean Avenue Veterinary Hospital]</td>\n",
       "      <td>37.723144</td>\n",
       "      <td>-122.453253</td>\n",
       "      <td>{'type': 'Point', 'coordinates': [-122.4532528...</td>\n",
       "    </tr>\n",
       "    <tr>\n",
       "      <th>3</th>\n",
       "      <td>5efa389ffe122b1cba54497b</td>\n",
       "      <td>[Park Animal Hospital]</td>\n",
       "      <td>37.765639</td>\n",
       "      <td>-122.466607</td>\n",
       "      <td>{'type': 'Point', 'coordinates': [-122.466607,...</td>\n",
       "    </tr>\n",
       "    <tr>\n",
       "      <th>4</th>\n",
       "      <td>5efa389ffe122b1cba54497c</td>\n",
       "      <td>[San Francisco Pet Hospital]</td>\n",
       "      <td>37.776581</td>\n",
       "      <td>-122.439369</td>\n",
       "      <td>{'type': 'Point', 'coordinates': [-122.4393694...</td>\n",
       "    </tr>\n",
       "  </tbody>\n",
       "</table>\n",
       "</div>"
      ],
      "text/plain": [
       "                        _id  \\\n",
       "0  5efa389ffe122b1cba544978   \n",
       "1  5efa389ffe122b1cba544979   \n",
       "2  5efa389ffe122b1cba54497a   \n",
       "3  5efa389ffe122b1cba54497b   \n",
       "4  5efa389ffe122b1cba54497c   \n",
       "\n",
       "                                                name   latitude   longitude  \\\n",
       "0         [VCA San Francisco Veterinary Specialists]  37.761480 -122.412279   \n",
       "1  [San Francisco SPCA Veterinary Hospital Pacifi...  37.791284 -122.434625   \n",
       "2                 [Ocean Avenue Veterinary Hospital]  37.723144 -122.453253   \n",
       "3                             [Park Animal Hospital]  37.765639 -122.466607   \n",
       "4                       [San Francisco Pet Hospital]  37.776581 -122.439369   \n",
       "\n",
       "                                            geopoint  \n",
       "0  {'type': 'Point', 'coordinates': [-122.4122788...  \n",
       "1  {'type': 'Point', 'coordinates': [-122.434625,...  \n",
       "2  {'type': 'Point', 'coordinates': [-122.4532528...  \n",
       "3  {'type': 'Point', 'coordinates': [-122.466607,...  \n",
       "4  {'type': 'Point', 'coordinates': [-122.4393694...  "
      ]
     },
     "execution_count": 18,
     "metadata": {},
     "output_type": "execute_result"
    }
   ],
   "source": [
    "cur =list(db.veterinary_place.find({},{\"name\":1,\"latitude\":1,\"longitude\":1, \"geopoint\":1}))\n",
    "veterinary_location = pd.DataFrame(cur)\n",
    "veterinary_location.head()"
   ]
  },
  {
   "cell_type": "code",
   "execution_count": 19,
   "metadata": {},
   "outputs": [],
   "source": [
    "## QEURY"
   ]
  },
  {
   "cell_type": "code",
   "execution_count": 20,
   "metadata": {},
   "outputs": [],
   "source": [
    "\"\"\"\n",
    "def geocode(address):\n",
    "    res = requests.get(f\"https://geocode.xyz/{address}\", params={\"json\":1})\n",
    "    data = res.json()\n",
    "    return {\n",
    "        \"type\":\"Point\",\n",
    "        \"coordinates\":[float(data[\"longt\"]),float(data[\"latt\"])]\n",
    "    }\n",
    "\"\"\"    "
   ]
  },
  {
   "cell_type": "code",
   "execution_count": 21,
   "metadata": {},
   "outputs": [],
   "source": [
    "\"\"\"\n",
    "def geoQueryNear(point,radius=10000):\n",
    "    return {\n",
    "        \"geopoint\":{\n",
    "            \"$near\": {\n",
    "                \"$geometry\": point,\n",
    "                \"$maxDistance\": radius,\n",
    "                \"$minDistance\": 0\n",
    "            }\n",
    "        }\n",
    "    }\n",
    "\"\"\"    "
   ]
  },
  {
   "cell_type": "code",
   "execution_count": 98,
   "metadata": {},
   "outputs": [
    {
     "data": {
      "text/plain": [
       "[]"
      ]
     },
     "execution_count": 98,
     "metadata": {},
     "output_type": "execute_result"
    }
   ],
   "source": [
    "starbucks = []\n",
    "for i in range(len(starbucks_location)):\n",
    "    q = db.chosen_offices.find(geoQueryNear(starbucks_location.iloc[i].geopoint, radius=500),{\"_id\":0,\"company_id\":0})\n",
    "    near_offices = list(q)\n",
    "    starbucks.append(near_offices)\n",
    "starbucks[0]\n"
   ]
  },
  {
   "cell_type": "markdown",
   "metadata": {},
   "source": [
    "> The list needs to be flatten in order to convert it into a dataframe"
   ]
  },
  {
   "cell_type": "code",
   "execution_count": 162,
   "metadata": {},
   "outputs": [
    {
     "data": {
      "text/plain": [
       "Curse         2\n",
       "Kongregate    2\n",
       "Name: name, dtype: int64"
      ]
     },
     "execution_count": 162,
     "metadata": {},
     "output_type": "execute_result"
    }
   ],
   "source": [
    "starbucks_close = [data for enterprise in starbucks for data in enterprise]\n",
    "starbucks_close = pd.DataFrame(starbucks_close)\n",
    "starbucks_close[\"name\"].value_counts()"
   ]
  },
  {
   "cell_type": "code",
   "execution_count": 95,
   "metadata": {},
   "outputs": [
    {
     "data": {
      "text/plain": [
       "[{'name': 'Curse',\n",
       "  'category_code': 'games_video',\n",
       "  'total_money_raised': '$12M',\n",
       "  'address1': '60 Broadway',\n",
       "  'city': 'San Francisco',\n",
       "  'state_code': 'CA',\n",
       "  'country_code': 'USA',\n",
       "  'latitude': 37.787092,\n",
       "  'longitude': -122.399972,\n",
       "  'geopoint': {'type': 'Point', 'coordinates': [-122.399972, 37.787092]}},\n",
       " {'name': 'Kongregate',\n",
       "  'category_code': 'games_video',\n",
       "  'total_money_raised': '$19M',\n",
       "  'address1': '2 Shaw Alley',\n",
       "  'city': 'San Francisco',\n",
       "  'state_code': 'CA',\n",
       "  'country_code': 'USA',\n",
       "  'latitude': 37.786942,\n",
       "  'longitude': -122.401245,\n",
       "  'geopoint': {'type': 'Point', 'coordinates': [-122.401245, 37.786942]}},\n",
       " {'name': 'Zynga',\n",
       "  'category_code': 'games_video',\n",
       "  'total_money_raised': '$860M',\n",
       "  'address1': '365 Vermont St.',\n",
       "  'city': 'San Francisco',\n",
       "  'state_code': 'CA',\n",
       "  'country_code': 'USA',\n",
       "  'latitude': 37.765158,\n",
       "  'longitude': -122.404234,\n",
       "  'geopoint': {'type': 'Point', 'coordinates': [-122.404234, 37.765158]}}]"
      ]
     },
     "execution_count": 95,
     "metadata": {},
     "output_type": "execute_result"
    }
   ],
   "source": [
    "nightclubs = []\n",
    "for i in range(len(nightclubs_location)):\n",
    "    q = db.chosen_offices.find(geoQueryNear(nightclubs_location.iloc[i].geopoint, radius=3000),{\"_id\":0,\"company_id\":0})\n",
    "    near_offices = list(q)\n",
    "    nightclubs.append(near_offices)\n",
    "nightclubs[0]"
   ]
  },
  {
   "cell_type": "code",
   "execution_count": 161,
   "metadata": {},
   "outputs": [
    {
     "data": {
      "text/plain": [
       "Zynga         18\n",
       "Kongregate    16\n",
       "Curse         16\n",
       "Name: name, dtype: int64"
      ]
     },
     "execution_count": 161,
     "metadata": {},
     "output_type": "execute_result"
    }
   ],
   "source": [
    "nightclubs_close = [data for enterprise in nightclubs for data in enterprise]\n",
    "nightclubs_close = pd.DataFrame(nightclubs_close)\n",
    "nightclubs_close[\"name\"].value_counts()"
   ]
  },
  {
   "cell_type": "code",
   "execution_count": 87,
   "metadata": {},
   "outputs": [
    {
     "data": {
      "text/plain": [
       "[{'name': 'Kongregate',\n",
       "  'category_code': 'games_video',\n",
       "  'total_money_raised': '$19M',\n",
       "  'address1': '2 Shaw Alley',\n",
       "  'city': 'San Francisco',\n",
       "  'state_code': 'CA',\n",
       "  'country_code': 'USA',\n",
       "  'latitude': 37.786942,\n",
       "  'longitude': -122.401245,\n",
       "  'geopoint': {'type': 'Point', 'coordinates': [-122.401245, 37.786942]}},\n",
       " {'name': 'Curse',\n",
       "  'category_code': 'games_video',\n",
       "  'total_money_raised': '$12M',\n",
       "  'address1': '60 Broadway',\n",
       "  'city': 'San Francisco',\n",
       "  'state_code': 'CA',\n",
       "  'country_code': 'USA',\n",
       "  'latitude': 37.787092,\n",
       "  'longitude': -122.399972,\n",
       "  'geopoint': {'type': 'Point', 'coordinates': [-122.399972, 37.787092]}}]"
      ]
     },
     "execution_count": 87,
     "metadata": {},
     "output_type": "execute_result"
    }
   ],
   "source": [
    "vegan = []\n",
    "for i in range(len(vegan_location)):\n",
    "    q = db.chosen_offices.find(geoQueryNear(vegan_location.iloc[i].geopoint, radius=1500),{\"_id\":0,\"company_id\":0})\n",
    "    near_offices = list(q)\n",
    "    vegan.append(near_offices)\n",
    "vegan[0]"
   ]
  },
  {
   "cell_type": "code",
   "execution_count": 160,
   "metadata": {},
   "outputs": [
    {
     "data": {
      "text/plain": [
       "Kongregate    5\n",
       "Curse         3\n",
       "Zynga         2\n",
       "Name: name, dtype: int64"
      ]
     },
     "execution_count": 160,
     "metadata": {},
     "output_type": "execute_result"
    }
   ],
   "source": [
    "vegan_close = [data for enterprise in vegan for data in enterprise]\n",
    "vegan_close = pd.DataFrame(vegan_close)\n",
    "vegan_close.head()\n",
    "vegan_close[\"name\"].value_counts()"
   ]
  },
  {
   "cell_type": "code",
   "execution_count": 118,
   "metadata": {
    "scrolled": true
   },
   "outputs": [
    {
     "data": {
      "text/plain": [
       "[{'name': 'Zynga',\n",
       "  'category_code': 'games_video',\n",
       "  'total_money_raised': '$860M',\n",
       "  'address1': '365 Vermont St.',\n",
       "  'city': 'San Francisco',\n",
       "  'state_code': 'CA',\n",
       "  'country_code': 'USA',\n",
       "  'latitude': 37.765158,\n",
       "  'longitude': -122.404234,\n",
       "  'geopoint': {'type': 'Point', 'coordinates': [-122.404234, 37.765158]}},\n",
       " {'name': 'Kongregate',\n",
       "  'category_code': 'games_video',\n",
       "  'total_money_raised': '$19M',\n",
       "  'address1': '2 Shaw Alley',\n",
       "  'city': 'San Francisco',\n",
       "  'state_code': 'CA',\n",
       "  'country_code': 'USA',\n",
       "  'latitude': 37.786942,\n",
       "  'longitude': -122.401245,\n",
       "  'geopoint': {'type': 'Point', 'coordinates': [-122.401245, 37.786942]}},\n",
       " {'name': 'Curse',\n",
       "  'category_code': 'games_video',\n",
       "  'total_money_raised': '$12M',\n",
       "  'address1': '60 Broadway',\n",
       "  'city': 'San Francisco',\n",
       "  'state_code': 'CA',\n",
       "  'country_code': 'USA',\n",
       "  'latitude': 37.787092,\n",
       "  'longitude': -122.399972,\n",
       "  'geopoint': {'type': 'Point', 'coordinates': [-122.399972, 37.787092]}}]"
      ]
     },
     "execution_count": 118,
     "metadata": {},
     "output_type": "execute_result"
    }
   ],
   "source": [
    "veterinary = []\n",
    "for i in range(len(veterinary_location)):\n",
    "    q = db.chosen_offices.find(geoQueryNear(veterinary_location.iloc[i].geopoint, radius=5000),{\"_id\":0,\"company_id\":0})\n",
    "    near_offices = list(q)\n",
    "    veterinary.append(near_offices)\n",
    "veterinary[0]"
   ]
  },
  {
   "cell_type": "code",
   "execution_count": 159,
   "metadata": {},
   "outputs": [
    {
     "data": {
      "text/plain": [
       "Zynga         12\n",
       "Kongregate    11\n",
       "Curse         11\n",
       "Name: name, dtype: int64"
      ]
     },
     "execution_count": 159,
     "metadata": {},
     "output_type": "execute_result"
    }
   ],
   "source": [
    "veterinary_close = [data for enterprise in veterinary for data in enterprise]\n",
    "veterinary_close = pd.DataFrame(veterinary_close)\n",
    "veterinary_close[\"name\"].value_counts()"
   ]
  },
  {
   "cell_type": "code",
   "execution_count": null,
   "metadata": {},
   "outputs": [],
   "source": [
    "## FOLIUM\n",
    "    \n"
   ]
  },
  {
   "cell_type": "code",
   "execution_count": 116,
   "metadata": {},
   "outputs": [
    {
     "name": "stdout",
     "output_type": "stream",
     "text": [
      "Requirement already satisfied: folium in /Library/Frameworks/Python.framework/Versions/3.8/lib/python3.8/site-packages (0.11.0)\n",
      "Requirement already satisfied: requests in /Library/Frameworks/Python.framework/Versions/3.8/lib/python3.8/site-packages (from folium) (2.24.0)\n",
      "Requirement already satisfied: branca>=0.3.0 in /Library/Frameworks/Python.framework/Versions/3.8/lib/python3.8/site-packages (from folium) (0.4.1)\n",
      "Requirement already satisfied: jinja2>=2.9 in /Library/Frameworks/Python.framework/Versions/3.8/lib/python3.8/site-packages (from folium) (2.11.2)\n",
      "Requirement already satisfied: numpy in /Library/Frameworks/Python.framework/Versions/3.8/lib/python3.8/site-packages (from folium) (1.19.0)\n",
      "Requirement already satisfied: idna<3,>=2.5 in /Library/Frameworks/Python.framework/Versions/3.8/lib/python3.8/site-packages (from requests->folium) (2.9)\n",
      "Requirement already satisfied: urllib3!=1.25.0,!=1.25.1,<1.26,>=1.21.1 in /Library/Frameworks/Python.framework/Versions/3.8/lib/python3.8/site-packages (from requests->folium) (1.25.9)\n",
      "Requirement already satisfied: certifi>=2017.4.17 in /Library/Frameworks/Python.framework/Versions/3.8/lib/python3.8/site-packages (from requests->folium) (2020.6.20)\n",
      "Requirement already satisfied: chardet<4,>=3.0.2 in /Library/Frameworks/Python.framework/Versions/3.8/lib/python3.8/site-packages (from requests->folium) (3.0.4)\n",
      "Requirement already satisfied: MarkupSafe>=0.23 in /Library/Frameworks/Python.framework/Versions/3.8/lib/python3.8/site-packages (from jinja2>=2.9->folium) (1.1.1)\n"
     ]
    }
   ],
   "source": [
    "!pip3 install folium"
   ]
  },
  {
   "cell_type": "code",
   "execution_count": 121,
   "metadata": {},
   "outputs": [],
   "source": [
    "from folium import Map, Marker, Icon, FeatureGroup, LayerControl, Choropleth\n",
    "from folium.plugins import HeatMap\n",
    "import pandas as pd"
   ]
  },
  {
   "cell_type": "code",
   "execution_count": 176,
   "metadata": {},
   "outputs": [
    {
     "data": {
      "text/html": [
       "<div style=\"width:100%;\"><div style=\"position:relative;width:100%;height:0;padding-bottom:60%;\"><span style=\"color:#565656\">Make this Notebook Trusted to load map: File -> Trust Notebook</span><iframe src=\"about:blank\" style=\"position:absolute;width:100%;height:100%;left:0;top:0;border:none !important;\" data-html=PCFET0NUWVBFIGh0bWw+CjxoZWFkPiAgICAKICAgIDxtZXRhIGh0dHAtZXF1aXY9ImNvbnRlbnQtdHlwZSIgY29udGVudD0idGV4dC9odG1sOyBjaGFyc2V0PVVURi04IiAvPgogICAgCiAgICAgICAgPHNjcmlwdD4KICAgICAgICAgICAgTF9OT19UT1VDSCA9IGZhbHNlOwogICAgICAgICAgICBMX0RJU0FCTEVfM0QgPSBmYWxzZTsKICAgICAgICA8L3NjcmlwdD4KICAgIAogICAgPHNjcmlwdCBzcmM9Imh0dHBzOi8vY2RuLmpzZGVsaXZyLm5ldC9ucG0vbGVhZmxldEAxLjYuMC9kaXN0L2xlYWZsZXQuanMiPjwvc2NyaXB0PgogICAgPHNjcmlwdCBzcmM9Imh0dHBzOi8vY29kZS5qcXVlcnkuY29tL2pxdWVyeS0xLjEyLjQubWluLmpzIj48L3NjcmlwdD4KICAgIDxzY3JpcHQgc3JjPSJodHRwczovL21heGNkbi5ib290c3RyYXBjZG4uY29tL2Jvb3RzdHJhcC8zLjIuMC9qcy9ib290c3RyYXAubWluLmpzIj48L3NjcmlwdD4KICAgIDxzY3JpcHQgc3JjPSJodHRwczovL2NkbmpzLmNsb3VkZmxhcmUuY29tL2FqYXgvbGlicy9MZWFmbGV0LmF3ZXNvbWUtbWFya2Vycy8yLjAuMi9sZWFmbGV0LmF3ZXNvbWUtbWFya2Vycy5qcyI+PC9zY3JpcHQ+CiAgICA8bGluayByZWw9InN0eWxlc2hlZXQiIGhyZWY9Imh0dHBzOi8vY2RuLmpzZGVsaXZyLm5ldC9ucG0vbGVhZmxldEAxLjYuMC9kaXN0L2xlYWZsZXQuY3NzIi8+CiAgICA8bGluayByZWw9InN0eWxlc2hlZXQiIGhyZWY9Imh0dHBzOi8vbWF4Y2RuLmJvb3RzdHJhcGNkbi5jb20vYm9vdHN0cmFwLzMuMi4wL2Nzcy9ib290c3RyYXAubWluLmNzcyIvPgogICAgPGxpbmsgcmVsPSJzdHlsZXNoZWV0IiBocmVmPSJodHRwczovL21heGNkbi5ib290c3RyYXBjZG4uY29tL2Jvb3RzdHJhcC8zLjIuMC9jc3MvYm9vdHN0cmFwLXRoZW1lLm1pbi5jc3MiLz4KICAgIDxsaW5rIHJlbD0ic3R5bGVzaGVldCIgaHJlZj0iaHR0cHM6Ly9tYXhjZG4uYm9vdHN0cmFwY2RuLmNvbS9mb250LWF3ZXNvbWUvNC42LjMvY3NzL2ZvbnQtYXdlc29tZS5taW4uY3NzIi8+CiAgICA8bGluayByZWw9InN0eWxlc2hlZXQiIGhyZWY9Imh0dHBzOi8vY2RuanMuY2xvdWRmbGFyZS5jb20vYWpheC9saWJzL0xlYWZsZXQuYXdlc29tZS1tYXJrZXJzLzIuMC4yL2xlYWZsZXQuYXdlc29tZS1tYXJrZXJzLmNzcyIvPgogICAgPGxpbmsgcmVsPSJzdHlsZXNoZWV0IiBocmVmPSJodHRwczovL3Jhd2Nkbi5naXRoYWNrLmNvbS9weXRob24tdmlzdWFsaXphdGlvbi9mb2xpdW0vbWFzdGVyL2ZvbGl1bS90ZW1wbGF0ZXMvbGVhZmxldC5hd2Vzb21lLnJvdGF0ZS5jc3MiLz4KICAgIDxzdHlsZT5odG1sLCBib2R5IHt3aWR0aDogMTAwJTtoZWlnaHQ6IDEwMCU7bWFyZ2luOiAwO3BhZGRpbmc6IDA7fTwvc3R5bGU+CiAgICA8c3R5bGU+I21hcCB7cG9zaXRpb246YWJzb2x1dGU7dG9wOjA7Ym90dG9tOjA7cmlnaHQ6MDtsZWZ0OjA7fTwvc3R5bGU+CiAgICAKICAgICAgICAgICAgPG1ldGEgbmFtZT0idmlld3BvcnQiIGNvbnRlbnQ9IndpZHRoPWRldmljZS13aWR0aCwKICAgICAgICAgICAgICAgIGluaXRpYWwtc2NhbGU9MS4wLCBtYXhpbXVtLXNjYWxlPTEuMCwgdXNlci1zY2FsYWJsZT1ubyIgLz4KICAgICAgICAgICAgPHN0eWxlPgogICAgICAgICAgICAgICAgI21hcF9mNTJkYjMxZWU3Nzg0ZmQzODhmMjBmZjkyNGJjNDgxOCB7CiAgICAgICAgICAgICAgICAgICAgcG9zaXRpb246IHJlbGF0aXZlOwogICAgICAgICAgICAgICAgICAgIHdpZHRoOiAxMDAuMCU7CiAgICAgICAgICAgICAgICAgICAgaGVpZ2h0OiAxMDAuMCU7CiAgICAgICAgICAgICAgICAgICAgbGVmdDogMC4wJTsKICAgICAgICAgICAgICAgICAgICB0b3A6IDAuMCU7CiAgICAgICAgICAgICAgICB9CiAgICAgICAgICAgIDwvc3R5bGU+CiAgICAgICAgCjwvaGVhZD4KPGJvZHk+ICAgIAogICAgCiAgICAgICAgICAgIDxkaXYgY2xhc3M9ImZvbGl1bS1tYXAiIGlkPSJtYXBfZjUyZGIzMWVlNzc4NGZkMzg4ZjIwZmY5MjRiYzQ4MTgiID48L2Rpdj4KICAgICAgICAKPC9ib2R5Pgo8c2NyaXB0PiAgICAKICAgIAogICAgICAgICAgICB2YXIgbWFwX2Y1MmRiMzFlZTc3ODRmZDM4OGYyMGZmOTI0YmM0ODE4ID0gTC5tYXAoCiAgICAgICAgICAgICAgICAibWFwX2Y1MmRiMzFlZTc3ODRmZDM4OGYyMGZmOTI0YmM0ODE4IiwKICAgICAgICAgICAgICAgIHsKICAgICAgICAgICAgICAgICAgICBjZW50ZXI6IFszNy43ODcwOTIsIC0xMjIuMzk5OTcyXSwKICAgICAgICAgICAgICAgICAgICBjcnM6IEwuQ1JTLkVQU0czODU3LAogICAgICAgICAgICAgICAgICAgIHpvb206IDMsCiAgICAgICAgICAgICAgICAgICAgem9vbUNvbnRyb2w6IHRydWUsCiAgICAgICAgICAgICAgICAgICAgcHJlZmVyQ2FudmFzOiBmYWxzZSwKICAgICAgICAgICAgICAgIH0KICAgICAgICAgICAgKTsKCiAgICAgICAgICAgIAoKICAgICAgICAKICAgIAogICAgICAgICAgICB2YXIgdGlsZV9sYXllcl8zZmFiYzIxZTVkOTc0ZGQ1YjA5ZGU0ZjU1OWI4MmFlMSA9IEwudGlsZUxheWVyKAogICAgICAgICAgICAgICAgImh0dHBzOi8ve3N9LnRpbGUub3BlbnN0cmVldG1hcC5vcmcve3p9L3t4fS97eX0ucG5nIiwKICAgICAgICAgICAgICAgIHsiYXR0cmlidXRpb24iOiAiRGF0YSBieSBcdTAwMjZjb3B5OyBcdTAwM2NhIGhyZWY9XCJodHRwOi8vb3BlbnN0cmVldG1hcC5vcmdcIlx1MDAzZU9wZW5TdHJlZXRNYXBcdTAwM2MvYVx1MDAzZSwgdW5kZXIgXHUwMDNjYSBocmVmPVwiaHR0cDovL3d3dy5vcGVuc3RyZWV0bWFwLm9yZy9jb3B5cmlnaHRcIlx1MDAzZU9EYkxcdTAwM2MvYVx1MDAzZS4iLCAiZGV0ZWN0UmV0aW5hIjogZmFsc2UsICJtYXhOYXRpdmVab29tIjogMTgsICJtYXhab29tIjogMTgsICJtaW5ab29tIjogMCwgIm5vV3JhcCI6IGZhbHNlLCAib3BhY2l0eSI6IDEsICJzdWJkb21haW5zIjogImFiYyIsICJ0bXMiOiBmYWxzZX0KICAgICAgICAgICAgKS5hZGRUbyhtYXBfZjUyZGIzMWVlNzc4NGZkMzg4ZjIwZmY5MjRiYzQ4MTgpOwogICAgICAgIAogICAgCiAgICAgICAgICAgIHZhciBtYXJrZXJfZTk3ODE3OTQ2OGU1NGIzM2IwMjk5YWE5ZGZiNDhkNDIgPSBMLm1hcmtlcigKICAgICAgICAgICAgICAgIFszNy43ODcwOTIsIC0xMjIuMzk5OTcyXSwKICAgICAgICAgICAgICAgIHt9CiAgICAgICAgICAgICkuYWRkVG8obWFwX2Y1MmRiMzFlZTc3ODRmZDM4OGYyMGZmOTI0YmM0ODE4KTsKICAgICAgICAKICAgIAogICAgICAgICAgICB2YXIgaWNvbl9iMGU1Y2ZjNjNjMTU0ODkzOTBlNjE2ZTMyYzNmMWI4YSA9IEwuQXdlc29tZU1hcmtlcnMuaWNvbigKICAgICAgICAgICAgICAgIHsiZXh0cmFDbGFzc2VzIjogImZhLXJvdGF0ZS0wIiwgImljb24iOiAiZm9vZCIsICJpY29uQ29sb3IiOiAid2hpdGUiLCAibWFya2VyQ29sb3IiOiAiYmx1ZSIsICJwcmVmaXgiOiAiZmEifQogICAgICAgICAgICApOwogICAgICAgICAgICBtYXJrZXJfZTk3ODE3OTQ2OGU1NGIzM2IwMjk5YWE5ZGZiNDhkNDIuc2V0SWNvbihpY29uX2IwZTVjZmM2M2MxNTQ4OTM5MGU2MTZlMzJjM2YxYjhhKTsKICAgICAgICAKICAgIAogICAgICAgICAgICB2YXIgbWFya2VyXzZkZWI4OTcwZjY0MjQyZjViM2IxOGQyZDNkYmE0OGViID0gTC5tYXJrZXIoCiAgICAgICAgICAgICAgICBbMzcuNzg2OTQyLCAtMTIyLjQwMTI0NV0sCiAgICAgICAgICAgICAgICB7fQogICAgICAgICAgICApLmFkZFRvKG1hcF9mNTJkYjMxZWU3Nzg0ZmQzODhmMjBmZjkyNGJjNDgxOCk7CiAgICAgICAgCiAgICAKICAgICAgICAgICAgdmFyIGljb25fNDVjYTkzMTg3MTA1NGEzNWI4YjYzODhmZDAxMzMyYTggPSBMLkF3ZXNvbWVNYXJrZXJzLmljb24oCiAgICAgICAgICAgICAgICB7ImV4dHJhQ2xhc3NlcyI6ICJmYS1yb3RhdGUtMCIsICJpY29uIjogImZvb2QiLCAiaWNvbkNvbG9yIjogIndoaXRlIiwgIm1hcmtlckNvbG9yIjogImJsdWUiLCAicHJlZml4IjogImZhIn0KICAgICAgICAgICAgKTsKICAgICAgICAgICAgbWFya2VyXzZkZWI4OTcwZjY0MjQyZjViM2IxOGQyZDNkYmE0OGViLnNldEljb24oaWNvbl80NWNhOTMxODcxMDU0YTM1YjhiNjM4OGZkMDEzMzJhOCk7CiAgICAgICAgCiAgICAKICAgICAgICAgICAgdmFyIG1hcmtlcl81YTJiZDUyZGIyYzM0MmU5YjBmNWNlZGIwNjkwMzhhMyA9IEwubWFya2VyKAogICAgICAgICAgICAgICAgWzM3Ljc2NTE1OCwgLTEyMi40MDQyMzRdLAogICAgICAgICAgICAgICAge30KICAgICAgICAgICAgKS5hZGRUbyhtYXBfZjUyZGIzMWVlNzc4NGZkMzg4ZjIwZmY5MjRiYzQ4MTgpOwogICAgICAgIAogICAgCiAgICAgICAgICAgIHZhciBpY29uX2QwOGQ1ZGJkMDEwMzRlNTY4N2RjZTM1ZTVhNDE1NTVmID0gTC5Bd2Vzb21lTWFya2Vycy5pY29uKAogICAgICAgICAgICAgICAgeyJleHRyYUNsYXNzZXMiOiAiZmEtcm90YXRlLTAiLCAiaWNvbiI6ICJmb29kIiwgImljb25Db2xvciI6ICJ3aGl0ZSIsICJtYXJrZXJDb2xvciI6ICJibHVlIiwgInByZWZpeCI6ICJmYSJ9CiAgICAgICAgICAgICk7CiAgICAgICAgICAgIG1hcmtlcl81YTJiZDUyZGIyYzM0MmU5YjBmNWNlZGIwNjkwMzhhMy5zZXRJY29uKGljb25fZDA4ZDVkYmQwMTAzNGU1Njg3ZGNlMzVlNWE0MTU1NWYpOwogICAgICAgIAogICAgCiAgICAgICAgICAgIHZhciBtYXJrZXJfMWU3MjQyZjM0ZDAxNDY5OGIyMzAxZTVhMTY5ZGNiODEgPSBMLm1hcmtlcigKICAgICAgICAgICAgICAgIFszNy43ODY5NDIsIC0xMjIuNDAxMjQ1XSwKICAgICAgICAgICAgICAgIHt9CiAgICAgICAgICAgICkuYWRkVG8obWFwX2Y1MmRiMzFlZTc3ODRmZDM4OGYyMGZmOTI0YmM0ODE4KTsKICAgICAgICAKICAgIAogICAgICAgICAgICB2YXIgaWNvbl80MDdmM2IwNjQ4ZWI0MmFjOWMwODQ4NTI0NWY2NDQ2NCA9IEwuQXdlc29tZU1hcmtlcnMuaWNvbigKICAgICAgICAgICAgICAgIHsiZXh0cmFDbGFzc2VzIjogImZhLXJvdGF0ZS0wIiwgImljb24iOiAiZm9vZCIsICJpY29uQ29sb3IiOiAid2hpdGUiLCAibWFya2VyQ29sb3IiOiAiYmx1ZSIsICJwcmVmaXgiOiAiZmEifQogICAgICAgICAgICApOwogICAgICAgICAgICBtYXJrZXJfMWU3MjQyZjM0ZDAxNDY5OGIyMzAxZTVhMTY5ZGNiODEuc2V0SWNvbihpY29uXzQwN2YzYjA2NDhlYjQyYWM5YzA4NDg1MjQ1ZjY0NDY0KTsKICAgICAgICAKICAgIAogICAgICAgICAgICB2YXIgbWFya2VyX2JmNDlkNGRkN2Q3YTQ2ZTA4YTc2YTM5ZmJkOWJjNjZmID0gTC5tYXJrZXIoCiAgICAgICAgICAgICAgICBbMzcuNzg3MDkyLCAtMTIyLjM5OTk3Ml0sCiAgICAgICAgICAgICAgICB7fQogICAgICAgICAgICApLmFkZFRvKG1hcF9mNTJkYjMxZWU3Nzg0ZmQzODhmMjBmZjkyNGJjNDgxOCk7CiAgICAgICAgCiAgICAKICAgICAgICAgICAgdmFyIGljb25fMDg5ZTU1MjBhOGYyNDg4NDg5ZTUzYTBhOTY5NGU3NzkgPSBMLkF3ZXNvbWVNYXJrZXJzLmljb24oCiAgICAgICAgICAgICAgICB7ImV4dHJhQ2xhc3NlcyI6ICJmYS1yb3RhdGUtMCIsICJpY29uIjogImZvb2QiLCAiaWNvbkNvbG9yIjogIndoaXRlIiwgIm1hcmtlckNvbG9yIjogImJsdWUiLCAicHJlZml4IjogImZhIn0KICAgICAgICAgICAgKTsKICAgICAgICAgICAgbWFya2VyX2JmNDlkNGRkN2Q3YTQ2ZTA4YTc2YTM5ZmJkOWJjNjZmLnNldEljb24oaWNvbl8wODllNTUyMGE4ZjI0ODg0ODllNTNhMGE5Njk0ZTc3OSk7CiAgICAgICAgCiAgICAKICAgICAgICAgICAgdmFyIG1hcmtlcl9kYmI1YjAyOGQyNzg0ZGJjYWFhNTMxZWRkNzk3ZDY2YyA9IEwubWFya2VyKAogICAgICAgICAgICAgICAgWzM3Ljc2NTE1OCwgLTEyMi40MDQyMzRdLAogICAgICAgICAgICAgICAge30KICAgICAgICAgICAgKS5hZGRUbyhtYXBfZjUyZGIzMWVlNzc4NGZkMzg4ZjIwZmY5MjRiYzQ4MTgpOwogICAgICAgIAogICAgCiAgICAgICAgICAgIHZhciBpY29uXzNjNGE1YzVkZjE5YjRjZmI5ZmNiNDJkNTQ5ZThjMWY4ID0gTC5Bd2Vzb21lTWFya2Vycy5pY29uKAogICAgICAgICAgICAgICAgeyJleHRyYUNsYXNzZXMiOiAiZmEtcm90YXRlLTAiLCAiaWNvbiI6ICJmb29kIiwgImljb25Db2xvciI6ICJ3aGl0ZSIsICJtYXJrZXJDb2xvciI6ICJibHVlIiwgInByZWZpeCI6ICJmYSJ9CiAgICAgICAgICAgICk7CiAgICAgICAgICAgIG1hcmtlcl9kYmI1YjAyOGQyNzg0ZGJjYWFhNTMxZWRkNzk3ZDY2Yy5zZXRJY29uKGljb25fM2M0YTVjNWRmMTliNGNmYjlmY2I0MmQ1NDllOGMxZjgpOwogICAgICAgIAogICAgCiAgICAgICAgICAgIHZhciBtYXJrZXJfMWJkNmVkM2E5MjVlNGY4YTk5MjM4Nzg0NzBmY2M4NWUgPSBMLm1hcmtlcigKICAgICAgICAgICAgICAgIFszNy43ODY5NDIsIC0xMjIuNDAxMjQ1XSwKICAgICAgICAgICAgICAgIHt9CiAgICAgICAgICAgICkuYWRkVG8obWFwX2Y1MmRiMzFlZTc3ODRmZDM4OGYyMGZmOTI0YmM0ODE4KTsKICAgICAgICAKICAgIAogICAgICAgICAgICB2YXIgaWNvbl9hOTI1ZDczYWZhYmQ0ZmRlYjM5ZmNiNWUxZGEwNDExZiA9IEwuQXdlc29tZU1hcmtlcnMuaWNvbigKICAgICAgICAgICAgICAgIHsiZXh0cmFDbGFzc2VzIjogImZhLXJvdGF0ZS0wIiwgImljb24iOiAiZm9vZCIsICJpY29uQ29sb3IiOiAid2hpdGUiLCAibWFya2VyQ29sb3IiOiAiYmx1ZSIsICJwcmVmaXgiOiAiZmEifQogICAgICAgICAgICApOwogICAgICAgICAgICBtYXJrZXJfMWJkNmVkM2E5MjVlNGY4YTk5MjM4Nzg0NzBmY2M4NWUuc2V0SWNvbihpY29uX2E5MjVkNzNhZmFiZDRmZGViMzlmY2I1ZTFkYTA0MTFmKTsKICAgICAgICAKICAgIAogICAgICAgICAgICB2YXIgbWFya2VyX2ZjYWViNGE4ZjM0ZjQ0NjA4NDIzNjNlMDZiNmE1YWFlID0gTC5tYXJrZXIoCiAgICAgICAgICAgICAgICBbMzcuNzg3MDkyLCAtMTIyLjM5OTk3Ml0sCiAgICAgICAgICAgICAgICB7fQogICAgICAgICAgICApLmFkZFRvKG1hcF9mNTJkYjMxZWU3Nzg0ZmQzODhmMjBmZjkyNGJjNDgxOCk7CiAgICAgICAgCiAgICAKICAgICAgICAgICAgdmFyIGljb25fODdiMjNjMzcyMzg3NGFmZTkyZDdkMDFiNGY2ZmRmZjYgPSBMLkF3ZXNvbWVNYXJrZXJzLmljb24oCiAgICAgICAgICAgICAgICB7ImV4dHJhQ2xhc3NlcyI6ICJmYS1yb3RhdGUtMCIsICJpY29uIjogImZvb2QiLCAiaWNvbkNvbG9yIjogIndoaXRlIiwgIm1hcmtlckNvbG9yIjogImJsdWUiLCAicHJlZml4IjogImZhIn0KICAgICAgICAgICAgKTsKICAgICAgICAgICAgbWFya2VyX2ZjYWViNGE4ZjM0ZjQ0NjA4NDIzNjNlMDZiNmE1YWFlLnNldEljb24oaWNvbl84N2IyM2MzNzIzODc0YWZlOTJkN2QwMWI0ZjZmZGZmNik7CiAgICAgICAgCiAgICAKICAgICAgICAgICAgdmFyIG1hcmtlcl80NTk5MTFkODNhYzI0NjBiYWI5Y2YxYjcyOWViY2RhMSA9IEwubWFya2VyKAogICAgICAgICAgICAgICAgWzM3Ljc2NTE1OCwgLTEyMi40MDQyMzRdLAogICAgICAgICAgICAgICAge30KICAgICAgICAgICAgKS5hZGRUbyhtYXBfZjUyZGIzMWVlNzc4NGZkMzg4ZjIwZmY5MjRiYzQ4MTgpOwogICAgICAgIAogICAgCiAgICAgICAgICAgIHZhciBpY29uXzNhNDBlNWMxZTZmNjQwYTU4MDAzNDgxMTFkMGZjZTk5ID0gTC5Bd2Vzb21lTWFya2Vycy5pY29uKAogICAgICAgICAgICAgICAgeyJleHRyYUNsYXNzZXMiOiAiZmEtcm90YXRlLTAiLCAiaWNvbiI6ICJmb29kIiwgImljb25Db2xvciI6ICJ3aGl0ZSIsICJtYXJrZXJDb2xvciI6ICJibHVlIiwgInByZWZpeCI6ICJmYSJ9CiAgICAgICAgICAgICk7CiAgICAgICAgICAgIG1hcmtlcl80NTk5MTFkODNhYzI0NjBiYWI5Y2YxYjcyOWViY2RhMS5zZXRJY29uKGljb25fM2E0MGU1YzFlNmY2NDBhNTgwMDM0ODExMWQwZmNlOTkpOwogICAgICAgIAogICAgCiAgICAgICAgICAgIHZhciBtYXJrZXJfZjdlOWIyMmMyOWQ1NDhhZGJlN2IzNTAxOWUxNjU3NDMgPSBMLm1hcmtlcigKICAgICAgICAgICAgICAgIFszNy43ODY5NDIsIC0xMjIuNDAxMjQ1XSwKICAgICAgICAgICAgICAgIHt9CiAgICAgICAgICAgICkuYWRkVG8obWFwX2Y1MmRiMzFlZTc3ODRmZDM4OGYyMGZmOTI0YmM0ODE4KTsKICAgICAgICAKICAgIAogICAgICAgICAgICB2YXIgaWNvbl84NDg2MDExNWFkMzI0NjVmOTFiNmI5N2M5NzQ4YWYzZSA9IEwuQXdlc29tZU1hcmtlcnMuaWNvbigKICAgICAgICAgICAgICAgIHsiZXh0cmFDbGFzc2VzIjogImZhLXJvdGF0ZS0wIiwgImljb24iOiAiZm9vZCIsICJpY29uQ29sb3IiOiAid2hpdGUiLCAibWFya2VyQ29sb3IiOiAiYmx1ZSIsICJwcmVmaXgiOiAiZmEifQogICAgICAgICAgICApOwogICAgICAgICAgICBtYXJrZXJfZjdlOWIyMmMyOWQ1NDhhZGJlN2IzNTAxOWUxNjU3NDMuc2V0SWNvbihpY29uXzg0ODYwMTE1YWQzMjQ2NWY5MWI2Yjk3Yzk3NDhhZjNlKTsKICAgICAgICAKICAgIAogICAgICAgICAgICB2YXIgbWFya2VyX2Y5MTc2MzExZjQwZjQ3ZjVhMTI3OWE4ZjQ2YzFhY2Q1ID0gTC5tYXJrZXIoCiAgICAgICAgICAgICAgICBbMzcuNzg3MDkyLCAtMTIyLjM5OTk3Ml0sCiAgICAgICAgICAgICAgICB7fQogICAgICAgICAgICApLmFkZFRvKG1hcF9mNTJkYjMxZWU3Nzg0ZmQzODhmMjBmZjkyNGJjNDgxOCk7CiAgICAgICAgCiAgICAKICAgICAgICAgICAgdmFyIGljb25fNGE1MDgxNzRjYzcwNDhmZmIxMzdlODYyYTdiYzA4NDYgPSBMLkF3ZXNvbWVNYXJrZXJzLmljb24oCiAgICAgICAgICAgICAgICB7ImV4dHJhQ2xhc3NlcyI6ICJmYS1yb3RhdGUtMCIsICJpY29uIjogImZvb2QiLCAiaWNvbkNvbG9yIjogIndoaXRlIiwgIm1hcmtlckNvbG9yIjogImJsdWUiLCAicHJlZml4IjogImZhIn0KICAgICAgICAgICAgKTsKICAgICAgICAgICAgbWFya2VyX2Y5MTc2MzExZjQwZjQ3ZjVhMTI3OWE4ZjQ2YzFhY2Q1LnNldEljb24oaWNvbl80YTUwODE3NGNjNzA0OGZmYjEzN2U4NjJhN2JjMDg0Nik7CiAgICAgICAgCiAgICAKICAgICAgICAgICAgdmFyIG1hcmtlcl9lZGE2MmEzMzFhYjA0NTkxOTk5YmZlODU5YTUyYzQzZCA9IEwubWFya2VyKAogICAgICAgICAgICAgICAgWzM3Ljc2NTE1OCwgLTEyMi40MDQyMzRdLAogICAgICAgICAgICAgICAge30KICAgICAgICAgICAgKS5hZGRUbyhtYXBfZjUyZGIzMWVlNzc4NGZkMzg4ZjIwZmY5MjRiYzQ4MTgpOwogICAgICAgIAogICAgCiAgICAgICAgICAgIHZhciBpY29uX2NhOGFjYmFlNWZjYjQ5NWRhZWE5Zjk4MDdiNjQxYjlkID0gTC5Bd2Vzb21lTWFya2Vycy5pY29uKAogICAgICAgICAgICAgICAgeyJleHRyYUNsYXNzZXMiOiAiZmEtcm90YXRlLTAiLCAiaWNvbiI6ICJmb29kIiwgImljb25Db2xvciI6ICJ3aGl0ZSIsICJtYXJrZXJDb2xvciI6ICJibHVlIiwgInByZWZpeCI6ICJmYSJ9CiAgICAgICAgICAgICk7CiAgICAgICAgICAgIG1hcmtlcl9lZGE2MmEzMzFhYjA0NTkxOTk5YmZlODU5YTUyYzQzZC5zZXRJY29uKGljb25fY2E4YWNiYWU1ZmNiNDk1ZGFlYTlmOTgwN2I2NDFiOWQpOwogICAgICAgIAogICAgCiAgICAgICAgICAgIHZhciBtYXJrZXJfYTkzZDEwMDRkMmY4NGY3MGExMTY5ZDQ1ZDA3YmE4MzYgPSBMLm1hcmtlcigKICAgICAgICAgICAgICAgIFszNy43NjUxNTgsIC0xMjIuNDA0MjM0XSwKICAgICAgICAgICAgICAgIHt9CiAgICAgICAgICAgICkuYWRkVG8obWFwX2Y1MmRiMzFlZTc3ODRmZDM4OGYyMGZmOTI0YmM0ODE4KTsKICAgICAgICAKICAgIAogICAgICAgICAgICB2YXIgaWNvbl9mZjM4ZjEwZDZlOTE0ZWY2YTk0MjlkYzgyMTYxZmE1OCA9IEwuQXdlc29tZU1hcmtlcnMuaWNvbigKICAgICAgICAgICAgICAgIHsiZXh0cmFDbGFzc2VzIjogImZhLXJvdGF0ZS0wIiwgImljb24iOiAiZm9vZCIsICJpY29uQ29sb3IiOiAid2hpdGUiLCAibWFya2VyQ29sb3IiOiAiYmx1ZSIsICJwcmVmaXgiOiAiZmEifQogICAgICAgICAgICApOwogICAgICAgICAgICBtYXJrZXJfYTkzZDEwMDRkMmY4NGY3MGExMTY5ZDQ1ZDA3YmE4MzYuc2V0SWNvbihpY29uX2ZmMzhmMTBkNmU5MTRlZjZhOTQyOWRjODIxNjFmYTU4KTsKICAgICAgICAKICAgIAogICAgICAgICAgICB2YXIgbWFya2VyX2I2MGU0MTJkM2M5MDQ1MDA4MDA3MGU3ODFkNTEwNzE4ID0gTC5tYXJrZXIoCiAgICAgICAgICAgICAgICBbMzcuNzg2OTQyLCAtMTIyLjQwMTI0NV0sCiAgICAgICAgICAgICAgICB7fQogICAgICAgICAgICApLmFkZFRvKG1hcF9mNTJkYjMxZWU3Nzg0ZmQzODhmMjBmZjkyNGJjNDgxOCk7CiAgICAgICAgCiAgICAKICAgICAgICAgICAgdmFyIGljb25fMjU3ODdmNjdmYmJhNGFkMWFjODI0NDE4Y2QyNTUzZmEgPSBMLkF3ZXNvbWVNYXJrZXJzLmljb24oCiAgICAgICAgICAgICAgICB7ImV4dHJhQ2xhc3NlcyI6ICJmYS1yb3RhdGUtMCIsICJpY29uIjogImZvb2QiLCAiaWNvbkNvbG9yIjogIndoaXRlIiwgIm1hcmtlckNvbG9yIjogImJsdWUiLCAicHJlZml4IjogImZhIn0KICAgICAgICAgICAgKTsKICAgICAgICAgICAgbWFya2VyX2I2MGU0MTJkM2M5MDQ1MDA4MDA3MGU3ODFkNTEwNzE4LnNldEljb24oaWNvbl8yNTc4N2Y2N2ZiYmE0YWQxYWM4MjQ0MThjZDI1NTNmYSk7CiAgICAgICAgCiAgICAKICAgICAgICAgICAgdmFyIG1hcmtlcl8yZmI2N2EyYzc3Zjg0ZmE5OGFiMTRmYTU0YzQzZTM3MCA9IEwubWFya2VyKAogICAgICAgICAgICAgICAgWzM3Ljc4NzA5MiwgLTEyMi4zOTk5NzJdLAogICAgICAgICAgICAgICAge30KICAgICAgICAgICAgKS5hZGRUbyhtYXBfZjUyZGIzMWVlNzc4NGZkMzg4ZjIwZmY5MjRiYzQ4MTgpOwogICAgICAgIAogICAgCiAgICAgICAgICAgIHZhciBpY29uX2E1NjE5OGZiZDY4MzQ1NTlhZWY4MzRkYjYzZDI1YzIwID0gTC5Bd2Vzb21lTWFya2Vycy5pY29uKAogICAgICAgICAgICAgICAgeyJleHRyYUNsYXNzZXMiOiAiZmEtcm90YXRlLTAiLCAiaWNvbiI6ICJmb29kIiwgImljb25Db2xvciI6ICJ3aGl0ZSIsICJtYXJrZXJDb2xvciI6ICJibHVlIiwgInByZWZpeCI6ICJmYSJ9CiAgICAgICAgICAgICk7CiAgICAgICAgICAgIG1hcmtlcl8yZmI2N2EyYzc3Zjg0ZmE5OGFiMTRmYTU0YzQzZTM3MC5zZXRJY29uKGljb25fYTU2MTk4ZmJkNjgzNDU1OWFlZjgzNGRiNjNkMjVjMjApOwogICAgICAgIAogICAgCiAgICAgICAgICAgIHZhciBtYXJrZXJfYjI3NzViMDdmODFjNGZiN2FiNjMwY2VhNGUzZTQ2OTkgPSBMLm1hcmtlcigKICAgICAgICAgICAgICAgIFszNy43NjUxNTgsIC0xMjIuNDA0MjM0XSwKICAgICAgICAgICAgICAgIHt9CiAgICAgICAgICAgICkuYWRkVG8obWFwX2Y1MmRiMzFlZTc3ODRmZDM4OGYyMGZmOTI0YmM0ODE4KTsKICAgICAgICAKICAgIAogICAgICAgICAgICB2YXIgaWNvbl9kNjkzZDIwMWJlZjA0MGEzYTAwZDIwNjE0MjVjNTU0NCA9IEwuQXdlc29tZU1hcmtlcnMuaWNvbigKICAgICAgICAgICAgICAgIHsiZXh0cmFDbGFzc2VzIjogImZhLXJvdGF0ZS0wIiwgImljb24iOiAiZm9vZCIsICJpY29uQ29sb3IiOiAid2hpdGUiLCAibWFya2VyQ29sb3IiOiAiYmx1ZSIsICJwcmVmaXgiOiAiZmEifQogICAgICAgICAgICApOwogICAgICAgICAgICBtYXJrZXJfYjI3NzViMDdmODFjNGZiN2FiNjMwY2VhNGUzZTQ2OTkuc2V0SWNvbihpY29uX2Q2OTNkMjAxYmVmMDQwYTNhMDBkMjA2MTQyNWM1NTQ0KTsKICAgICAgICAKICAgIAogICAgICAgICAgICB2YXIgbWFya2VyXzU3NDc0ZjA2Y2U4NzRjNDdhOTFlNjkzNmJlY2UwM2VkID0gTC5tYXJrZXIoCiAgICAgICAgICAgICAgICBbMzcuNzg2OTQyLCAtMTIyLjQwMTI0NV0sCiAgICAgICAgICAgICAgICB7fQogICAgICAgICAgICApLmFkZFRvKG1hcF9mNTJkYjMxZWU3Nzg0ZmQzODhmMjBmZjkyNGJjNDgxOCk7CiAgICAgICAgCiAgICAKICAgICAgICAgICAgdmFyIGljb25fZmUxMGNmNzhhZTNmNDEyN2JmYzhhNDY2Njg4NjI2ZWIgPSBMLkF3ZXNvbWVNYXJrZXJzLmljb24oCiAgICAgICAgICAgICAgICB7ImV4dHJhQ2xhc3NlcyI6ICJmYS1yb3RhdGUtMCIsICJpY29uIjogImZvb2QiLCAiaWNvbkNvbG9yIjogIndoaXRlIiwgIm1hcmtlckNvbG9yIjogImJsdWUiLCAicHJlZml4IjogImZhIn0KICAgICAgICAgICAgKTsKICAgICAgICAgICAgbWFya2VyXzU3NDc0ZjA2Y2U4NzRjNDdhOTFlNjkzNmJlY2UwM2VkLnNldEljb24oaWNvbl9mZTEwY2Y3OGFlM2Y0MTI3YmZjOGE0NjY2ODg2MjZlYik7CiAgICAgICAgCiAgICAKICAgICAgICAgICAgdmFyIG1hcmtlcl9jNzU4NDY0NmQ1Mjc0MzMxOTQyNmFmNWU2M2Q4NTAyMyA9IEwubWFya2VyKAogICAgICAgICAgICAgICAgWzM3Ljc4NzA5MiwgLTEyMi4zOTk5NzJdLAogICAgICAgICAgICAgICAge30KICAgICAgICAgICAgKS5hZGRUbyhtYXBfZjUyZGIzMWVlNzc4NGZkMzg4ZjIwZmY5MjRiYzQ4MTgpOwogICAgICAgIAogICAgCiAgICAgICAgICAgIHZhciBpY29uX2UxNDhhZmIxMDE3ZTQwYTdhNzRkMzkzODhlOTZiYTI3ID0gTC5Bd2Vzb21lTWFya2Vycy5pY29uKAogICAgICAgICAgICAgICAgeyJleHRyYUNsYXNzZXMiOiAiZmEtcm90YXRlLTAiLCAiaWNvbiI6ICJmb29kIiwgImljb25Db2xvciI6ICJ3aGl0ZSIsICJtYXJrZXJDb2xvciI6ICJibHVlIiwgInByZWZpeCI6ICJmYSJ9CiAgICAgICAgICAgICk7CiAgICAgICAgICAgIG1hcmtlcl9jNzU4NDY0NmQ1Mjc0MzMxOTQyNmFmNWU2M2Q4NTAyMy5zZXRJY29uKGljb25fZTE0OGFmYjEwMTdlNDBhN2E3NGQzOTM4OGU5NmJhMjcpOwogICAgICAgIAogICAgCiAgICAgICAgICAgIHZhciBtYXJrZXJfODZmYWNhMmZlMDE5NDgzMzkyYmQwMTQwZWFkOWJlNjggPSBMLm1hcmtlcigKICAgICAgICAgICAgICAgIFszNy43ODcwOTIsIC0xMjIuMzk5OTcyXSwKICAgICAgICAgICAgICAgIHt9CiAgICAgICAgICAgICkuYWRkVG8obWFwX2Y1MmRiMzFlZTc3ODRmZDM4OGYyMGZmOTI0YmM0ODE4KTsKICAgICAgICAKICAgIAogICAgICAgICAgICB2YXIgaWNvbl9mZmQwZTNiNjQ2Nzc0YWY1ODA0MmFlMDEwOTFmM2UxYSA9IEwuQXdlc29tZU1hcmtlcnMuaWNvbigKICAgICAgICAgICAgICAgIHsiZXh0cmFDbGFzc2VzIjogImZhLXJvdGF0ZS0wIiwgImljb24iOiAiZm9vZCIsICJpY29uQ29sb3IiOiAid2hpdGUiLCAibWFya2VyQ29sb3IiOiAiYmx1ZSIsICJwcmVmaXgiOiAiZmEifQogICAgICAgICAgICApOwogICAgICAgICAgICBtYXJrZXJfODZmYWNhMmZlMDE5NDgzMzkyYmQwMTQwZWFkOWJlNjguc2V0SWNvbihpY29uX2ZmZDBlM2I2NDY3NzRhZjU4MDQyYWUwMTA5MWYzZTFhKTsKICAgICAgICAKICAgIAogICAgICAgICAgICB2YXIgbWFya2VyXzQ2NzU5MmI5YmVkMzRmM2U4NmVlYjIwZDE2MzE4ZDhlID0gTC5tYXJrZXIoCiAgICAgICAgICAgICAgICBbMzcuNzg2OTQyLCAtMTIyLjQwMTI0NV0sCiAgICAgICAgICAgICAgICB7fQogICAgICAgICAgICApLmFkZFRvKG1hcF9mNTJkYjMxZWU3Nzg0ZmQzODhmMjBmZjkyNGJjNDgxOCk7CiAgICAgICAgCiAgICAKICAgICAgICAgICAgdmFyIGljb25fODg3MjdhMTk5YjE4NDJiYzg0NmFmMTUwNTZlNDVjNDcgPSBMLkF3ZXNvbWVNYXJrZXJzLmljb24oCiAgICAgICAgICAgICAgICB7ImV4dHJhQ2xhc3NlcyI6ICJmYS1yb3RhdGUtMCIsICJpY29uIjogImZvb2QiLCAiaWNvbkNvbG9yIjogIndoaXRlIiwgIm1hcmtlckNvbG9yIjogImJsdWUiLCAicHJlZml4IjogImZhIn0KICAgICAgICAgICAgKTsKICAgICAgICAgICAgbWFya2VyXzQ2NzU5MmI5YmVkMzRmM2U4NmVlYjIwZDE2MzE4ZDhlLnNldEljb24oaWNvbl84ODcyN2ExOTliMTg0MmJjODQ2YWYxNTA1NmU0NWM0Nyk7CiAgICAgICAgCiAgICAKICAgICAgICAgICAgdmFyIG1hcmtlcl81Y2Q1ZmFjN2Q4Zjc0ZTIxOTgwNWIwZTRkMjk3N2M1NiA9IEwubWFya2VyKAogICAgICAgICAgICAgICAgWzM3Ljc2NTE1OCwgLTEyMi40MDQyMzRdLAogICAgICAgICAgICAgICAge30KICAgICAgICAgICAgKS5hZGRUbyhtYXBfZjUyZGIzMWVlNzc4NGZkMzg4ZjIwZmY5MjRiYzQ4MTgpOwogICAgICAgIAogICAgCiAgICAgICAgICAgIHZhciBpY29uXzBhOWI1ZjJjZDU4NjQzZDU5ZDdhNDk3ODYwZDE4ZGQ5ID0gTC5Bd2Vzb21lTWFya2Vycy5pY29uKAogICAgICAgICAgICAgICAgeyJleHRyYUNsYXNzZXMiOiAiZmEtcm90YXRlLTAiLCAiaWNvbiI6ICJmb29kIiwgImljb25Db2xvciI6ICJ3aGl0ZSIsICJtYXJrZXJDb2xvciI6ICJibHVlIiwgInByZWZpeCI6ICJmYSJ9CiAgICAgICAgICAgICk7CiAgICAgICAgICAgIG1hcmtlcl81Y2Q1ZmFjN2Q4Zjc0ZTIxOTgwNWIwZTRkMjk3N2M1Ni5zZXRJY29uKGljb25fMGE5YjVmMmNkNTg2NDNkNTlkN2E0OTc4NjBkMThkZDkpOwogICAgICAgIAogICAgCiAgICAgICAgICAgIHZhciBtYXJrZXJfODlkYjFjYWYzMzRkNDQ2ZWExNjcxMDJjYjUyZTExZjcgPSBMLm1hcmtlcigKICAgICAgICAgICAgICAgIFszNy43NjUxNTgsIC0xMjIuNDA0MjM0XSwKICAgICAgICAgICAgICAgIHt9CiAgICAgICAgICAgICkuYWRkVG8obWFwX2Y1MmRiMzFlZTc3ODRmZDM4OGYyMGZmOTI0YmM0ODE4KTsKICAgICAgICAKICAgIAogICAgICAgICAgICB2YXIgaWNvbl83MjkzNjZjYzQ5NGM0MzkyYTMzZWNjNWExMzhkNzc0MSA9IEwuQXdlc29tZU1hcmtlcnMuaWNvbigKICAgICAgICAgICAgICAgIHsiZXh0cmFDbGFzc2VzIjogImZhLXJvdGF0ZS0wIiwgImljb24iOiAiZm9vZCIsICJpY29uQ29sb3IiOiAid2hpdGUiLCAibWFya2VyQ29sb3IiOiAiYmx1ZSIsICJwcmVmaXgiOiAiZmEifQogICAgICAgICAgICApOwogICAgICAgICAgICBtYXJrZXJfODlkYjFjYWYzMzRkNDQ2ZWExNjcxMDJjYjUyZTExZjcuc2V0SWNvbihpY29uXzcyOTM2NmNjNDk0YzQzOTJhMzNlY2M1YTEzOGQ3NzQxKTsKICAgICAgICAKICAgIAogICAgICAgICAgICB2YXIgbWFya2VyX2E0ZmQ1NzYzMjJmNDRiZWI4NjZkZTIxYmEyOWJlZTRkID0gTC5tYXJrZXIoCiAgICAgICAgICAgICAgICBbMzcuNzY1MTU4LCAtMTIyLjQwNDIzNF0sCiAgICAgICAgICAgICAgICB7fQogICAgICAgICAgICApLmFkZFRvKG1hcF9mNTJkYjMxZWU3Nzg0ZmQzODhmMjBmZjkyNGJjNDgxOCk7CiAgICAgICAgCiAgICAKICAgICAgICAgICAgdmFyIGljb25fZTNmMzU1NDA4MjdjNDRmMDhlN2Q3MjNiNmRiNTFlMDAgPSBMLkF3ZXNvbWVNYXJrZXJzLmljb24oCiAgICAgICAgICAgICAgICB7ImV4dHJhQ2xhc3NlcyI6ICJmYS1yb3RhdGUtMCIsICJpY29uIjogImZvb2QiLCAiaWNvbkNvbG9yIjogIndoaXRlIiwgIm1hcmtlckNvbG9yIjogImJsdWUiLCAicHJlZml4IjogImZhIn0KICAgICAgICAgICAgKTsKICAgICAgICAgICAgbWFya2VyX2E0ZmQ1NzYzMjJmNDRiZWI4NjZkZTIxYmEyOWJlZTRkLnNldEljb24oaWNvbl9lM2YzNTU0MDgyN2M0NGYwOGU3ZDcyM2I2ZGI1MWUwMCk7CiAgICAgICAgCiAgICAKICAgICAgICAgICAgdmFyIG1hcmtlcl9lNmIyNzhiZTUyMDg0ZDViOTMzOTJkMTNlMDE3Njg3ZCA9IEwubWFya2VyKAogICAgICAgICAgICAgICAgWzM3Ljc4NzA5MiwgLTEyMi4zOTk5NzJdLAogICAgICAgICAgICAgICAge30KICAgICAgICAgICAgKS5hZGRUbyhtYXBfZjUyZGIzMWVlNzc4NGZkMzg4ZjIwZmY5MjRiYzQ4MTgpOwogICAgICAgIAogICAgCiAgICAgICAgICAgIHZhciBpY29uXzY5ODY4YmVhNDFhNjQyZmRhZTc0NGU0NDI4N2EyZmQ5ID0gTC5Bd2Vzb21lTWFya2Vycy5pY29uKAogICAgICAgICAgICAgICAgeyJleHRyYUNsYXNzZXMiOiAiZmEtcm90YXRlLTAiLCAiaWNvbiI6ICJmb29kIiwgImljb25Db2xvciI6ICJ3aGl0ZSIsICJtYXJrZXJDb2xvciI6ICJibHVlIiwgInByZWZpeCI6ICJmYSJ9CiAgICAgICAgICAgICk7CiAgICAgICAgICAgIG1hcmtlcl9lNmIyNzhiZTUyMDg0ZDViOTMzOTJkMTNlMDE3Njg3ZC5zZXRJY29uKGljb25fNjk4NjhiZWE0MWE2NDJmZGFlNzQ0ZTQ0Mjg3YTJmZDkpOwogICAgICAgIAogICAgCiAgICAgICAgICAgIHZhciBtYXJrZXJfMGYzMTMzNGFlYmRmNDMxNWI5ZTFmMGM3NTI4NmNhZDcgPSBMLm1hcmtlcigKICAgICAgICAgICAgICAgIFszNy43ODY5NDIsIC0xMjIuNDAxMjQ1XSwKICAgICAgICAgICAgICAgIHt9CiAgICAgICAgICAgICkuYWRkVG8obWFwX2Y1MmRiMzFlZTc3ODRmZDM4OGYyMGZmOTI0YmM0ODE4KTsKICAgICAgICAKICAgIAogICAgICAgICAgICB2YXIgaWNvbl80YTI2ZGFmMzA5ZDc0OGYxYmZkYjhjNmQwNzNjOTlhNiA9IEwuQXdlc29tZU1hcmtlcnMuaWNvbigKICAgICAgICAgICAgICAgIHsiZXh0cmFDbGFzc2VzIjogImZhLXJvdGF0ZS0wIiwgImljb24iOiAiZm9vZCIsICJpY29uQ29sb3IiOiAid2hpdGUiLCAibWFya2VyQ29sb3IiOiAiYmx1ZSIsICJwcmVmaXgiOiAiZmEifQogICAgICAgICAgICApOwogICAgICAgICAgICBtYXJrZXJfMGYzMTMzNGFlYmRmNDMxNWI5ZTFmMGM3NTI4NmNhZDcuc2V0SWNvbihpY29uXzRhMjZkYWYzMDlkNzQ4ZjFiZmRiOGM2ZDA3M2M5OWE2KTsKICAgICAgICAKICAgIAogICAgICAgICAgICB2YXIgbWFya2VyXzU3NTkzMzg5YTQ0ZDQwNGM5YmZhMTFlMTA0MmVmNTA3ID0gTC5tYXJrZXIoCiAgICAgICAgICAgICAgICBbMzcuNzY1MTU4LCAtMTIyLjQwNDIzNF0sCiAgICAgICAgICAgICAgICB7fQogICAgICAgICAgICApLmFkZFRvKG1hcF9mNTJkYjMxZWU3Nzg0ZmQzODhmMjBmZjkyNGJjNDgxOCk7CiAgICAgICAgCiAgICAKICAgICAgICAgICAgdmFyIGljb25fYmFiYWFhZWVjNWZmNDBhMjkwNzgxMTdmMDVjNzUxOWQgPSBMLkF3ZXNvbWVNYXJrZXJzLmljb24oCiAgICAgICAgICAgICAgICB7ImV4dHJhQ2xhc3NlcyI6ICJmYS1yb3RhdGUtMCIsICJpY29uIjogImZvb2QiLCAiaWNvbkNvbG9yIjogIndoaXRlIiwgIm1hcmtlckNvbG9yIjogImJsdWUiLCAicHJlZml4IjogImZhIn0KICAgICAgICAgICAgKTsKICAgICAgICAgICAgbWFya2VyXzU3NTkzMzg5YTQ0ZDQwNGM5YmZhMTFlMTA0MmVmNTA3LnNldEljb24oaWNvbl9iYWJhYWFlZWM1ZmY0MGEyOTA3ODExN2YwNWM3NTE5ZCk7CiAgICAgICAgCiAgICAKICAgICAgICAgICAgdmFyIG1hcmtlcl8xYzQzMGI4N2FmYTM0ODljOWY5NzllZTQ2NzJjYTlmNiA9IEwubWFya2VyKAogICAgICAgICAgICAgICAgWzM3Ljc4Njk0MiwgLTEyMi40MDEyNDVdLAogICAgICAgICAgICAgICAge30KICAgICAgICAgICAgKS5hZGRUbyhtYXBfZjUyZGIzMWVlNzc4NGZkMzg4ZjIwZmY5MjRiYzQ4MTgpOwogICAgICAgIAogICAgCiAgICAgICAgICAgIHZhciBpY29uXzAxZTVkYzg2MjU3ZjRhNDk5Y2MyZDBmYjY1MzQ4NGI2ID0gTC5Bd2Vzb21lTWFya2Vycy5pY29uKAogICAgICAgICAgICAgICAgeyJleHRyYUNsYXNzZXMiOiAiZmEtcm90YXRlLTAiLCAiaWNvbiI6ICJmb29kIiwgImljb25Db2xvciI6ICJ3aGl0ZSIsICJtYXJrZXJDb2xvciI6ICJibHVlIiwgInByZWZpeCI6ICJmYSJ9CiAgICAgICAgICAgICk7CiAgICAgICAgICAgIG1hcmtlcl8xYzQzMGI4N2FmYTM0ODljOWY5NzllZTQ2NzJjYTlmNi5zZXRJY29uKGljb25fMDFlNWRjODYyNTdmNGE0OTljYzJkMGZiNjUzNDg0YjYpOwogICAgICAgIAogICAgCiAgICAgICAgICAgIHZhciBtYXJrZXJfYjM4ZTYwOTRkNWNkNGE4YWI5MzcwMjBmMzgyY2FjZWIgPSBMLm1hcmtlcigKICAgICAgICAgICAgICAgIFszNy43ODcwOTIsIC0xMjIuMzk5OTcyXSwKICAgICAgICAgICAgICAgIHt9CiAgICAgICAgICAgICkuYWRkVG8obWFwX2Y1MmRiMzFlZTc3ODRmZDM4OGYyMGZmOTI0YmM0ODE4KTsKICAgICAgICAKICAgIAogICAgICAgICAgICB2YXIgaWNvbl9kNDA2MmVkYmFiZjc0MWE4OWQ3YzViM2M2Nzk1NjRjMyA9IEwuQXdlc29tZU1hcmtlcnMuaWNvbigKICAgICAgICAgICAgICAgIHsiZXh0cmFDbGFzc2VzIjogImZhLXJvdGF0ZS0wIiwgImljb24iOiAiZm9vZCIsICJpY29uQ29sb3IiOiAid2hpdGUiLCAibWFya2VyQ29sb3IiOiAiYmx1ZSIsICJwcmVmaXgiOiAiZmEifQogICAgICAgICAgICApOwogICAgICAgICAgICBtYXJrZXJfYjM4ZTYwOTRkNWNkNGE4YWI5MzcwMjBmMzgyY2FjZWIuc2V0SWNvbihpY29uX2Q0MDYyZWRiYWJmNzQxYTg5ZDdjNWIzYzY3OTU2NGMzKTsKICAgICAgICAKICAgIAogICAgICAgICAgICB2YXIgbWFya2VyX2M0MmVjMjg0MTM1YzQ3MjA4YmY1ZGNlZjg5NjhjNDI4ID0gTC5tYXJrZXIoCiAgICAgICAgICAgICAgICBbMzcuNzY1MTU4LCAtMTIyLjQwNDIzNF0sCiAgICAgICAgICAgICAgICB7fQogICAgICAgICAgICApLmFkZFRvKG1hcF9mNTJkYjMxZWU3Nzg0ZmQzODhmMjBmZjkyNGJjNDgxOCk7CiAgICAgICAgCiAgICAKICAgICAgICAgICAgdmFyIGljb25fOTU1ODc2ZTYxYjQ0NDIyNmJjNGVlYjFiZWZmZDg5NjcgPSBMLkF3ZXNvbWVNYXJrZXJzLmljb24oCiAgICAgICAgICAgICAgICB7ImV4dHJhQ2xhc3NlcyI6ICJmYS1yb3RhdGUtMCIsICJpY29uIjogImZvb2QiLCAiaWNvbkNvbG9yIjogIndoaXRlIiwgIm1hcmtlckNvbG9yIjogImJsdWUiLCAicHJlZml4IjogImZhIn0KICAgICAgICAgICAgKTsKICAgICAgICAgICAgbWFya2VyX2M0MmVjMjg0MTM1YzQ3MjA4YmY1ZGNlZjg5NjhjNDI4LnNldEljb24oaWNvbl85NTU4NzZlNjFiNDQ0MjI2YmM0ZWViMWJlZmZkODk2Nyk7CiAgICAgICAgCiAgICAKICAgICAgICAgICAgdmFyIG1hcmtlcl8wODk2YjhjZTQyZTI0Mjg0OTNkMDI0ODg4ODBhMTM1MiA9IEwubWFya2VyKAogICAgICAgICAgICAgICAgWzM3Ljc2NTE1OCwgLTEyMi40MDQyMzRdLAogICAgICAgICAgICAgICAge30KICAgICAgICAgICAgKS5hZGRUbyhtYXBfZjUyZGIzMWVlNzc4NGZkMzg4ZjIwZmY5MjRiYzQ4MTgpOwogICAgICAgIAogICAgCiAgICAgICAgICAgIHZhciBpY29uX2ZjMGIyMjY0YzhjODRhOGI5YjE0ODc4MjgwNjdmMTg3ID0gTC5Bd2Vzb21lTWFya2Vycy5pY29uKAogICAgICAgICAgICAgICAgeyJleHRyYUNsYXNzZXMiOiAiZmEtcm90YXRlLTAiLCAiaWNvbiI6ICJmb29kIiwgImljb25Db2xvciI6ICJ3aGl0ZSIsICJtYXJrZXJDb2xvciI6ICJibHVlIiwgInByZWZpeCI6ICJmYSJ9CiAgICAgICAgICAgICk7CiAgICAgICAgICAgIG1hcmtlcl8wODk2YjhjZTQyZTI0Mjg0OTNkMDI0ODg4ODBhMTM1Mi5zZXRJY29uKGljb25fZmMwYjIyNjRjOGM4NGE4YjliMTQ4NzgyODA2N2YxODcpOwogICAgICAgIAogICAgCiAgICAgICAgICAgIHZhciBtYXJrZXJfZTcwMmU5MGFhZTgzNGMzODk4NzM3M2YzZjcyMTQ2ZmMgPSBMLm1hcmtlcigKICAgICAgICAgICAgICAgIFszNy43ODY5NDIsIC0xMjIuNDAxMjQ1XSwKICAgICAgICAgICAgICAgIHt9CiAgICAgICAgICAgICkuYWRkVG8obWFwX2Y1MmRiMzFlZTc3ODRmZDM4OGYyMGZmOTI0YmM0ODE4KTsKICAgICAgICAKICAgIAogICAgICAgICAgICB2YXIgaWNvbl80MDVmMjk0YmQzMWI0NDFkYWEwMDFiMGUxODM5MDNmYiA9IEwuQXdlc29tZU1hcmtlcnMuaWNvbigKICAgICAgICAgICAgICAgIHsiZXh0cmFDbGFzc2VzIjogImZhLXJvdGF0ZS0wIiwgImljb24iOiAiZm9vZCIsICJpY29uQ29sb3IiOiAid2hpdGUiLCAibWFya2VyQ29sb3IiOiAiYmx1ZSIsICJwcmVmaXgiOiAiZmEifQogICAgICAgICAgICApOwogICAgICAgICAgICBtYXJrZXJfZTcwMmU5MGFhZTgzNGMzODk4NzM3M2YzZjcyMTQ2ZmMuc2V0SWNvbihpY29uXzQwNWYyOTRiZDMxYjQ0MWRhYTAwMWIwZTE4MzkwM2ZiKTsKICAgICAgICAKICAgIAogICAgICAgICAgICB2YXIgbWFya2VyXzBjODBhNWIwMmE4ZjQxMzdhM2IzMTRmYmJkMTBiNDhiID0gTC5tYXJrZXIoCiAgICAgICAgICAgICAgICBbMzcuNzg3MDkyLCAtMTIyLjM5OTk3Ml0sCiAgICAgICAgICAgICAgICB7fQogICAgICAgICAgICApLmFkZFRvKG1hcF9mNTJkYjMxZWU3Nzg0ZmQzODhmMjBmZjkyNGJjNDgxOCk7CiAgICAgICAgCiAgICAKICAgICAgICAgICAgdmFyIGljb25fNjdkM2FkNDAxZDc0NGJjN2JmYzI4YzcyZTk5NGRlMTAgPSBMLkF3ZXNvbWVNYXJrZXJzLmljb24oCiAgICAgICAgICAgICAgICB7ImV4dHJhQ2xhc3NlcyI6ICJmYS1yb3RhdGUtMCIsICJpY29uIjogImZvb2QiLCAiaWNvbkNvbG9yIjogIndoaXRlIiwgIm1hcmtlckNvbG9yIjogImJsdWUiLCAicHJlZml4IjogImZhIn0KICAgICAgICAgICAgKTsKICAgICAgICAgICAgbWFya2VyXzBjODBhNWIwMmE4ZjQxMzdhM2IzMTRmYmJkMTBiNDhiLnNldEljb24oaWNvbl82N2QzYWQ0MDFkNzQ0YmM3YmZjMjhjNzJlOTk0ZGUxMCk7CiAgICAgICAgCiAgICAKICAgICAgICAgICAgdmFyIG1hcmtlcl8xN2UzNjcyOGNjZWI0MDI3YWRjMTYyNWZmMmE5MzE0NyA9IEwubWFya2VyKAogICAgICAgICAgICAgICAgWzM3Ljc2NTE1OCwgLTEyMi40MDQyMzRdLAogICAgICAgICAgICAgICAge30KICAgICAgICAgICAgKS5hZGRUbyhtYXBfZjUyZGIzMWVlNzc4NGZkMzg4ZjIwZmY5MjRiYzQ4MTgpOwogICAgICAgIAogICAgCiAgICAgICAgICAgIHZhciBpY29uXzNjZjY5NTlkNTNhMzQ1NWNiYmIxNzc3ODc2MWJhZTQ5ID0gTC5Bd2Vzb21lTWFya2Vycy5pY29uKAogICAgICAgICAgICAgICAgeyJleHRyYUNsYXNzZXMiOiAiZmEtcm90YXRlLTAiLCAiaWNvbiI6ICJmb29kIiwgImljb25Db2xvciI6ICJ3aGl0ZSIsICJtYXJrZXJDb2xvciI6ICJibHVlIiwgInByZWZpeCI6ICJmYSJ9CiAgICAgICAgICAgICk7CiAgICAgICAgICAgIG1hcmtlcl8xN2UzNjcyOGNjZWI0MDI3YWRjMTYyNWZmMmE5MzE0Ny5zZXRJY29uKGljb25fM2NmNjk1OWQ1M2EzNDU1Y2JiYjE3Nzc4NzYxYmFlNDkpOwogICAgICAgIAogICAgCiAgICAgICAgICAgIHZhciBtYXJrZXJfY2MzN2MzYjA4NzM2NGIwOTk0ZTEwNjQ2ODVmYzdjNzQgPSBMLm1hcmtlcigKICAgICAgICAgICAgICAgIFszNy43ODY5NDIsIC0xMjIuNDAxMjQ1XSwKICAgICAgICAgICAgICAgIHt9CiAgICAgICAgICAgICkuYWRkVG8obWFwX2Y1MmRiMzFlZTc3ODRmZDM4OGYyMGZmOTI0YmM0ODE4KTsKICAgICAgICAKICAgIAogICAgICAgICAgICB2YXIgaWNvbl8yZjkyYzg2NDNkMDM0ZWEyYjFiZGFkYTFjNWM1NzU1OCA9IEwuQXdlc29tZU1hcmtlcnMuaWNvbigKICAgICAgICAgICAgICAgIHsiZXh0cmFDbGFzc2VzIjogImZhLXJvdGF0ZS0wIiwgImljb24iOiAiZm9vZCIsICJpY29uQ29sb3IiOiAid2hpdGUiLCAibWFya2VyQ29sb3IiOiAiYmx1ZSIsICJwcmVmaXgiOiAiZmEifQogICAgICAgICAgICApOwogICAgICAgICAgICBtYXJrZXJfY2MzN2MzYjA4NzM2NGIwOTk0ZTEwNjQ2ODVmYzdjNzQuc2V0SWNvbihpY29uXzJmOTJjODY0M2QwMzRlYTJiMWJkYWRhMWM1YzU3NTU4KTsKICAgICAgICAKICAgIAogICAgICAgICAgICB2YXIgbWFya2VyX2RhMmZiMGU3NmZjMDRlMzJiN2EzOTE4MGM0MzBmYmMwID0gTC5tYXJrZXIoCiAgICAgICAgICAgICAgICBbMzcuNzg3MDkyLCAtMTIyLjM5OTk3Ml0sCiAgICAgICAgICAgICAgICB7fQogICAgICAgICAgICApLmFkZFRvKG1hcF9mNTJkYjMxZWU3Nzg0ZmQzODhmMjBmZjkyNGJjNDgxOCk7CiAgICAgICAgCiAgICAKICAgICAgICAgICAgdmFyIGljb25fNjhlY2I3ZTYwOTc1NDc1Yzk0NGY2MDkxOWQ2MDY4ZDMgPSBMLkF3ZXNvbWVNYXJrZXJzLmljb24oCiAgICAgICAgICAgICAgICB7ImV4dHJhQ2xhc3NlcyI6ICJmYS1yb3RhdGUtMCIsICJpY29uIjogImZvb2QiLCAiaWNvbkNvbG9yIjogIndoaXRlIiwgIm1hcmtlckNvbG9yIjogImJsdWUiLCAicHJlZml4IjogImZhIn0KICAgICAgICAgICAgKTsKICAgICAgICAgICAgbWFya2VyX2RhMmZiMGU3NmZjMDRlMzJiN2EzOTE4MGM0MzBmYmMwLnNldEljb24oaWNvbl82OGVjYjdlNjA5NzU0NzVjOTQ0ZjYwOTE5ZDYwNjhkMyk7CiAgICAgICAgCiAgICAKICAgICAgICAgICAgdmFyIG1hcmtlcl8wZWJkN2MxM2MxNTQ0ZWE5YjE1OGYxNWJiMTkyZmZhOCA9IEwubWFya2VyKAogICAgICAgICAgICAgICAgWzM3Ljc4Njk0MiwgLTEyMi40MDEyNDVdLAogICAgICAgICAgICAgICAge30KICAgICAgICAgICAgKS5hZGRUbyhtYXBfZjUyZGIzMWVlNzc4NGZkMzg4ZjIwZmY5MjRiYzQ4MTgpOwogICAgICAgIAogICAgCiAgICAgICAgICAgIHZhciBpY29uXzcxZTE2MWI3Y2I1YjRmMGI4NWQxMjBmZmI0ODljMjA5ID0gTC5Bd2Vzb21lTWFya2Vycy5pY29uKAogICAgICAgICAgICAgICAgeyJleHRyYUNsYXNzZXMiOiAiZmEtcm90YXRlLTAiLCAiaWNvbiI6ICJmb29kIiwgImljb25Db2xvciI6ICJ3aGl0ZSIsICJtYXJrZXJDb2xvciI6ICJibHVlIiwgInByZWZpeCI6ICJmYSJ9CiAgICAgICAgICAgICk7CiAgICAgICAgICAgIG1hcmtlcl8wZWJkN2MxM2MxNTQ0ZWE5YjE1OGYxNWJiMTkyZmZhOC5zZXRJY29uKGljb25fNzFlMTYxYjdjYjViNGYwYjg1ZDEyMGZmYjQ4OWMyMDkpOwogICAgICAgIAogICAgCiAgICAgICAgICAgIHZhciBtYXJrZXJfODgwYTQwZTBiMTRmNGNlMjhmNzBmM2M2OWQ1MmRjZTIgPSBMLm1hcmtlcigKICAgICAgICAgICAgICAgIFszNy43ODcwOTIsIC0xMjIuMzk5OTcyXSwKICAgICAgICAgICAgICAgIHt9CiAgICAgICAgICAgICkuYWRkVG8obWFwX2Y1MmRiMzFlZTc3ODRmZDM4OGYyMGZmOTI0YmM0ODE4KTsKICAgICAgICAKICAgIAogICAgICAgICAgICB2YXIgaWNvbl8yNzE4N2I2ZTRhN2I0Y2JiYWM0MjNjZTlhYjJjYzczMSA9IEwuQXdlc29tZU1hcmtlcnMuaWNvbigKICAgICAgICAgICAgICAgIHsiZXh0cmFDbGFzc2VzIjogImZhLXJvdGF0ZS0wIiwgImljb24iOiAiZm9vZCIsICJpY29uQ29sb3IiOiAid2hpdGUiLCAibWFya2VyQ29sb3IiOiAiYmx1ZSIsICJwcmVmaXgiOiAiZmEifQogICAgICAgICAgICApOwogICAgICAgICAgICBtYXJrZXJfODgwYTQwZTBiMTRmNGNlMjhmNzBmM2M2OWQ1MmRjZTIuc2V0SWNvbihpY29uXzI3MTg3YjZlNGE3YjRjYmJhYzQyM2NlOWFiMmNjNzMxKTsKICAgICAgICAKICAgIAogICAgICAgICAgICB2YXIgbWFya2VyXzgzOGViZmZkNTA0MTRjNjFiYjA1ZDRlZmEwZmZjMDUzID0gTC5tYXJrZXIoCiAgICAgICAgICAgICAgICBbMzcuNzY1MTU4LCAtMTIyLjQwNDIzNF0sCiAgICAgICAgICAgICAgICB7fQogICAgICAgICAgICApLmFkZFRvKG1hcF9mNTJkYjMxZWU3Nzg0ZmQzODhmMjBmZjkyNGJjNDgxOCk7CiAgICAgICAgCiAgICAKICAgICAgICAgICAgdmFyIGljb25fYTE2ODQ3MjI3ZTc3NGIyODlhMDk2ZGMyOTE2Yzk2MzggPSBMLkF3ZXNvbWVNYXJrZXJzLmljb24oCiAgICAgICAgICAgICAgICB7ImV4dHJhQ2xhc3NlcyI6ICJmYS1yb3RhdGUtMCIsICJpY29uIjogImZvb2QiLCAiaWNvbkNvbG9yIjogIndoaXRlIiwgIm1hcmtlckNvbG9yIjogImJsdWUiLCAicHJlZml4IjogImZhIn0KICAgICAgICAgICAgKTsKICAgICAgICAgICAgbWFya2VyXzgzOGViZmZkNTA0MTRjNjFiYjA1ZDRlZmEwZmZjMDUzLnNldEljb24oaWNvbl9hMTY4NDcyMjdlNzc0YjI4OWEwOTZkYzI5MTZjOTYzOCk7CiAgICAgICAgCiAgICAKICAgICAgICAgICAgdmFyIG1hcmtlcl9lOWMwMjk1NDZmMTM0MDA1YjI3NmNmNzhiMWRjNmEzMiA9IEwubWFya2VyKAogICAgICAgICAgICAgICAgWzM3Ljc4Njk0MiwgLTEyMi40MDEyNDVdLAogICAgICAgICAgICAgICAge30KICAgICAgICAgICAgKS5hZGRUbyhtYXBfZjUyZGIzMWVlNzc4NGZkMzg4ZjIwZmY5MjRiYzQ4MTgpOwogICAgICAgIAogICAgCiAgICAgICAgICAgIHZhciBpY29uX2IzMjJmZWY0MTUyNTRhNWE5ZjEyNzgwYTRiNWJkN2NlID0gTC5Bd2Vzb21lTWFya2Vycy5pY29uKAogICAgICAgICAgICAgICAgeyJleHRyYUNsYXNzZXMiOiAiZmEtcm90YXRlLTAiLCAiaWNvbiI6ICJmb29kIiwgImljb25Db2xvciI6ICJ3aGl0ZSIsICJtYXJrZXJDb2xvciI6ICJibHVlIiwgInByZWZpeCI6ICJmYSJ9CiAgICAgICAgICAgICk7CiAgICAgICAgICAgIG1hcmtlcl9lOWMwMjk1NDZmMTM0MDA1YjI3NmNmNzhiMWRjNmEzMi5zZXRJY29uKGljb25fYjMyMmZlZjQxNTI1NGE1YTlmMTI3ODBhNGI1YmQ3Y2UpOwogICAgICAgIAogICAgCiAgICAgICAgICAgIHZhciBtYXJrZXJfZWYzODdjNjM0MzRkNDhhMTgwOWZiMTgwMzAzODY3NTIgPSBMLm1hcmtlcigKICAgICAgICAgICAgICAgIFszNy43ODcwOTIsIC0xMjIuMzk5OTcyXSwKICAgICAgICAgICAgICAgIHt9CiAgICAgICAgICAgICkuYWRkVG8obWFwX2Y1MmRiMzFlZTc3ODRmZDM4OGYyMGZmOTI0YmM0ODE4KTsKICAgICAgICAKICAgIAogICAgICAgICAgICB2YXIgaWNvbl8yNjI3MjMxZjM3NGQ0OGZhOTQwM2Q3YTZmYmJhYWM2OSA9IEwuQXdlc29tZU1hcmtlcnMuaWNvbigKICAgICAgICAgICAgICAgIHsiZXh0cmFDbGFzc2VzIjogImZhLXJvdGF0ZS0wIiwgImljb24iOiAiZm9vZCIsICJpY29uQ29sb3IiOiAid2hpdGUiLCAibWFya2VyQ29sb3IiOiAiYmx1ZSIsICJwcmVmaXgiOiAiZmEifQogICAgICAgICAgICApOwogICAgICAgICAgICBtYXJrZXJfZWYzODdjNjM0MzRkNDhhMTgwOWZiMTgwMzAzODY3NTIuc2V0SWNvbihpY29uXzI2MjcyMzFmMzc0ZDQ4ZmE5NDAzZDdhNmZiYmFhYzY5KTsKICAgICAgICAKICAgIAogICAgICAgICAgICB2YXIgbWFya2VyXzY4M2ViYmI5MzhhNTRjZGU5YmFmZTNmOWI0ZTE1ZjAyID0gTC5tYXJrZXIoCiAgICAgICAgICAgICAgICBbMzcuNzY1MTU4LCAtMTIyLjQwNDIzNF0sCiAgICAgICAgICAgICAgICB7fQogICAgICAgICAgICApLmFkZFRvKG1hcF9mNTJkYjMxZWU3Nzg0ZmQzODhmMjBmZjkyNGJjNDgxOCk7CiAgICAgICAgCiAgICAKICAgICAgICAgICAgdmFyIGljb25fOGQyY2Q4MTViNjM1NDM1NDk5Y2NjMDYyMTYwOGY4NTUgPSBMLkF3ZXNvbWVNYXJrZXJzLmljb24oCiAgICAgICAgICAgICAgICB7ImV4dHJhQ2xhc3NlcyI6ICJmYS1yb3RhdGUtMCIsICJpY29uIjogImZvb2QiLCAiaWNvbkNvbG9yIjogIndoaXRlIiwgIm1hcmtlckNvbG9yIjogImJsdWUiLCAicHJlZml4IjogImZhIn0KICAgICAgICAgICAgKTsKICAgICAgICAgICAgbWFya2VyXzY4M2ViYmI5MzhhNTRjZGU5YmFmZTNmOWI0ZTE1ZjAyLnNldEljb24oaWNvbl84ZDJjZDgxNWI2MzU0MzU0OTljY2MwNjIxNjA4Zjg1NSk7CiAgICAgICAgCiAgICAKICAgICAgICAgICAgdmFyIG1hcmtlcl82MTY1MDZiMzZiZGI0YTIyOGFmNTgzODkwYjA3OGJlNSA9IEwubWFya2VyKAogICAgICAgICAgICAgICAgWzM3Ljc4Njk0MiwgLTEyMi40MDEyNDVdLAogICAgICAgICAgICAgICAge30KICAgICAgICAgICAgKS5hZGRUbyhtYXBfZjUyZGIzMWVlNzc4NGZkMzg4ZjIwZmY5MjRiYzQ4MTgpOwogICAgICAgIAogICAgCiAgICAgICAgICAgIHZhciBpY29uX2MzOTEyNDNjMTRmMDQzNWU5MDJhMGUxMmNiMDM1NzZjID0gTC5Bd2Vzb21lTWFya2Vycy5pY29uKAogICAgICAgICAgICAgICAgeyJleHRyYUNsYXNzZXMiOiAiZmEtcm90YXRlLTAiLCAiaWNvbiI6ICJmb29kIiwgImljb25Db2xvciI6ICJ3aGl0ZSIsICJtYXJrZXJDb2xvciI6ICJibHVlIiwgInByZWZpeCI6ICJmYSJ9CiAgICAgICAgICAgICk7CiAgICAgICAgICAgIG1hcmtlcl82MTY1MDZiMzZiZGI0YTIyOGFmNTgzODkwYjA3OGJlNS5zZXRJY29uKGljb25fYzM5MTI0M2MxNGYwNDM1ZTkwMmEwZTEyY2IwMzU3NmMpOwogICAgICAgIAogICAgCiAgICAgICAgICAgIHZhciBtYXJrZXJfZWNiM2FlNjU3YmM2NDcwZWI3Nzc3NzA1ZWI2ZjMxMGMgPSBMLm1hcmtlcigKICAgICAgICAgICAgICAgIFszNy43ODcwOTIsIC0xMjIuMzk5OTcyXSwKICAgICAgICAgICAgICAgIHt9CiAgICAgICAgICAgICkuYWRkVG8obWFwX2Y1MmRiMzFlZTc3ODRmZDM4OGYyMGZmOTI0YmM0ODE4KTsKICAgICAgICAKICAgIAogICAgICAgICAgICB2YXIgaWNvbl8yMzY2NDc1MzAyNjM0YzZhOTUwZjU5ZGE5Mjg4OGU5YSA9IEwuQXdlc29tZU1hcmtlcnMuaWNvbigKICAgICAgICAgICAgICAgIHsiZXh0cmFDbGFzc2VzIjogImZhLXJvdGF0ZS0wIiwgImljb24iOiAiZm9vZCIsICJpY29uQ29sb3IiOiAid2hpdGUiLCAibWFya2VyQ29sb3IiOiAiYmx1ZSIsICJwcmVmaXgiOiAiZmEifQogICAgICAgICAgICApOwogICAgICAgICAgICBtYXJrZXJfZWNiM2FlNjU3YmM2NDcwZWI3Nzc3NzA1ZWI2ZjMxMGMuc2V0SWNvbihpY29uXzIzNjY0NzUzMDI2MzRjNmE5NTBmNTlkYTkyODg4ZTlhKTsKICAgICAgICAKICAgIAogICAgICAgICAgICB2YXIgbWFya2VyX2I5N2QxZmE1MmJlYjRkNDlhN2YwNDA2ZDQ2MTA0MWJiID0gTC5tYXJrZXIoCiAgICAgICAgICAgICAgICBbMzcuNzY1MTU4LCAtMTIyLjQwNDIzNF0sCiAgICAgICAgICAgICAgICB7fQogICAgICAgICAgICApLmFkZFRvKG1hcF9mNTJkYjMxZWU3Nzg0ZmQzODhmMjBmZjkyNGJjNDgxOCk7CiAgICAgICAgCiAgICAKICAgICAgICAgICAgdmFyIGljb25fYWQ4OWFiZGIxNjg4NDViYjliMGEyYTIwMjkzYWI0MDQgPSBMLkF3ZXNvbWVNYXJrZXJzLmljb24oCiAgICAgICAgICAgICAgICB7ImV4dHJhQ2xhc3NlcyI6ICJmYS1yb3RhdGUtMCIsICJpY29uIjogImZvb2QiLCAiaWNvbkNvbG9yIjogIndoaXRlIiwgIm1hcmtlckNvbG9yIjogImJsdWUiLCAicHJlZml4IjogImZhIn0KICAgICAgICAgICAgKTsKICAgICAgICAgICAgbWFya2VyX2I5N2QxZmE1MmJlYjRkNDlhN2YwNDA2ZDQ2MTA0MWJiLnNldEljb24oaWNvbl9hZDg5YWJkYjE2ODg0NWJiOWIwYTJhMjAyOTNhYjQwNCk7CiAgICAgICAgCiAgICAKICAgICAgICAgICAgdmFyIG1hcmtlcl8xMTg2YzZkMDJhZDQ0NGM1ODIxZjY5ZDZhMjI3NjNiOSA9IEwubWFya2VyKAogICAgICAgICAgICAgICAgWzM3Ljc4Njk0MiwgLTEyMi40MDEyNDVdLAogICAgICAgICAgICAgICAge30KICAgICAgICAgICAgKS5hZGRUbyhtYXBfZjUyZGIzMWVlNzc4NGZkMzg4ZjIwZmY5MjRiYzQ4MTgpOwogICAgICAgIAogICAgCiAgICAgICAgICAgIHZhciBpY29uXzc2ODk5NTAwMWM1NjRlMjRhMDdjYTMxZmNlMTM5MDY5ID0gTC5Bd2Vzb21lTWFya2Vycy5pY29uKAogICAgICAgICAgICAgICAgeyJleHRyYUNsYXNzZXMiOiAiZmEtcm90YXRlLTAiLCAiaWNvbiI6ICJmb29kIiwgImljb25Db2xvciI6ICJ3aGl0ZSIsICJtYXJrZXJDb2xvciI6ICJibHVlIiwgInByZWZpeCI6ICJmYSJ9CiAgICAgICAgICAgICk7CiAgICAgICAgICAgIG1hcmtlcl8xMTg2YzZkMDJhZDQ0NGM1ODIxZjY5ZDZhMjI3NjNiOS5zZXRJY29uKGljb25fNzY4OTk1MDAxYzU2NGUyNGEwN2NhMzFmY2UxMzkwNjkpOwogICAgICAgIAogICAgCiAgICAgICAgICAgIHZhciBtYXJrZXJfYWIzNmU4NTA5Yzk0NDViZWI4ZjZjZGNhZTM4NTMyMTUgPSBMLm1hcmtlcigKICAgICAgICAgICAgICAgIFszNy43ODcwOTIsIC0xMjIuMzk5OTcyXSwKICAgICAgICAgICAgICAgIHt9CiAgICAgICAgICAgICkuYWRkVG8obWFwX2Y1MmRiMzFlZTc3ODRmZDM4OGYyMGZmOTI0YmM0ODE4KTsKICAgICAgICAKICAgIAogICAgICAgICAgICB2YXIgaWNvbl84ZGNmZDc1MTcxZTY0MzkyOTk4YTBjOTU1ZmRmMjQwOSA9IEwuQXdlc29tZU1hcmtlcnMuaWNvbigKICAgICAgICAgICAgICAgIHsiZXh0cmFDbGFzc2VzIjogImZhLXJvdGF0ZS0wIiwgImljb24iOiAiZm9vZCIsICJpY29uQ29sb3IiOiAid2hpdGUiLCAibWFya2VyQ29sb3IiOiAiYmx1ZSIsICJwcmVmaXgiOiAiZmEifQogICAgICAgICAgICApOwogICAgICAgICAgICBtYXJrZXJfYWIzNmU4NTA5Yzk0NDViZWI4ZjZjZGNhZTM4NTMyMTUuc2V0SWNvbihpY29uXzhkY2ZkNzUxNzFlNjQzOTI5OThhMGM5NTVmZGYyNDA5KTsKICAgICAgICAKICAgIAogICAgICAgICAgICB2YXIgbWFya2VyX2U5OWM1Njg4NzA0YTQxNzI4MGQ4MTAyMWQ5NGQ2NmFhID0gTC5tYXJrZXIoCiAgICAgICAgICAgICAgICBbMzcuNzY1MTU4LCAtMTIyLjQwNDIzNF0sCiAgICAgICAgICAgICAgICB7fQogICAgICAgICAgICApLmFkZFRvKG1hcF9mNTJkYjMxZWU3Nzg0ZmQzODhmMjBmZjkyNGJjNDgxOCk7CiAgICAgICAgCiAgICAKICAgICAgICAgICAgdmFyIGljb25fODhhYWQ5MzExMWI0NGQwN2EzZDgxNTUyZTE5NTk0YTAgPSBMLkF3ZXNvbWVNYXJrZXJzLmljb24oCiAgICAgICAgICAgICAgICB7ImV4dHJhQ2xhc3NlcyI6ICJmYS1yb3RhdGUtMCIsICJpY29uIjogImZvb2QiLCAiaWNvbkNvbG9yIjogIndoaXRlIiwgIm1hcmtlckNvbG9yIjogImJsdWUiLCAicHJlZml4IjogImZhIn0KICAgICAgICAgICAgKTsKICAgICAgICAgICAgbWFya2VyX2U5OWM1Njg4NzA0YTQxNzI4MGQ4MTAyMWQ5NGQ2NmFhLnNldEljb24oaWNvbl84OGFhZDkzMTExYjQ0ZDA3YTNkODE1NTJlMTk1OTRhMCk7CiAgICAgICAgCiAgICAKICAgICAgICAgICAgdmFyIG1hcmtlcl8zZTZhNGE1MDk3OTY0ZGRiOWVmOTUyYjY4MzdjODU0MiA9IEwubWFya2VyKAogICAgICAgICAgICAgICAgWzM3Ljc4Njk0MiwgLTEyMi40MDEyNDVdLAogICAgICAgICAgICAgICAge30KICAgICAgICAgICAgKS5hZGRUbyhtYXBfZjUyZGIzMWVlNzc4NGZkMzg4ZjIwZmY5MjRiYzQ4MTgpOwogICAgICAgIAogICAgCiAgICAgICAgICAgIHZhciBpY29uX2Q0YWM3NDI0ODhlZTRmZTJiYzZlNTQ2ZmUwNTVkMjE0ID0gTC5Bd2Vzb21lTWFya2Vycy5pY29uKAogICAgICAgICAgICAgICAgeyJleHRyYUNsYXNzZXMiOiAiZmEtcm90YXRlLTAiLCAiaWNvbiI6ICJmb29kIiwgImljb25Db2xvciI6ICJ3aGl0ZSIsICJtYXJrZXJDb2xvciI6ICJibHVlIiwgInByZWZpeCI6ICJmYSJ9CiAgICAgICAgICAgICk7CiAgICAgICAgICAgIG1hcmtlcl8zZTZhNGE1MDk3OTY0ZGRiOWVmOTUyYjY4MzdjODU0Mi5zZXRJY29uKGljb25fZDRhYzc0MjQ4OGVlNGZlMmJjNmU1NDZmZTA1NWQyMTQpOwogICAgICAgIAogICAgCiAgICAgICAgICAgIHZhciBtYXJrZXJfYTdkOWJkNWVlNmM5NGU5OTk3NzAyZGNjMmNiZWFmNjAgPSBMLm1hcmtlcigKICAgICAgICAgICAgICAgIFszNy43ODcwOTIsIC0xMjIuMzk5OTcyXSwKICAgICAgICAgICAgICAgIHt9CiAgICAgICAgICAgICkuYWRkVG8obWFwX2Y1MmRiMzFlZTc3ODRmZDM4OGYyMGZmOTI0YmM0ODE4KTsKICAgICAgICAKICAgIAogICAgICAgICAgICB2YXIgaWNvbl9mMzhiZjdiNjQxZTE0ZTUxYTEwNTQ2M2Y4YWZkNzU0NiA9IEwuQXdlc29tZU1hcmtlcnMuaWNvbigKICAgICAgICAgICAgICAgIHsiZXh0cmFDbGFzc2VzIjogImZhLXJvdGF0ZS0wIiwgImljb24iOiAiZm9vZCIsICJpY29uQ29sb3IiOiAid2hpdGUiLCAibWFya2VyQ29sb3IiOiAiYmx1ZSIsICJwcmVmaXgiOiAiZmEifQogICAgICAgICAgICApOwogICAgICAgICAgICBtYXJrZXJfYTdkOWJkNWVlNmM5NGU5OTk3NzAyZGNjMmNiZWFmNjAuc2V0SWNvbihpY29uX2YzOGJmN2I2NDFlMTRlNTFhMTA1NDYzZjhhZmQ3NTQ2KTsKICAgICAgICAKICAgIAogICAgICAgICAgICB2YXIgbWFya2VyXzEwZjlhNmM1MTZlZDQ1MzliNzdmOTAwYWRmNDk3MTE3ID0gTC5tYXJrZXIoCiAgICAgICAgICAgICAgICBbMzcuNzY1MTU4LCAtMTIyLjQwNDIzNF0sCiAgICAgICAgICAgICAgICB7fQogICAgICAgICAgICApLmFkZFRvKG1hcF9mNTJkYjMxZWU3Nzg0ZmQzODhmMjBmZjkyNGJjNDgxOCk7CiAgICAgICAgCiAgICAKICAgICAgICAgICAgdmFyIGljb25fZmI2N2VmMjcyZWVjNDcyM2I4MTgzN2FmMzIwYWI2NGYgPSBMLkF3ZXNvbWVNYXJrZXJzLmljb24oCiAgICAgICAgICAgICAgICB7ImV4dHJhQ2xhc3NlcyI6ICJmYS1yb3RhdGUtMCIsICJpY29uIjogImZvb2QiLCAiaWNvbkNvbG9yIjogIndoaXRlIiwgIm1hcmtlckNvbG9yIjogImJsdWUiLCAicHJlZml4IjogImZhIn0KICAgICAgICAgICAgKTsKICAgICAgICAgICAgbWFya2VyXzEwZjlhNmM1MTZlZDQ1MzliNzdmOTAwYWRmNDk3MTE3LnNldEljb24oaWNvbl9mYjY3ZWYyNzJlZWM0NzIzYjgxODM3YWYzMjBhYjY0Zik7CiAgICAgICAgCjwvc2NyaXB0Pg== onload=\"this.contentDocument.open();this.contentDocument.write(atob(this.getAttribute('data-html')));this.contentDocument.close();\" allowfullscreen webkitallowfullscreen mozallowfullscreen></iframe></div></div>"
      ],
      "text/plain": [
       "<folium.folium.Map at 0x11faa1970>"
      ]
     },
     "execution_count": 176,
     "metadata": {},
     "output_type": "execute_result"
    }
   ],
   "source": [
    "m = Map([37.787092,-122.399972],zoom_start=3)\n",
    "for i, row in nightclubs_close.iterrows():\n",
    "     \n",
    "    icon = Icon(\n",
    "                color=\"red\",\n",
    "                prefix=\"fa\",\n",
    "                icon=\"trophy\"\n",
    "            )\n",
    "   \n",
    "    icon = Icon(\n",
    "                color=\"blue\",\n",
    "                prefix=\"fa\",\n",
    "                icon=\"food\"\n",
    "            )\n",
    "    Marker(\n",
    "        location=row[[\"latitude\",\"longitude\"]],\n",
    "        icon=icon\n",
    "    ).add_to(m)\n",
    "m"
   ]
  },
  {
   "cell_type": "code",
   "execution_count": null,
   "metadata": {},
   "outputs": [],
   "source": []
  }
 ],
 "metadata": {
  "kernelspec": {
   "display_name": "Python 3",
   "language": "python",
   "name": "python3"
  },
  "language_info": {
   "codemirror_mode": {
    "name": "ipython",
    "version": 3
   },
   "file_extension": ".py",
   "mimetype": "text/x-python",
   "name": "python",
   "nbconvert_exporter": "python",
   "pygments_lexer": "ipython3",
   "version": "3.8.2"
  }
 },
 "nbformat": 4,
 "nbformat_minor": 4
}
